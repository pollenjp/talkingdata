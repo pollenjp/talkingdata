{
 "cells": [
  {
   "cell_type": "markdown",
   "metadata": {
    "toc": true
   },
   "source": [
    "<h1>Table of Contents<span class=\"tocSkip\"></span></h1>\n",
    "<div class=\"toc\"><ul class=\"toc-item\"><li><span><a href=\"#Setting\" data-toc-modified-id=\"Setting-1\"><span class=\"toc-item-num\">1&nbsp;&nbsp;</span>Setting</a></span><ul class=\"toc-item\"><li><span><a href=\"#Path\" data-toc-modified-id=\"Path-1.1\"><span class=\"toc-item-num\">1.1&nbsp;&nbsp;</span>Path</a></span></li><li><span><a href=\"#dtype\" data-toc-modified-id=\"dtype-1.2\"><span class=\"toc-item-num\">1.2&nbsp;&nbsp;</span>dtype</a></span></li><li><span><a href=\"#read_csv\" data-toc-modified-id=\"read_csv-1.3\"><span class=\"toc-item-num\">1.3&nbsp;&nbsp;</span>read_csv</a></span></li></ul></li><li><span><a href=\"#時間単位に丸める\" data-toc-modified-id=\"時間単位に丸める-2\"><span class=\"toc-item-num\">2&nbsp;&nbsp;</span>時間単位に丸める</a></span></li><li><span><a href=\"#Datetime\" data-toc-modified-id=\"Datetime-3\"><span class=\"toc-item-num\">3&nbsp;&nbsp;</span>Datetime</a></span><ul class=\"toc-item\"><li><span><a href=\"#click-counts\" data-toc-modified-id=\"click-counts-3.1\"><span class=\"toc-item-num\">3.1&nbsp;&nbsp;</span>click counts</a></span><ul class=\"toc-item\"><li><span><a href=\"#plot\" data-toc-modified-id=\"plot-3.1.1\"><span class=\"toc-item-num\">3.1.1&nbsp;&nbsp;</span>plot</a></span></li></ul></li><li><span><a href=\"#prop_downloaded\" data-toc-modified-id=\"prop_downloaded-3.2\"><span class=\"toc-item-num\">3.2&nbsp;&nbsp;</span>prop_downloaded</a></span><ul class=\"toc-item\"><li><span><a href=\"#plot\" data-toc-modified-id=\"plot-3.2.1\"><span class=\"toc-item-num\">3.2.1&nbsp;&nbsp;</span>plot</a></span></li></ul></li></ul></li><li><span><a href=\"#time\" data-toc-modified-id=\"time-4\"><span class=\"toc-item-num\">4&nbsp;&nbsp;</span>time</a></span><ul class=\"toc-item\"><li><span><a href=\"#click\" data-toc-modified-id=\"click-4.1\"><span class=\"toc-item-num\">4.1&nbsp;&nbsp;</span>click</a></span><ul class=\"toc-item\"><li><span><a href=\"#plot\" data-toc-modified-id=\"plot-4.1.1\"><span class=\"toc-item-num\">4.1.1&nbsp;&nbsp;</span>plot</a></span></li></ul></li><li><span><a href=\"#prop_downloaded\" data-toc-modified-id=\"prop_downloaded-4.2\"><span class=\"toc-item-num\">4.2&nbsp;&nbsp;</span>prop_downloaded</a></span><ul class=\"toc-item\"><li><span><a href=\"#plot\" data-toc-modified-id=\"plot-4.2.1\"><span class=\"toc-item-num\">4.2.1&nbsp;&nbsp;</span>plot</a></span></li></ul></li></ul></li><li><span><a href=\"#IP\" data-toc-modified-id=\"IP-5\"><span class=\"toc-item-num\">5&nbsp;&nbsp;</span>IP</a></span><ul class=\"toc-item\"><li><ul class=\"toc-item\"><li><span><a href=\"#proportion\" data-toc-modified-id=\"proportion-5.0.1\"><span class=\"toc-item-num\">5.0.1&nbsp;&nbsp;</span>proportion</a></span><ul class=\"toc-item\"><li><span><a href=\"#load-proportion\" data-toc-modified-id=\"load-proportion-5.0.1.1\"><span class=\"toc-item-num\">5.0.1.1&nbsp;&nbsp;</span>load proportion</a></span></li></ul></li><li><span><a href=\"#counts\" data-toc-modified-id=\"counts-5.0.2\"><span class=\"toc-item-num\">5.0.2&nbsp;&nbsp;</span>counts</a></span><ul class=\"toc-item\"><li><span><a href=\"#load-counts\" data-toc-modified-id=\"load-counts-5.0.2.1\"><span class=\"toc-item-num\">5.0.2.1&nbsp;&nbsp;</span>load counts</a></span></li></ul></li><li><span><a href=\"#Head\" data-toc-modified-id=\"Head-5.0.3\"><span class=\"toc-item-num\">5.0.3&nbsp;&nbsp;</span>Head</a></span></li></ul></li><li><span><a href=\"#Merge\" data-toc-modified-id=\"Merge-5.1\"><span class=\"toc-item-num\">5.1&nbsp;&nbsp;</span>Merge</a></span></li><li><span><a href=\"#Plot\" data-toc-modified-id=\"Plot-5.2\"><span class=\"toc-item-num\">5.2&nbsp;&nbsp;</span>Plot</a></span></li></ul></li></ul></div>"
   ]
  },
  {
   "cell_type": "markdown",
   "metadata": {},
   "source": [
    "# eda_with_dask__time_pattern <a class='tocSkip'>"
   ]
  },
  {
   "cell_type": "code",
   "execution_count": 1,
   "metadata": {},
   "outputs": [],
   "source": [
    "import os\n",
    "import numpy as np\n",
    "import pandas as pd\n",
    "from pathlib import Path\n",
    "import matplotlib.pyplot as plt\n",
    "import seaborn as sns\n",
    "\n",
    "import gc\n",
    "import dask.dataframe as dd\n",
    "\n",
    "%matplotlib inline"
   ]
  },
  {
   "cell_type": "markdown",
   "metadata": {},
   "source": [
    "# Setting"
   ]
  },
  {
   "cell_type": "markdown",
   "metadata": {},
   "source": [
    "## Path"
   ]
  },
  {
   "cell_type": "code",
   "execution_count": 2,
   "metadata": {},
   "outputs": [
    {
     "name": "stdout",
     "output_type": "stream",
     "text": [
      "True\n",
      "/home/sugihiro/workdir/git/bitbucket/learning_kaggle/TalkingData_AdTracking_Fraud_Detection_Challenge\n",
      "True\n",
      "/home/sugihiro/workdir/git/bitbucket/learning_kaggle/TalkingData_AdTracking_Fraud_Detection_Challenge/data\n",
      "True\n",
      "/home/sugihiro/workdir/git/bitbucket/learning_kaggle/TalkingData_AdTracking_Fraud_Detection_Challenge/data/raw\n",
      "True\n",
      "/home/sugihiro/workdir/git/bitbucket/learning_kaggle/TalkingData_AdTracking_Fraud_Detection_Challenge/data/raw/train.csv\n",
      "True\n",
      "/home/sugihiro/workdir/git/bitbucket/learning_kaggle/TalkingData_AdTracking_Fraud_Detection_Challenge/data/raw/train_sample.csv\n",
      "True\n",
      "/home/sugihiro/workdir/git/bitbucket/learning_kaggle/TalkingData_AdTracking_Fraud_Detection_Challenge/data/raw/test.csv\n",
      "True\n",
      "/home/sugihiro/workdir/git/bitbucket/learning_kaggle/TalkingData_AdTracking_Fraud_Detection_Challenge/data/interim\n"
     ]
    }
   ],
   "source": [
    "HOME_PATH = Path(os.getcwd()).parent\n",
    "dire = str(HOME_PATH)\n",
    "print(os.path.exists(dire))\n",
    "print(dire)\n",
    "    \n",
    "data_Path = HOME_PATH / \"data\"\n",
    "dire = str(data_Path)\n",
    "print(os.path.exists(dire))\n",
    "print(dire)\n",
    "\n",
    "raw_data_Path = data_Path / \"raw\"\n",
    "dire = str(raw_data_Path)\n",
    "print(os.path.exists(dire))\n",
    "print(dire)\n",
    "\n",
    "train_csv_Path = raw_data_Path / \"train.csv\"\n",
    "dire = str(train_csv_Path)\n",
    "print(os.path.exists(dire))\n",
    "print(dire)\n",
    "\n",
    "train_sample_csv_Path = raw_data_Path / \"train_sample.csv\"\n",
    "dire = str(train_sample_csv_Path)\n",
    "print(os.path.exists(dire))\n",
    "print(dire)\n",
    "\n",
    "test_csv_Path = raw_data_Path / \"test.csv\"\n",
    "dire = str(test_csv_Path)\n",
    "print(os.path.exists(dire))\n",
    "print(dire)\n",
    "\n",
    "interim_data_Path = data_Path / \"interim\"\n",
    "dire = str(interim_data_Path)\n",
    "print(os.path.exists(dire))\n",
    "print(dire)\n"
   ]
  },
  {
   "cell_type": "markdown",
   "metadata": {},
   "source": [
    "## dtype"
   ]
  },
  {
   "cell_type": "code",
   "execution_count": 3,
   "metadata": {},
   "outputs": [],
   "source": [
    "dtypes = {\n",
    "    \"ip\" : \"uint32\",\n",
    "    \"app\" : \"uint16\",\n",
    "    \"device\" : \"uint16\",\n",
    "    \"os\" : \"uint16\",\n",
    "    \"channel\" : \"uint16\",\n",
    "    \"is_attributed\" : \"uint8\",\n",
    "}"
   ]
  },
  {
   "cell_type": "markdown",
   "metadata": {},
   "source": [
    "## read_csv\n",
    "必要最低限のdata型を指定してやるとメモリを節約ができるのでここでもちゃんと指定しています。\n",
    "読み込んでいます。"
   ]
  },
  {
   "cell_type": "code",
   "execution_count": 4,
   "metadata": {},
   "outputs": [],
   "source": [
    "df_train = dd.read_csv(urlpath=str(train_csv_Path),\n",
    "                       #blocksize=3*64000000,\n",
    "                       dtype=dtypes,\n",
    "                       parse_dates=[\"click_time\", \"attributed_time\"],\n",
    "                      )"
   ]
  },
  {
   "cell_type": "code",
   "execution_count": 5,
   "metadata": {},
   "outputs": [
    {
     "data": {
      "text/html": [
       "<div>\n",
       "<style scoped>\n",
       "    .dataframe tbody tr th:only-of-type {\n",
       "        vertical-align: middle;\n",
       "    }\n",
       "\n",
       "    .dataframe tbody tr th {\n",
       "        vertical-align: top;\n",
       "    }\n",
       "\n",
       "    .dataframe thead th {\n",
       "        text-align: right;\n",
       "    }\n",
       "</style>\n",
       "<table border=\"1\" class=\"dataframe\">\n",
       "  <thead>\n",
       "    <tr style=\"text-align: right;\">\n",
       "      <th></th>\n",
       "      <th>ip</th>\n",
       "      <th>app</th>\n",
       "      <th>device</th>\n",
       "      <th>os</th>\n",
       "      <th>channel</th>\n",
       "      <th>click_time</th>\n",
       "      <th>attributed_time</th>\n",
       "      <th>is_attributed</th>\n",
       "    </tr>\n",
       "  </thead>\n",
       "  <tbody>\n",
       "    <tr>\n",
       "      <th>0</th>\n",
       "      <td>83230</td>\n",
       "      <td>3</td>\n",
       "      <td>1</td>\n",
       "      <td>13</td>\n",
       "      <td>379</td>\n",
       "      <td>2017-11-06 14:32:21</td>\n",
       "      <td>NaT</td>\n",
       "      <td>0</td>\n",
       "    </tr>\n",
       "    <tr>\n",
       "      <th>1</th>\n",
       "      <td>17357</td>\n",
       "      <td>3</td>\n",
       "      <td>1</td>\n",
       "      <td>19</td>\n",
       "      <td>379</td>\n",
       "      <td>2017-11-06 14:33:34</td>\n",
       "      <td>NaT</td>\n",
       "      <td>0</td>\n",
       "    </tr>\n",
       "    <tr>\n",
       "      <th>2</th>\n",
       "      <td>35810</td>\n",
       "      <td>3</td>\n",
       "      <td>1</td>\n",
       "      <td>13</td>\n",
       "      <td>379</td>\n",
       "      <td>2017-11-06 14:34:12</td>\n",
       "      <td>NaT</td>\n",
       "      <td>0</td>\n",
       "    </tr>\n",
       "    <tr>\n",
       "      <th>3</th>\n",
       "      <td>45745</td>\n",
       "      <td>14</td>\n",
       "      <td>1</td>\n",
       "      <td>13</td>\n",
       "      <td>478</td>\n",
       "      <td>2017-11-06 14:34:52</td>\n",
       "      <td>NaT</td>\n",
       "      <td>0</td>\n",
       "    </tr>\n",
       "    <tr>\n",
       "      <th>4</th>\n",
       "      <td>161007</td>\n",
       "      <td>3</td>\n",
       "      <td>1</td>\n",
       "      <td>13</td>\n",
       "      <td>379</td>\n",
       "      <td>2017-11-06 14:35:08</td>\n",
       "      <td>NaT</td>\n",
       "      <td>0</td>\n",
       "    </tr>\n",
       "  </tbody>\n",
       "</table>\n",
       "</div>"
      ],
      "text/plain": [
       "       ip  app  device  os  channel          click_time attributed_time  \\\n",
       "0   83230    3       1  13      379 2017-11-06 14:32:21             NaT   \n",
       "1   17357    3       1  19      379 2017-11-06 14:33:34             NaT   \n",
       "2   35810    3       1  13      379 2017-11-06 14:34:12             NaT   \n",
       "3   45745   14       1  13      478 2017-11-06 14:34:52             NaT   \n",
       "4  161007    3       1  13      379 2017-11-06 14:35:08             NaT   \n",
       "\n",
       "   is_attributed  \n",
       "0              0  \n",
       "1              0  \n",
       "2              0  \n",
       "3              0  \n",
       "4              0  "
      ]
     },
     "execution_count": 5,
     "metadata": {},
     "output_type": "execute_result"
    }
   ],
   "source": [
    "df_train.head()"
   ]
  },
  {
   "cell_type": "code",
   "execution_count": 6,
   "metadata": {},
   "outputs": [
    {
     "data": {
      "text/plain": [
       "118"
      ]
     },
     "execution_count": 6,
     "metadata": {},
     "output_type": "execute_result"
    }
   ],
   "source": [
    "# 118個に分割されていることがわかります。\n",
    "df_train.npartitions"
   ]
  },
  {
   "cell_type": "markdown",
   "metadata": {},
   "source": [
    "# 時間単位に丸める\n",
    "最も近い時間に丸める"
   ]
  },
  {
   "cell_type": "code",
   "execution_count": 7,
   "metadata": {},
   "outputs": [],
   "source": [
    "df_train[\"click_rnd\"] = df_train[\"click_time\"].dt.round('H')"
   ]
  },
  {
   "cell_type": "code",
   "execution_count": 8,
   "metadata": {},
   "outputs": [
    {
     "data": {
      "text/plain": [
       "Index(['ip', 'app', 'device', 'os', 'channel', 'click_time', 'attributed_time',\n",
       "       'is_attributed', 'click_rnd'],\n",
       "      dtype='object')"
      ]
     },
     "execution_count": 8,
     "metadata": {},
     "output_type": "execute_result"
    }
   ],
   "source": [
    "df_train.columns"
   ]
  },
  {
   "cell_type": "markdown",
   "metadata": {},
   "source": [
    "# Datetime\n",
    "\n",
    "日付と時刻（時間単位）に対するクリック数"
   ]
  },
  {
   "cell_type": "code",
   "execution_count": 9,
   "metadata": {},
   "outputs": [],
   "source": [
    "section = \"datetime\""
   ]
  },
  {
   "cell_type": "markdown",
   "metadata": {},
   "source": [
    "## click counts"
   ]
  },
  {
   "cell_type": "code",
   "execution_count": 10,
   "metadata": {},
   "outputs": [],
   "source": [
    "fea = \"click_rnd\""
   ]
  },
  {
   "cell_type": "code",
   "execution_count": 53,
   "metadata": {},
   "outputs": [],
   "source": [
    "click_counts = df_train[[fea,\"is_attributed\"]].groupby(by=fea).count().reset_index()\n",
    "click_counts.columns = [fea, \"click_counts\"]"
   ]
  },
  {
   "cell_type": "code",
   "execution_count": 11,
   "metadata": {},
   "outputs": [
    {
     "data": {
      "text/html": [
       "<div>\n",
       "<style scoped>\n",
       "    .dataframe tbody tr th:only-of-type {\n",
       "        vertical-align: middle;\n",
       "    }\n",
       "\n",
       "    .dataframe tbody tr th {\n",
       "        vertical-align: top;\n",
       "    }\n",
       "\n",
       "    .dataframe thead th {\n",
       "        text-align: right;\n",
       "    }\n",
       "</style>\n",
       "<table border=\"1\" class=\"dataframe\">\n",
       "  <thead>\n",
       "    <tr style=\"text-align: right;\">\n",
       "      <th></th>\n",
       "      <th>click_rnd</th>\n",
       "      <th>is_attributed</th>\n",
       "    </tr>\n",
       "  </thead>\n",
       "  <tbody>\n",
       "    <tr>\n",
       "      <th>0</th>\n",
       "      <td>2017-11-06 15:00:00</td>\n",
       "      <td>83</td>\n",
       "    </tr>\n",
       "    <tr>\n",
       "      <th>1</th>\n",
       "      <td>2017-11-06 16:00:00</td>\n",
       "      <td>1312093</td>\n",
       "    </tr>\n",
       "    <tr>\n",
       "      <th>2</th>\n",
       "      <td>2017-11-06 17:00:00</td>\n",
       "      <td>1728211</td>\n",
       "    </tr>\n",
       "    <tr>\n",
       "      <th>3</th>\n",
       "      <td>2017-11-06 18:00:00</td>\n",
       "      <td>943727</td>\n",
       "    </tr>\n",
       "    <tr>\n",
       "      <th>4</th>\n",
       "      <td>2017-11-06 19:00:00</td>\n",
       "      <td>599021</td>\n",
       "    </tr>\n",
       "  </tbody>\n",
       "</table>\n",
       "</div>"
      ],
      "text/plain": [
       "            click_rnd  is_attributed\n",
       "0 2017-11-06 15:00:00             83\n",
       "1 2017-11-06 16:00:00        1312093\n",
       "2 2017-11-06 17:00:00        1728211\n",
       "3 2017-11-06 18:00:00         943727\n",
       "4 2017-11-06 19:00:00         599021"
      ]
     },
     "execution_count": 11,
     "metadata": {},
     "output_type": "execute_result"
    }
   ],
   "source": [
    "click_counts.head()"
   ]
  },
  {
   "cell_type": "code",
   "execution_count": 54,
   "metadata": {},
   "outputs": [
    {
     "name": "stdout",
     "output_type": "stream",
     "text": [
      "CPU times: user 7min 31s, sys: 27.6 s, total: 7min 58s\n",
      "Wall time: 4min 38s\n"
     ]
    },
    {
     "data": {
      "text/plain": [
       "['/home/sugihiro/workdir/git/bitbucket/learning_kaggle/TalkingData_AdTracking_Fraud_Detection_Challenge/data/interim/train_datetimeclick_rnd__click_counts-0.csv']"
      ]
     },
     "execution_count": 54,
     "metadata": {},
     "output_type": "execute_result"
    }
   ],
   "source": [
    "%%time\n",
    "# save\n",
    "click_counts.to_csv(filename=str(interim_data_Path / (\"train_\" + section + fea+\"_\" + \"_click_counts-*.csv\")),\n",
    "                    index=False,\n",
    "                   )"
   ]
  },
  {
   "cell_type": "markdown",
   "metadata": {},
   "source": [
    "### plot"
   ]
  },
  {
   "cell_type": "code",
   "execution_count": 56,
   "metadata": {},
   "outputs": [],
   "source": [
    "click_counts = pd.read_csv(filepath_or_buffer=str(interim_data_Path / (\"train_\" + section + fea+\"_\" + \"_click_counts-0.csv\")),\n",
    "                           index_col=0,\n",
    "                           parse_dates=[fea],\n",
    "                          )"
   ]
  },
  {
   "cell_type": "code",
   "execution_count": 57,
   "metadata": {},
   "outputs": [
    {
     "data": {
      "text/html": [
       "<div>\n",
       "<style scoped>\n",
       "    .dataframe tbody tr th:only-of-type {\n",
       "        vertical-align: middle;\n",
       "    }\n",
       "\n",
       "    .dataframe tbody tr th {\n",
       "        vertical-align: top;\n",
       "    }\n",
       "\n",
       "    .dataframe thead th {\n",
       "        text-align: right;\n",
       "    }\n",
       "</style>\n",
       "<table border=\"1\" class=\"dataframe\">\n",
       "  <thead>\n",
       "    <tr style=\"text-align: right;\">\n",
       "      <th></th>\n",
       "      <th>click_counts</th>\n",
       "    </tr>\n",
       "    <tr>\n",
       "      <th>click_rnd</th>\n",
       "      <th></th>\n",
       "    </tr>\n",
       "  </thead>\n",
       "  <tbody>\n",
       "    <tr>\n",
       "      <th>2017-11-06 15:00:00</th>\n",
       "      <td>83</td>\n",
       "    </tr>\n",
       "    <tr>\n",
       "      <th>2017-11-06 16:00:00</th>\n",
       "      <td>1312093</td>\n",
       "    </tr>\n",
       "    <tr>\n",
       "      <th>2017-11-06 17:00:00</th>\n",
       "      <td>1728211</td>\n",
       "    </tr>\n",
       "    <tr>\n",
       "      <th>2017-11-06 18:00:00</th>\n",
       "      <td>943727</td>\n",
       "    </tr>\n",
       "    <tr>\n",
       "      <th>2017-11-06 19:00:00</th>\n",
       "      <td>599021</td>\n",
       "    </tr>\n",
       "  </tbody>\n",
       "</table>\n",
       "</div>"
      ],
      "text/plain": [
       "                     click_counts\n",
       "click_rnd                        \n",
       "2017-11-06 15:00:00            83\n",
       "2017-11-06 16:00:00       1312093\n",
       "2017-11-06 17:00:00       1728211\n",
       "2017-11-06 18:00:00        943727\n",
       "2017-11-06 19:00:00        599021"
      ]
     },
     "execution_count": 57,
     "metadata": {},
     "output_type": "execute_result"
    }
   ],
   "source": [
    "click_counts.head()"
   ]
  },
  {
   "cell_type": "code",
   "execution_count": 58,
   "metadata": {},
   "outputs": [
    {
     "data": {
      "image/png": "[encoded data removed]",
      "text/plain": [
       "<matplotlib.figure.Figure at 0x7ff8a70e30b8>"
      ]
     },
     "metadata": {},
     "output_type": "display_data"
    }
   ],
   "source": [
    "# plot\n",
    "title = section + \"_\" + fea + \"_click_counts\"\n",
    "\n",
    "fig = plt.figure(figsize=(15, 6))\n",
    "ax1 = fig.add_subplot(1, 1, 1)\n",
    "click_counts[[\"click_counts\"]].plot(ax=ax1)\n",
    "ax1.set_ylabel(ylabel=\"click_counts\")\n",
    "ax1.set_xlabel(xlabel=\"datetime\")\n",
    "\n",
    "ax1.set_title(label=title)\n",
    "fig.savefig(fname=str(data_Path / \"plot\" / title))"
   ]
  },
  {
   "cell_type": "markdown",
   "metadata": {},
   "source": [
    "## prop_downloaded"
   ]
  },
  {
   "cell_type": "code",
   "execution_count": 11,
   "metadata": {},
   "outputs": [],
   "source": [
    "prop_downloaded = df_train[[fea,\"is_attributed\"]].groupby(by=fea).mean().reset_index()"
   ]
  },
  {
   "cell_type": "code",
   "execution_count": 12,
   "metadata": {},
   "outputs": [],
   "source": [
    "prop_downloaded.columns = [fea, \"prop_downloaded\"]"
   ]
  },
  {
   "cell_type": "code",
   "execution_count": 13,
   "metadata": {},
   "outputs": [
    {
     "data": {
      "text/html": [
       "<div>\n",
       "<style scoped>\n",
       "    .dataframe tbody tr th:only-of-type {\n",
       "        vertical-align: middle;\n",
       "    }\n",
       "\n",
       "    .dataframe tbody tr th {\n",
       "        vertical-align: top;\n",
       "    }\n",
       "\n",
       "    .dataframe thead th {\n",
       "        text-align: right;\n",
       "    }\n",
       "</style>\n",
       "<table border=\"1\" class=\"dataframe\">\n",
       "  <thead>\n",
       "    <tr style=\"text-align: right;\">\n",
       "      <th></th>\n",
       "      <th>click_rnd</th>\n",
       "      <th>prop_downloaded</th>\n",
       "    </tr>\n",
       "  </thead>\n",
       "  <tbody>\n",
       "    <tr>\n",
       "      <th>0</th>\n",
       "      <td>2017-11-06 15:00:00</td>\n",
       "      <td>0.000000</td>\n",
       "    </tr>\n",
       "    <tr>\n",
       "      <th>1</th>\n",
       "      <td>2017-11-06 16:00:00</td>\n",
       "      <td>0.001713</td>\n",
       "    </tr>\n",
       "    <tr>\n",
       "      <th>2</th>\n",
       "      <td>2017-11-06 17:00:00</td>\n",
       "      <td>0.001695</td>\n",
       "    </tr>\n",
       "    <tr>\n",
       "      <th>3</th>\n",
       "      <td>2017-11-06 18:00:00</td>\n",
       "      <td>0.001837</td>\n",
       "    </tr>\n",
       "    <tr>\n",
       "      <th>4</th>\n",
       "      <td>2017-11-06 19:00:00</td>\n",
       "      <td>0.001873</td>\n",
       "    </tr>\n",
       "  </tbody>\n",
       "</table>\n",
       "</div>"
      ],
      "text/plain": [
       "            click_rnd  prop_downloaded\n",
       "0 2017-11-06 15:00:00         0.000000\n",
       "1 2017-11-06 16:00:00         0.001713\n",
       "2 2017-11-06 17:00:00         0.001695\n",
       "3 2017-11-06 18:00:00         0.001837\n",
       "4 2017-11-06 19:00:00         0.001873"
      ]
     },
     "execution_count": 13,
     "metadata": {},
     "output_type": "execute_result"
    }
   ],
   "source": [
    "prop_downloaded.head()"
   ]
  },
  {
   "cell_type": "code",
   "execution_count": 14,
   "metadata": {},
   "outputs": [
    {
     "name": "stdout",
     "output_type": "stream",
     "text": [
      "CPU times: user 7min 12s, sys: 26.1 s, total: 7min 38s\n",
      "Wall time: 4min 27s\n"
     ]
    },
    {
     "data": {
      "text/plain": [
       "['/home/sugihiro/workdir/git/bitbucket/learning_kaggle/TalkingData_AdTracking_Fraud_Detection_Challenge/data/interim/train_datetime_click_rnd_isAttributed_proportion-0.csv']"
      ]
     },
     "execution_count": 14,
     "metadata": {},
     "output_type": "execute_result"
    }
   ],
   "source": [
    "%%time\n",
    "# save\n",
    "prop_downloaded.to_csv(filename=str(interim_data_Path / (\"train_\"+section+\"_\"+fea+\"_isAttributed_proportion-*.csv\")),\n",
    "                       index=False,\n",
    "                      )"
   ]
  },
  {
   "cell_type": "markdown",
   "metadata": {},
   "source": [
    "### plot"
   ]
  },
  {
   "cell_type": "code",
   "execution_count": 15,
   "metadata": {},
   "outputs": [],
   "source": [
    "prop_downloaded = pd.read_csv(filepath_or_buffer=str(interim_data_Path / (\"train_\"+section+\"_\"+fea+\"_isAttributed_proportion-0.csv\")),\n",
    "                              index_col=0,\n",
    "                              parse_dates=[fea],\n",
    "                             )"
   ]
  },
  {
   "cell_type": "code",
   "execution_count": 16,
   "metadata": {},
   "outputs": [
    {
     "data": {
      "text/html": [
       "<div>\n",
       "<style scoped>\n",
       "    .dataframe tbody tr th:only-of-type {\n",
       "        vertical-align: middle;\n",
       "    }\n",
       "\n",
       "    .dataframe tbody tr th {\n",
       "        vertical-align: top;\n",
       "    }\n",
       "\n",
       "    .dataframe thead th {\n",
       "        text-align: right;\n",
       "    }\n",
       "</style>\n",
       "<table border=\"1\" class=\"dataframe\">\n",
       "  <thead>\n",
       "    <tr style=\"text-align: right;\">\n",
       "      <th></th>\n",
       "      <th>prop_downloaded</th>\n",
       "    </tr>\n",
       "    <tr>\n",
       "      <th>click_rnd</th>\n",
       "      <th></th>\n",
       "    </tr>\n",
       "  </thead>\n",
       "  <tbody>\n",
       "    <tr>\n",
       "      <th>2017-11-06 15:00:00</th>\n",
       "      <td>0.000000</td>\n",
       "    </tr>\n",
       "    <tr>\n",
       "      <th>2017-11-06 16:00:00</th>\n",
       "      <td>0.001713</td>\n",
       "    </tr>\n",
       "    <tr>\n",
       "      <th>2017-11-06 17:00:00</th>\n",
       "      <td>0.001695</td>\n",
       "    </tr>\n",
       "    <tr>\n",
       "      <th>2017-11-06 18:00:00</th>\n",
       "      <td>0.001837</td>\n",
       "    </tr>\n",
       "    <tr>\n",
       "      <th>2017-11-06 19:00:00</th>\n",
       "      <td>0.001873</td>\n",
       "    </tr>\n",
       "  </tbody>\n",
       "</table>\n",
       "</div>"
      ],
      "text/plain": [
       "                     prop_downloaded\n",
       "click_rnd                           \n",
       "2017-11-06 15:00:00         0.000000\n",
       "2017-11-06 16:00:00         0.001713\n",
       "2017-11-06 17:00:00         0.001695\n",
       "2017-11-06 18:00:00         0.001837\n",
       "2017-11-06 19:00:00         0.001873"
      ]
     },
     "execution_count": 16,
     "metadata": {},
     "output_type": "execute_result"
    }
   ],
   "source": [
    "prop_downloaded.head()"
   ]
  },
  {
   "cell_type": "code",
   "execution_count": 20,
   "metadata": {},
   "outputs": [
    {
     "data": {
      "image/png": "[encoded data removed]",
      "text/plain": [
       "<matplotlib.figure.Figure at 0x7fcabcffc8d0>"
      ]
     },
     "metadata": {},
     "output_type": "display_data"
    }
   ],
   "source": [
    "# plot\n",
    "title = section + \"_\" + fea + \"_prop_downloaded\"\n",
    "\n",
    "fig = plt.figure(figsize=(15, 6))\n",
    "ax1 = fig.add_subplot(1, 1, 1)\n",
    "prop_downloaded[[\"prop_downloaded\"]].plot(ax=ax1)\n",
    "ax1.set_ylabel(ylabel=\"prop_downloaded\")\n",
    "ax1.set_xlabel(xlabel=\"datetime\")\n",
    "\n",
    "ax1.set_title(label=title)\n",
    "fig.savefig(fname=str(data_Path / \"plot\" / title))"
   ]
  },
  {
   "cell_type": "markdown",
   "metadata": {},
   "source": [
    "# time\n",
    "\n",
    "時刻（時間単位）に対するクリック数"
   ]
  },
  {
   "cell_type": "code",
   "execution_count": 21,
   "metadata": {},
   "outputs": [],
   "source": [
    "section = \"time\""
   ]
  },
  {
   "cell_type": "markdown",
   "metadata": {},
   "source": [
    "## click"
   ]
  },
  {
   "cell_type": "code",
   "execution_count": 22,
   "metadata": {},
   "outputs": [],
   "source": [
    "fea = \"click_hour\""
   ]
  },
  {
   "cell_type": "code",
   "execution_count": 23,
   "metadata": {},
   "outputs": [],
   "source": [
    "# 時間単位に丸める\n",
    "df_train[fea]=df_train[\"click_time\"].dt.hour"
   ]
  },
  {
   "cell_type": "code",
   "execution_count": 38,
   "metadata": {},
   "outputs": [
    {
     "data": {
      "text/plain": [
       "184903890"
      ]
     },
     "execution_count": 38,
     "metadata": {},
     "output_type": "execute_result"
    }
   ],
   "source": [
    "len(df_train)"
   ]
  },
  {
   "cell_type": "code",
   "execution_count": 48,
   "metadata": {},
   "outputs": [],
   "source": [
    "click_counts = df_train[[fea,\"is_attributed\"]].groupby(by=fea).count().reset_index()\n",
    "click_counts.columns = [fea, \"click_counts\"]"
   ]
  },
  {
   "cell_type": "code",
   "execution_count": 49,
   "metadata": {},
   "outputs": [
    {
     "data": {
      "text/html": [
       "<div>\n",
       "<style scoped>\n",
       "    .dataframe tbody tr th:only-of-type {\n",
       "        vertical-align: middle;\n",
       "    }\n",
       "\n",
       "    .dataframe tbody tr th {\n",
       "        vertical-align: top;\n",
       "    }\n",
       "\n",
       "    .dataframe thead th {\n",
       "        text-align: right;\n",
       "    }\n",
       "</style>\n",
       "<table border=\"1\" class=\"dataframe\">\n",
       "  <thead>\n",
       "    <tr style=\"text-align: right;\">\n",
       "      <th></th>\n",
       "      <th>click_hour</th>\n",
       "      <th>click_counts</th>\n",
       "    </tr>\n",
       "  </thead>\n",
       "  <tbody>\n",
       "    <tr>\n",
       "      <th>0</th>\n",
       "      <td>14</td>\n",
       "      <td>10281823</td>\n",
       "    </tr>\n",
       "    <tr>\n",
       "      <th>1</th>\n",
       "      <td>15</td>\n",
       "      <td>9226735</td>\n",
       "    </tr>\n",
       "    <tr>\n",
       "      <th>2</th>\n",
       "      <td>16</td>\n",
       "      <td>7078571</td>\n",
       "    </tr>\n",
       "    <tr>\n",
       "      <th>3</th>\n",
       "      <td>17</td>\n",
       "      <td>3913808</td>\n",
       "    </tr>\n",
       "    <tr>\n",
       "      <th>4</th>\n",
       "      <td>18</td>\n",
       "      <td>2258912</td>\n",
       "    </tr>\n",
       "  </tbody>\n",
       "</table>\n",
       "</div>"
      ],
      "text/plain": [
       "   click_hour  click_counts\n",
       "0          14      10281823\n",
       "1          15       9226735\n",
       "2          16       7078571\n",
       "3          17       3913808\n",
       "4          18       2258912"
      ]
     },
     "execution_count": 49,
     "metadata": {},
     "output_type": "execute_result"
    }
   ],
   "source": [
    "click_counts.head()"
   ]
  },
  {
   "cell_type": "code",
   "execution_count": 39,
   "metadata": {
    "scrolled": true
   },
   "outputs": [
    {
     "data": {
      "text/plain": [
       "24"
      ]
     },
     "execution_count": 39,
     "metadata": {},
     "output_type": "execute_result"
    }
   ],
   "source": [
    "len(click_counts)"
   ]
  },
  {
   "cell_type": "code",
   "execution_count": null,
   "metadata": {},
   "outputs": [],
   "source": [
    "click_counts.nlargest(n=24, columns=fea).head()"
   ]
  },
  {
   "cell_type": "code",
   "execution_count": null,
   "metadata": {},
   "outputs": [],
   "source": []
  },
  {
   "cell_type": "code",
   "execution_count": 26,
   "metadata": {},
   "outputs": [
    {
     "name": "stdout",
     "output_type": "stream",
     "text": [
      "CPU times: user 7min 14s, sys: 27.5 s, total: 7min 42s\n",
      "Wall time: 4min 27s\n"
     ]
    },
    {
     "data": {
      "text/plain": [
       "['/home/sugihiro/workdir/git/bitbucket/learning_kaggle/TalkingData_AdTracking_Fraud_Detection_Challenge/data/interim/train_timeclick_hour__click_counts-0.csv']"
      ]
     },
     "execution_count": 26,
     "metadata": {},
     "output_type": "execute_result"
    }
   ],
   "source": [
    "%%time\n",
    "# save\n",
    "click_counts.to_csv(filename=str(interim_data_Path / (\"train_\" + section + fea+\"_\" + \"_click_counts-*.csv\")),\n",
    "                    index=False,\n",
    "                   )"
   ]
  },
  {
   "cell_type": "markdown",
   "metadata": {},
   "source": [
    "### plot"
   ]
  },
  {
   "cell_type": "code",
   "execution_count": 40,
   "metadata": {},
   "outputs": [],
   "source": [
    "click_counts = pd.read_csv(filepath_or_buffer=str(interim_data_Path / (\"train_\" + section + fea+\"_\" + \"_click_counts-0.csv\")),\n",
    "                           index_col=0,\n",
    "                           parse_dates=[fea],\n",
    "                          )"
   ]
  },
  {
   "cell_type": "code",
   "execution_count": 28,
   "metadata": {},
   "outputs": [
    {
     "data": {
      "text/html": [
       "<div>\n",
       "<style scoped>\n",
       "    .dataframe tbody tr th:only-of-type {\n",
       "        vertical-align: middle;\n",
       "    }\n",
       "\n",
       "    .dataframe tbody tr th {\n",
       "        vertical-align: top;\n",
       "    }\n",
       "\n",
       "    .dataframe thead th {\n",
       "        text-align: right;\n",
       "    }\n",
       "</style>\n",
       "<table border=\"1\" class=\"dataframe\">\n",
       "  <thead>\n",
       "    <tr style=\"text-align: right;\">\n",
       "      <th></th>\n",
       "      <th>click_counts</th>\n",
       "    </tr>\n",
       "    <tr>\n",
       "      <th>click_hour</th>\n",
       "      <th></th>\n",
       "    </tr>\n",
       "  </thead>\n",
       "  <tbody>\n",
       "    <tr>\n",
       "      <th>14</th>\n",
       "      <td>10281823</td>\n",
       "    </tr>\n",
       "    <tr>\n",
       "      <th>15</th>\n",
       "      <td>9226735</td>\n",
       "    </tr>\n",
       "    <tr>\n",
       "      <th>16</th>\n",
       "      <td>7078571</td>\n",
       "    </tr>\n",
       "    <tr>\n",
       "      <th>17</th>\n",
       "      <td>3913808</td>\n",
       "    </tr>\n",
       "    <tr>\n",
       "      <th>18</th>\n",
       "      <td>2258912</td>\n",
       "    </tr>\n",
       "  </tbody>\n",
       "</table>\n",
       "</div>"
      ],
      "text/plain": [
       "            click_counts\n",
       "click_hour              \n",
       "14              10281823\n",
       "15               9226735\n",
       "16               7078571\n",
       "17               3913808\n",
       "18               2258912"
      ]
     },
     "execution_count": 28,
     "metadata": {},
     "output_type": "execute_result"
    }
   ],
   "source": [
    "click_counts.head()"
   ]
  },
  {
   "cell_type": "code",
   "execution_count": 29,
   "metadata": {},
   "outputs": [
    {
     "data": {
      "image/png": "[encoded data removed]",
      "text/plain": [
       "<matplotlib.figure.Figure at 0x7fcabdf6f048>"
      ]
     },
     "metadata": {},
     "output_type": "display_data"
    }
   ],
   "source": [
    "# plot\n",
    "title = section + \"_\" + fea + \"_click_counts\"\n",
    "\n",
    "fig = plt.figure(figsize=(15, 6))\n",
    "ax1 = fig.add_subplot(1, 1, 1)\n",
    "click_counts[[\"click_counts\"]].plot(ax=ax1)\n",
    "ax1.set_ylabel(ylabel=\"click_counts\")\n",
    "ax1.set_xlabel(xlabel=\"datetime\")\n",
    "\n",
    "ax1.set_title(label=title)\n",
    "fig.savefig(fname=str(data_Path / \"plot\" / title))"
   ]
  },
  {
   "cell_type": "markdown",
   "metadata": {},
   "source": [
    "## prop_downloaded"
   ]
  },
  {
   "cell_type": "code",
   "execution_count": 30,
   "metadata": {},
   "outputs": [],
   "source": [
    "prop_downloaded = df_train[[fea,\"is_attributed\"]].groupby(by=fea).mean().reset_index()"
   ]
  },
  {
   "cell_type": "code",
   "execution_count": 31,
   "metadata": {},
   "outputs": [],
   "source": [
    "prop_downloaded.columns = [fea, \"prop_downloaded\"]"
   ]
  },
  {
   "cell_type": "code",
   "execution_count": 32,
   "metadata": {},
   "outputs": [
    {
     "data": {
      "text/html": [
       "<div>\n",
       "<style scoped>\n",
       "    .dataframe tbody tr th:only-of-type {\n",
       "        vertical-align: middle;\n",
       "    }\n",
       "\n",
       "    .dataframe tbody tr th {\n",
       "        vertical-align: top;\n",
       "    }\n",
       "\n",
       "    .dataframe thead th {\n",
       "        text-align: right;\n",
       "    }\n",
       "</style>\n",
       "<table border=\"1\" class=\"dataframe\">\n",
       "  <thead>\n",
       "    <tr style=\"text-align: right;\">\n",
       "      <th></th>\n",
       "      <th>click_hour</th>\n",
       "      <th>prop_downloaded</th>\n",
       "    </tr>\n",
       "  </thead>\n",
       "  <tbody>\n",
       "    <tr>\n",
       "      <th>0</th>\n",
       "      <td>14</td>\n",
       "      <td>0.002100</td>\n",
       "    </tr>\n",
       "    <tr>\n",
       "      <th>1</th>\n",
       "      <td>15</td>\n",
       "      <td>0.001430</td>\n",
       "    </tr>\n",
       "    <tr>\n",
       "      <th>2</th>\n",
       "      <td>16</td>\n",
       "      <td>0.001709</td>\n",
       "    </tr>\n",
       "    <tr>\n",
       "      <th>3</th>\n",
       "      <td>17</td>\n",
       "      <td>0.001773</td>\n",
       "    </tr>\n",
       "    <tr>\n",
       "      <th>4</th>\n",
       "      <td>18</td>\n",
       "      <td>0.001938</td>\n",
       "    </tr>\n",
       "  </tbody>\n",
       "</table>\n",
       "</div>"
      ],
      "text/plain": [
       "   click_hour  prop_downloaded\n",
       "0          14         0.002100\n",
       "1          15         0.001430\n",
       "2          16         0.001709\n",
       "3          17         0.001773\n",
       "4          18         0.001938"
      ]
     },
     "execution_count": 32,
     "metadata": {},
     "output_type": "execute_result"
    }
   ],
   "source": [
    "prop_downloaded.head()"
   ]
  },
  {
   "cell_type": "code",
   "execution_count": 33,
   "metadata": {},
   "outputs": [
    {
     "name": "stdout",
     "output_type": "stream",
     "text": [
      "CPU times: user 7min 23s, sys: 27.5 s, total: 7min 51s\n",
      "Wall time: 4min 30s\n"
     ]
    },
    {
     "data": {
      "text/plain": [
       "['/home/sugihiro/workdir/git/bitbucket/learning_kaggle/TalkingData_AdTracking_Fraud_Detection_Challenge/data/interim/train_time_click_hour_isAttributed_proportion-0.csv']"
      ]
     },
     "execution_count": 33,
     "metadata": {},
     "output_type": "execute_result"
    }
   ],
   "source": [
    "%%time\n",
    "# save\n",
    "prop_downloaded.to_csv(filename=str(interim_data_Path / (\"train_\"+section+\"_\"+fea+\"_isAttributed_proportion-*.csv\")),\n",
    "                       index=False,\n",
    "                      )"
   ]
  },
  {
   "cell_type": "markdown",
   "metadata": {},
   "source": [
    "### plot"
   ]
  },
  {
   "cell_type": "code",
   "execution_count": 34,
   "metadata": {},
   "outputs": [],
   "source": [
    "prop_downloaded = pd.read_csv(filepath_or_buffer=str(interim_data_Path / (\"train_\"+section+\"_\"+fea+\"_isAttributed_proportion-0.csv\")),\n",
    "                              index_col=0,\n",
    "                              parse_dates=[fea],\n",
    "                             )"
   ]
  },
  {
   "cell_type": "code",
   "execution_count": 35,
   "metadata": {},
   "outputs": [
    {
     "data": {
      "text/html": [
       "<div>\n",
       "<style scoped>\n",
       "    .dataframe tbody tr th:only-of-type {\n",
       "        vertical-align: middle;\n",
       "    }\n",
       "\n",
       "    .dataframe tbody tr th {\n",
       "        vertical-align: top;\n",
       "    }\n",
       "\n",
       "    .dataframe thead th {\n",
       "        text-align: right;\n",
       "    }\n",
       "</style>\n",
       "<table border=\"1\" class=\"dataframe\">\n",
       "  <thead>\n",
       "    <tr style=\"text-align: right;\">\n",
       "      <th></th>\n",
       "      <th>prop_downloaded</th>\n",
       "    </tr>\n",
       "    <tr>\n",
       "      <th>click_hour</th>\n",
       "      <th></th>\n",
       "    </tr>\n",
       "  </thead>\n",
       "  <tbody>\n",
       "    <tr>\n",
       "      <th>14</th>\n",
       "      <td>0.002100</td>\n",
       "    </tr>\n",
       "    <tr>\n",
       "      <th>15</th>\n",
       "      <td>0.001430</td>\n",
       "    </tr>\n",
       "    <tr>\n",
       "      <th>16</th>\n",
       "      <td>0.001709</td>\n",
       "    </tr>\n",
       "    <tr>\n",
       "      <th>17</th>\n",
       "      <td>0.001773</td>\n",
       "    </tr>\n",
       "    <tr>\n",
       "      <th>18</th>\n",
       "      <td>0.001938</td>\n",
       "    </tr>\n",
       "  </tbody>\n",
       "</table>\n",
       "</div>"
      ],
      "text/plain": [
       "            prop_downloaded\n",
       "click_hour                 \n",
       "14                 0.002100\n",
       "15                 0.001430\n",
       "16                 0.001709\n",
       "17                 0.001773\n",
       "18                 0.001938"
      ]
     },
     "execution_count": 35,
     "metadata": {},
     "output_type": "execute_result"
    }
   ],
   "source": [
    "prop_downloaded.head()"
   ]
  },
  {
   "cell_type": "code",
   "execution_count": 36,
   "metadata": {},
   "outputs": [
    {
     "data": {
      "image/png": "[encoded data removed]",
      "text/plain": [
       "<matplotlib.figure.Figure at 0x7fcaaba76780>"
      ]
     },
     "metadata": {},
     "output_type": "display_data"
    }
   ],
   "source": [
    "# plot\n",
    "title = section + \"_\" + fea + \"_prop_downloaded\"\n",
    "\n",
    "fig = plt.figure(figsize=(15, 6))\n",
    "ax1 = fig.add_subplot(1, 1, 1)\n",
    "prop_downloaded[[\"prop_downloaded\"]].plot(ax=ax1)\n",
    "ax1.set_ylabel(ylabel=\"prop_downloaded\")\n",
    "ax1.set_xlabel(xlabel=\"datetime\")\n",
    "\n",
    "ax1.set_title(label=title)\n",
    "fig.savefig(fname=str(data_Path / \"plot\" / title))"
   ]
  },
  {
   "cell_type": "code",
   "execution_count": null,
   "metadata": {},
   "outputs": [],
   "source": []
  },
  {
   "cell_type": "code",
   "execution_count": null,
   "metadata": {},
   "outputs": [],
   "source": []
  },
  {
   "cell_type": "code",
   "execution_count": null,
   "metadata": {},
   "outputs": [],
   "source": []
  },
  {
   "cell_type": "code",
   "execution_count": null,
   "metadata": {},
   "outputs": [],
   "source": []
  },
  {
   "cell_type": "markdown",
   "metadata": {},
   "source": [
    "# IP"
   ]
  },
  {
   "cell_type": "code",
   "execution_count": 158,
   "metadata": {},
   "outputs": [],
   "source": [
    "fea = \"ip\"\n",
    "n_plot = 300"
   ]
  },
  {
   "cell_type": "code",
   "execution_count": 24,
   "metadata": {},
   "outputs": [
    {
     "name": "stdout",
     "output_type": "stream",
     "text": [
      "<class 'dask.dataframe.core.Series'>\n",
      "<class 'dask.dataframe.core.DataFrame'>\n"
     ]
    },
    {
     "data": {
      "text/plain": [
       "12809"
      ]
     },
     "execution_count": 24,
     "metadata": {},
     "output_type": "execute_result"
    }
   ],
   "source": [
    "df_fea_val_counts_tmp = df_train[fea].value_counts()\n",
    "print(type(df_fea_val_counts_tmp))\n",
    "\n",
    "# SeriesからDataFrameに変換\n",
    "df_fea_val_counts_tmp = df_fea_val_counts_tmp.to_frame()\n",
    "print(type(df_fea_val_counts_tmp))\n",
    "\n",
    "df_fea_val_counts = df_fea_val_counts_tmp.reset_index(drop=False)\n",
    "\n",
    "del df_fea_val_counts_tmp\n",
    "\n",
    "df_fea_val_counts.columns = [fea, 'counts']\n",
    "\n",
    "# save df_ip_val_counts\n",
    "df_fea_val_counts.to_csv(filename=str(interim_data_Path / (\"train_\"+fea+\"_val_counts-*.csv\")))\n",
    "\n",
    "del df_fea_val_counts\n",
    "gc.collect()"
   ]
  },
  {
   "cell_type": "code",
   "execution_count": 25,
   "metadata": {},
   "outputs": [],
   "source": [
    "# load\n",
    "tmp = dd.read_csv(urlpath=str(interim_data_Path / (\"train_\"+fea+\"_val_counts-0.csv\")),)\n",
    "df_fea_val_counts = tmp.drop(labels=tmp.columns[0], axis=1)"
   ]
  },
  {
   "cell_type": "code",
   "execution_count": 26,
   "metadata": {
    "scrolled": true
   },
   "outputs": [
    {
     "data": {
      "text/html": [
       "<div>\n",
       "<style scoped>\n",
       "    .dataframe tbody tr th:only-of-type {\n",
       "        vertical-align: middle;\n",
       "    }\n",
       "\n",
       "    .dataframe tbody tr th {\n",
       "        vertical-align: top;\n",
       "    }\n",
       "\n",
       "    .dataframe thead th {\n",
       "        text-align: right;\n",
       "    }\n",
       "</style>\n",
       "<table border=\"1\" class=\"dataframe\">\n",
       "  <thead>\n",
       "    <tr style=\"text-align: right;\">\n",
       "      <th></th>\n",
       "      <th>ip</th>\n",
       "      <th>counts</th>\n",
       "    </tr>\n",
       "  </thead>\n",
       "  <tbody>\n",
       "    <tr>\n",
       "      <th>0</th>\n",
       "      <td>5348</td>\n",
       "      <td>1238734</td>\n",
       "    </tr>\n",
       "    <tr>\n",
       "      <th>1</th>\n",
       "      <td>5314</td>\n",
       "      <td>1171448</td>\n",
       "    </tr>\n",
       "    <tr>\n",
       "      <th>2</th>\n",
       "      <td>73516</td>\n",
       "      <td>770451</td>\n",
       "    </tr>\n",
       "    <tr>\n",
       "      <th>3</th>\n",
       "      <td>73487</td>\n",
       "      <td>763854</td>\n",
       "    </tr>\n",
       "    <tr>\n",
       "      <th>4</th>\n",
       "      <td>53454</td>\n",
       "      <td>498186</td>\n",
       "    </tr>\n",
       "  </tbody>\n",
       "</table>\n",
       "</div>"
      ],
      "text/plain": [
       "      ip   counts\n",
       "0   5348  1238734\n",
       "1   5314  1171448\n",
       "2  73516   770451\n",
       "3  73487   763854\n",
       "4  53454   498186"
      ]
     },
     "execution_count": 26,
     "metadata": {},
     "output_type": "execute_result"
    }
   ],
   "source": [
    "df_fea_val_counts.head()"
   ]
  },
  {
   "cell_type": "code",
   "execution_count": 27,
   "metadata": {},
   "outputs": [],
   "source": [
    "df_train_tmp = dd.merge(left=df_train,\n",
    "                        right=df_fea_val_counts,\n",
    "                        how=\"left\",\n",
    "                        on=fea,\n",
    "                       )"
   ]
  },
  {
   "cell_type": "code",
   "execution_count": 28,
   "metadata": {},
   "outputs": [
    {
     "data": {
      "text/html": [
       "<div>\n",
       "<style scoped>\n",
       "    .dataframe tbody tr th:only-of-type {\n",
       "        vertical-align: middle;\n",
       "    }\n",
       "\n",
       "    .dataframe tbody tr th {\n",
       "        vertical-align: top;\n",
       "    }\n",
       "\n",
       "    .dataframe thead th {\n",
       "        text-align: right;\n",
       "    }\n",
       "</style>\n",
       "<table border=\"1\" class=\"dataframe\">\n",
       "  <thead>\n",
       "    <tr style=\"text-align: right;\">\n",
       "      <th></th>\n",
       "      <th>ip</th>\n",
       "      <th>app</th>\n",
       "      <th>device</th>\n",
       "      <th>os</th>\n",
       "      <th>channel</th>\n",
       "      <th>click_time</th>\n",
       "      <th>attributed_time</th>\n",
       "      <th>is_attributed</th>\n",
       "      <th>counts</th>\n",
       "    </tr>\n",
       "  </thead>\n",
       "  <tbody>\n",
       "    <tr>\n",
       "      <th>0</th>\n",
       "      <td>83230</td>\n",
       "      <td>3</td>\n",
       "      <td>1</td>\n",
       "      <td>13</td>\n",
       "      <td>379</td>\n",
       "      <td>2017-11-06 14:32:21</td>\n",
       "      <td>NaT</td>\n",
       "      <td>0</td>\n",
       "      <td>25719</td>\n",
       "    </tr>\n",
       "    <tr>\n",
       "      <th>1</th>\n",
       "      <td>17357</td>\n",
       "      <td>3</td>\n",
       "      <td>1</td>\n",
       "      <td>19</td>\n",
       "      <td>379</td>\n",
       "      <td>2017-11-06 14:33:34</td>\n",
       "      <td>NaT</td>\n",
       "      <td>0</td>\n",
       "      <td>24133</td>\n",
       "    </tr>\n",
       "    <tr>\n",
       "      <th>2</th>\n",
       "      <td>35810</td>\n",
       "      <td>3</td>\n",
       "      <td>1</td>\n",
       "      <td>13</td>\n",
       "      <td>379</td>\n",
       "      <td>2017-11-06 14:34:12</td>\n",
       "      <td>NaT</td>\n",
       "      <td>0</td>\n",
       "      <td>9791</td>\n",
       "    </tr>\n",
       "    <tr>\n",
       "      <th>3</th>\n",
       "      <td>45745</td>\n",
       "      <td>14</td>\n",
       "      <td>1</td>\n",
       "      <td>13</td>\n",
       "      <td>478</td>\n",
       "      <td>2017-11-06 14:34:52</td>\n",
       "      <td>NaT</td>\n",
       "      <td>0</td>\n",
       "      <td>169149</td>\n",
       "    </tr>\n",
       "    <tr>\n",
       "      <th>4</th>\n",
       "      <td>161007</td>\n",
       "      <td>3</td>\n",
       "      <td>1</td>\n",
       "      <td>13</td>\n",
       "      <td>379</td>\n",
       "      <td>2017-11-06 14:35:08</td>\n",
       "      <td>NaT</td>\n",
       "      <td>0</td>\n",
       "      <td>1171</td>\n",
       "    </tr>\n",
       "  </tbody>\n",
       "</table>\n",
       "</div>"
      ],
      "text/plain": [
       "       ip  app  device  os  channel          click_time attributed_time  \\\n",
       "0   83230    3       1  13      379 2017-11-06 14:32:21             NaT   \n",
       "1   17357    3       1  19      379 2017-11-06 14:33:34             NaT   \n",
       "2   35810    3       1  13      379 2017-11-06 14:34:12             NaT   \n",
       "3   45745   14       1  13      478 2017-11-06 14:34:52             NaT   \n",
       "4  161007    3       1  13      379 2017-11-06 14:35:08             NaT   \n",
       "\n",
       "   is_attributed  counts  \n",
       "0              0   25719  \n",
       "1              0   24133  \n",
       "2              0    9791  \n",
       "3              0  169149  \n",
       "4              0    1171  "
      ]
     },
     "execution_count": 28,
     "metadata": {},
     "output_type": "execute_result"
    }
   ],
   "source": [
    "df_train_tmp.head()"
   ]
  },
  {
   "cell_type": "code",
   "execution_count": 32,
   "metadata": {},
   "outputs": [],
   "source": []
  },
  {
   "cell_type": "markdown",
   "metadata": {},
   "source": [
    "### proportion"
   ]
  },
  {
   "cell_type": "code",
   "execution_count": 48,
   "metadata": {
    "scrolled": false
   },
   "outputs": [],
   "source": [
    "n = 1000000  # 1000000 > 277396\n",
    "#proportion = df_train_tmp[[fea, 'is_attributed']].groupby(by=fea).mean().reset_index().nlargest(n=n, columns='is_attributed').reset_index(drop=True)\n",
    "proportion = df_train_tmp[[fea, 'is_attributed']].groupby(by=fea).mean().reset_index()\n",
    "proportion.columns = [fea, \"prop_downloaded\"]"
   ]
  },
  {
   "cell_type": "code",
   "execution_count": 36,
   "metadata": {},
   "outputs": [
    {
     "data": {
      "text/html": [
       "<div>\n",
       "<style scoped>\n",
       "    .dataframe tbody tr th:only-of-type {\n",
       "        vertical-align: middle;\n",
       "    }\n",
       "\n",
       "    .dataframe tbody tr th {\n",
       "        vertical-align: top;\n",
       "    }\n",
       "\n",
       "    .dataframe thead th {\n",
       "        text-align: right;\n",
       "    }\n",
       "</style>\n",
       "<table border=\"1\" class=\"dataframe\">\n",
       "  <thead>\n",
       "    <tr style=\"text-align: right;\">\n",
       "      <th></th>\n",
       "      <th>ip</th>\n",
       "      <th>prop_downloaded</th>\n",
       "    </tr>\n",
       "  </thead>\n",
       "  <tbody>\n",
       "    <tr>\n",
       "      <th>0</th>\n",
       "      <td>9</td>\n",
       "      <td>0.001489</td>\n",
       "    </tr>\n",
       "    <tr>\n",
       "      <th>1</th>\n",
       "      <td>10</td>\n",
       "      <td>0.002542</td>\n",
       "    </tr>\n",
       "    <tr>\n",
       "      <th>2</th>\n",
       "      <td>19</td>\n",
       "      <td>0.004728</td>\n",
       "    </tr>\n",
       "    <tr>\n",
       "      <th>3</th>\n",
       "      <td>20</td>\n",
       "      <td>0.000670</td>\n",
       "    </tr>\n",
       "    <tr>\n",
       "      <th>4</th>\n",
       "      <td>25</td>\n",
       "      <td>0.004484</td>\n",
       "    </tr>\n",
       "  </tbody>\n",
       "</table>\n",
       "</div>"
      ],
      "text/plain": [
       "   ip  prop_downloaded\n",
       "0   9         0.001489\n",
       "1  10         0.002542\n",
       "2  19         0.004728\n",
       "3  20         0.000670\n",
       "4  25         0.004484"
      ]
     },
     "execution_count": 36,
     "metadata": {},
     "output_type": "execute_result"
    }
   ],
   "source": [
    "proportion.head()"
   ]
  },
  {
   "cell_type": "code",
   "execution_count": 104,
   "metadata": {},
   "outputs": [
    {
     "data": {
      "text/plain": [
       "277396"
      ]
     },
     "execution_count": 104,
     "metadata": {},
     "output_type": "execute_result"
    }
   ],
   "source": [
    "len(proportion)"
   ]
  },
  {
   "cell_type": "code",
   "execution_count": 49,
   "metadata": {},
   "outputs": [
    {
     "data": {
      "text/plain": [
       "['/home/sugihiro/workdir/git/bitbucket/learning_kaggle/TalkingData_AdTracking_Fraud_Detection_Challenge/data/interim/train_ip_isAttributed_proportion-0.csv']"
      ]
     },
     "execution_count": 49,
     "metadata": {},
     "output_type": "execute_result"
    }
   ],
   "source": [
    "# save\n",
    "proportion.to_csv(filename=str(interim_data_Path / (\"train_\"+fea+\"_isAttributed_proportion-*.csv\")))"
   ]
  },
  {
   "cell_type": "markdown",
   "metadata": {},
   "source": [
    "#### load proportion"
   ]
  },
  {
   "cell_type": "code",
   "execution_count": 114,
   "metadata": {},
   "outputs": [],
   "source": [
    "# load\n",
    "#tmp = dd.read_csv(urlpath=str(interim_data_Path / (\"train_\"+fea+\"_isAttributed_proportion-0.csv\")),)\n",
    "#proportion = tmp.drop(labels=tmp.columns[0], axis=1)\n",
    "#\n",
    "proportion = pd.read_csv(filepath_or_buffer=str(interim_data_Path / (\"train_\"+fea+\"_isAttributed_proportion-0.csv\")),\n",
    "                         index_col=0,\n",
    "                        )"
   ]
  },
  {
   "cell_type": "markdown",
   "metadata": {},
   "source": [
    "### counts"
   ]
  },
  {
   "cell_type": "code",
   "execution_count": 106,
   "metadata": {
    "scrolled": true
   },
   "outputs": [],
   "source": [
    "n = 1000000  # 1000000 > 277396\n",
    "counts = df_train_tmp[[fea, 'is_attributed']].groupby(by=fea).count().reset_index().nlargest(n=n, columns='is_attributed').reset_index(drop=True)\n",
    "counts.columns = [fea, \"click_count\"]"
   ]
  },
  {
   "cell_type": "code",
   "execution_count": 107,
   "metadata": {},
   "outputs": [
    {
     "data": {
      "text/html": [
       "<div>\n",
       "<style scoped>\n",
       "    .dataframe tbody tr th:only-of-type {\n",
       "        vertical-align: middle;\n",
       "    }\n",
       "\n",
       "    .dataframe tbody tr th {\n",
       "        vertical-align: top;\n",
       "    }\n",
       "\n",
       "    .dataframe thead th {\n",
       "        text-align: right;\n",
       "    }\n",
       "</style>\n",
       "<table border=\"1\" class=\"dataframe\">\n",
       "  <thead>\n",
       "    <tr style=\"text-align: right;\">\n",
       "      <th></th>\n",
       "      <th>ip</th>\n",
       "      <th>click_count</th>\n",
       "    </tr>\n",
       "  </thead>\n",
       "  <tbody>\n",
       "    <tr>\n",
       "      <th>0</th>\n",
       "      <td>5348</td>\n",
       "      <td>1238734</td>\n",
       "    </tr>\n",
       "    <tr>\n",
       "      <th>1</th>\n",
       "      <td>5314</td>\n",
       "      <td>1171448</td>\n",
       "    </tr>\n",
       "    <tr>\n",
       "      <th>2</th>\n",
       "      <td>73516</td>\n",
       "      <td>770451</td>\n",
       "    </tr>\n",
       "    <tr>\n",
       "      <th>3</th>\n",
       "      <td>73487</td>\n",
       "      <td>763854</td>\n",
       "    </tr>\n",
       "    <tr>\n",
       "      <th>4</th>\n",
       "      <td>53454</td>\n",
       "      <td>498186</td>\n",
       "    </tr>\n",
       "  </tbody>\n",
       "</table>\n",
       "</div>"
      ],
      "text/plain": [
       "      ip  click_count\n",
       "0   5348      1238734\n",
       "1   5314      1171448\n",
       "2  73516       770451\n",
       "3  73487       763854\n",
       "4  53454       498186"
      ]
     },
     "execution_count": 107,
     "metadata": {},
     "output_type": "execute_result"
    }
   ],
   "source": [
    "counts.head()"
   ]
  },
  {
   "cell_type": "code",
   "execution_count": 108,
   "metadata": {},
   "outputs": [
    {
     "data": {
      "text/plain": [
       "277396"
      ]
     },
     "execution_count": 108,
     "metadata": {},
     "output_type": "execute_result"
    }
   ],
   "source": [
    "len(counts)"
   ]
  },
  {
   "cell_type": "code",
   "execution_count": 109,
   "metadata": {},
   "outputs": [
    {
     "data": {
      "text/plain": [
       "['/home/sugihiro/workdir/git/bitbucket/learning_kaggle/TalkingData_AdTracking_Fraud_Detection_Challenge/data/interim/train_ip_isAttributed_counts-0.csv']"
      ]
     },
     "execution_count": 109,
     "metadata": {},
     "output_type": "execute_result"
    }
   ],
   "source": [
    "# save\n",
    "counts.to_csv(filename=str(interim_data_Path / (\"train_\"+fea+\"_isAttributed_counts-*.csv\")))"
   ]
  },
  {
   "cell_type": "markdown",
   "metadata": {},
   "source": [
    "#### load counts"
   ]
  },
  {
   "cell_type": "code",
   "execution_count": 115,
   "metadata": {},
   "outputs": [],
   "source": [
    "# load\n",
    "#tmp = dd.read_csv(urlpath=str(interim_data_Path / (\"train_\"+fea+\"_isAttributed_counts-0.csv\")),)\n",
    "#counts = tmp.drop(labels=tmp.columns[0], axis=1)\n",
    "#\n",
    "counts = pd.read_csv(filepath_or_buffer=str(interim_data_Path / (\"train_\"+fea+\"_isAttributed_counts-0.csv\")),\n",
    "                     index_col=0,\n",
    "                    )"
   ]
  },
  {
   "cell_type": "markdown",
   "metadata": {},
   "source": [
    "### Head"
   ]
  },
  {
   "cell_type": "markdown",
   "metadata": {},
   "source": [
    "## Merge"
   ]
  },
  {
   "cell_type": "code",
   "execution_count": 116,
   "metadata": {},
   "outputs": [],
   "source": [
    "df_merge = counts.merge(right=proportion, on=fea, how='left', )\n",
    "df_merge.columns = [fea, 'click_count', 'prop_downloaded']"
   ]
  },
  {
   "cell_type": "code",
   "execution_count": 117,
   "metadata": {
    "scrolled": true
   },
   "outputs": [
    {
     "data": {
      "text/html": [
       "<div>\n",
       "<style scoped>\n",
       "    .dataframe tbody tr th:only-of-type {\n",
       "        vertical-align: middle;\n",
       "    }\n",
       "\n",
       "    .dataframe tbody tr th {\n",
       "        vertical-align: top;\n",
       "    }\n",
       "\n",
       "    .dataframe thead th {\n",
       "        text-align: right;\n",
       "    }\n",
       "</style>\n",
       "<table border=\"1\" class=\"dataframe\">\n",
       "  <thead>\n",
       "    <tr style=\"text-align: right;\">\n",
       "      <th></th>\n",
       "      <th>ip</th>\n",
       "      <th>click_count</th>\n",
       "      <th>prop_downloaded</th>\n",
       "    </tr>\n",
       "  </thead>\n",
       "  <tbody>\n",
       "    <tr>\n",
       "      <th>0</th>\n",
       "      <td>5348</td>\n",
       "      <td>1238734</td>\n",
       "      <td>0.001889</td>\n",
       "    </tr>\n",
       "    <tr>\n",
       "      <th>1</th>\n",
       "      <td>5314</td>\n",
       "      <td>1171448</td>\n",
       "      <td>0.001878</td>\n",
       "    </tr>\n",
       "    <tr>\n",
       "      <th>2</th>\n",
       "      <td>73516</td>\n",
       "      <td>770451</td>\n",
       "      <td>0.001330</td>\n",
       "    </tr>\n",
       "    <tr>\n",
       "      <th>3</th>\n",
       "      <td>73487</td>\n",
       "      <td>763854</td>\n",
       "      <td>0.001428</td>\n",
       "    </tr>\n",
       "    <tr>\n",
       "      <th>4</th>\n",
       "      <td>53454</td>\n",
       "      <td>498186</td>\n",
       "      <td>0.000275</td>\n",
       "    </tr>\n",
       "  </tbody>\n",
       "</table>\n",
       "</div>"
      ],
      "text/plain": [
       "      ip  click_count  prop_downloaded\n",
       "0   5348      1238734         0.001889\n",
       "1   5314      1171448         0.001878\n",
       "2  73516       770451         0.001330\n",
       "3  73487       763854         0.001428\n",
       "4  53454       498186         0.000275"
      ]
     },
     "execution_count": 117,
     "metadata": {},
     "output_type": "execute_result"
    }
   ],
   "source": [
    "df_merge.head()"
   ]
  },
  {
   "cell_type": "markdown",
   "metadata": {},
   "source": [
    "## Plot"
   ]
  },
  {
   "cell_type": "code",
   "execution_count": 159,
   "metadata": {
    "scrolled": false
   },
   "outputs": [
    {
     "data": {
      "image/png": "[encoded data removed]",
      "text/plain": [
       "<matplotlib.figure.Figure at 0x7f2265eb87b8>"
      ]
     },
     "metadata": {},
     "output_type": "display_data"
    }
   ],
   "source": [
    "title = \"Conversion_Rates_over_Counts_of_300_Most_Popular_\"+fea.upper()+\"s\"\n",
    "\n",
    "fig = plt.figure(figsize=(15, 6))\n",
    "ax1 = fig.add_subplot(1, 1, 1)\n",
    "\n",
    "\n",
    "ax1.set_yscale(\"linear\")\n",
    "ax1.yaxis.tick_left()\n",
    "df_merge[['click_count']][:n_plot].plot(ax=ax1, color=\"blue\",)\n",
    "ax1.yaxis.set_label_position(\"left\")\n",
    "ax1.set_ylabel(ylabel='Count of clicks')\n",
    "ax1.legend(loc=3, bbox_to_anchor=(1.05, 1), borderaxespad=0.)\n",
    "\n",
    "ax2 = ax1.twinx()\n",
    "ax2.yaxis.tick_right()\n",
    "df_merge[['prop_downloaded']][:n_plot].plot(ax=ax2, color=\"green\",)\n",
    "ax2.yaxis.set_label_position(\"right\")\n",
    "ax2.set_ylabel(ylabel='Proportion Downloaded')\n",
    "ax2.legend(loc=3, bbox_to_anchor=(1.05, 1 + 0.07), borderaxespad=0.)\n",
    "\n",
    "ax2.set_title(title)\n",
    "ax2.set_xlabel(\"Sort by \" + fea)\n",
    "#ax.legend(loc=\"best\")\n",
    "#ax.set_ylabel('Proportion Downloaded')\n",
    "#plt.show()\n",
    "fig.savefig(fname=str(data_Path / \"plot\" / title))\n",
    "plt.show()\n"
   ]
  },
  {
   "cell_type": "code",
   "execution_count": 119,
   "metadata": {},
   "outputs": [
    {
     "name": "stdout",
     "output_type": "stream",
     "text": [
      "        ip  click_count  prop_downloaded\n",
      "0     5348      1238734         0.001889\n",
      "1     5314      1171448         0.001878\n",
      "2    73516       770451         0.001330\n",
      "3    73487       763854         0.001428\n",
      "4    53454       498186         0.000275\n",
      "5   114276       427453         0.000159\n",
      "6    26995       401495         0.000747\n",
      "7    95766       378693         0.001001\n",
      "8    17149       310996         0.000765\n",
      "9   105475       302192         0.000943\n",
      "10  100275       276799         0.001290\n",
      "11   43793       261970         0.001027\n",
      "12  105560       260049         0.001204\n",
      "13   86767       257649         0.000617\n",
      "14  111025       247187         0.000461\n",
      "15  137052       217614         0.001402\n",
      "16  201182       212448         0.001224\n",
      "17    5178       211556         0.002061\n",
      "18   49602       200053         0.001100\n",
      "19    5147       197994         0.002015\n"
     ]
    }
   ],
   "source": [
    "print(df_merge[:20])"
   ]
  },
  {
   "cell_type": "code",
   "execution_count": 160,
   "metadata": {
    "scrolled": false
   },
   "outputs": [
    {
     "data": {
      "image/png": "[encoded data removed]",
      "text/plain": [
       "<matplotlib.figure.Figure at 0x7f224f92f6d8>"
      ]
     },
     "metadata": {},
     "output_type": "display_data"
    }
   ],
   "source": [
    "title = \"Conversion_Rates_over_Counts_of_300_Worst_Popular_\"+fea.upper()+\"s\"\n",
    "\n",
    "fig = plt.figure(figsize=(15, 6))\n",
    "ax1 = fig.add_subplot(1, 1, 1)\n",
    "\n",
    "ax1.set_yscale(\"linear\")\n",
    "ax1.yaxis.tick_left()\n",
    "df_merge[['click_count']][-n_plot:].plot(ax=ax1, color=\"blue\", lw=5.0)\n",
    "ax1.yaxis.set_label_position(\"left\")\n",
    "ax1.set_ylabel(ylabel='Count of clicks')\n",
    "ax1.legend(loc=3, bbox_to_anchor=(1.05, 1), borderaxespad=0.)\n",
    "#ax1.set_ylim(bottom=-0.01, top=1.05*df_merge[['click_count']][-n:].max(axis=0)['click_count'])\n",
    "\n",
    "ax2 = ax1.twinx()\n",
    "ax2.yaxis.tick_right()\n",
    "df_merge[['prop_downloaded']][-n_plot:].plot(ax=ax2, color=\"green\", lw=0.5)\n",
    "ax2.yaxis.set_label_position(\"right\")\n",
    "ax2.set_ylabel(ylabel='Proportion Downloaded')\n",
    "ax2.legend(loc=3, bbox_to_anchor=(1.05, 1 + 0.07), borderaxespad=0.)\n",
    "\n",
    "ax2.set_title(title)\n",
    "ax2.set_xlabel(\"Sort by \" + fea)\n",
    "ax2.set_ylim(bottom=-0.01, top=1.05*df_merge[['prop_downloaded']][-n:].max(axis=0)['prop_downloaded'])\n",
    "\n",
    "\n",
    "fig.savefig(fname=str(data_Path / \"plot\" / title))\n",
    "plt.show()\n"
   ]
  },
  {
   "cell_type": "code",
   "execution_count": 157,
   "metadata": {},
   "outputs": [
    {
     "name": "stdout",
     "output_type": "stream",
     "text": [
      "            ip  click_count  prop_downloaded\n",
      "277376  282627            1              1.0\n",
      "277377  282456            1              1.0\n",
      "277378  285035            1              1.0\n",
      "277379  171686            1              1.0\n",
      "277380  170335            1              1.0\n",
      "277381  285108            1              1.0\n",
      "277382  285117            1              1.0\n",
      "277383  285127            1              1.0\n",
      "277384  283596            1              1.0\n",
      "277385  283562            1              1.0\n",
      "277386  283556            1              1.0\n",
      "277387  171639            1              1.0\n",
      "277388  282071            1              1.0\n",
      "277389  171951            1              1.0\n",
      "277390  282115            1              1.0\n",
      "277391  282135            1              1.0\n",
      "277392  282140            1              1.0\n",
      "277393  282254            1              1.0\n",
      "277394  171782            1              1.0\n",
      "277395  364750            1              1.0\n"
     ]
    }
   ],
   "source": [
    "print(df_merge[-20:])"
   ]
  },
  {
   "cell_type": "code",
   "execution_count": 77,
   "metadata": {},
   "outputs": [
    {
     "data": {
      "text/plain": [
       "25835"
      ]
     },
     "execution_count": 77,
     "metadata": {},
     "output_type": "execute_result"
    }
   ],
   "source": [
    "gc.collect()"
   ]
  },
  {
   "cell_type": "code",
   "execution_count": null,
   "metadata": {},
   "outputs": [],
   "source": []
  },
  {
   "cell_type": "code",
   "execution_count": null,
   "metadata": {},
   "outputs": [],
   "source": []
  },
  {
   "cell_type": "code",
   "execution_count": null,
   "metadata": {},
   "outputs": [],
   "source": []
  },
  {
   "cell_type": "code",
   "execution_count": null,
   "metadata": {},
   "outputs": [],
   "source": []
  },
  {
   "cell_type": "code",
   "execution_count": null,
   "metadata": {},
   "outputs": [],
   "source": []
  }
 ],
 "metadata": {
  "kernelspec": {
   "display_name": "Python 3",
   "language": "python",
   "name": "python3"
  },
  "language_info": {
   "codemirror_mode": {
    "name": "ipython",
    "version": 3
   },
   "file_extension": ".py",
   "mimetype": "text/x-python",
   "name": "python",
   "nbconvert_exporter": "python",
   "pygments_lexer": "ipython3",
   "version": "3.5.2"
  },
  "toc": {
   "nav_menu": {},
   "number_sections": true,
   "sideBar": true,
   "skip_h1_title": false,
   "title_cell": "Table of Contents",
   "title_sidebar": "Contents",
   "toc_cell": true,
   "toc_position": {
    "height": "490px",
    "left": "358px",
    "top": "111px",
    "width": "263px"
   },
   "toc_section_display": true,
   "toc_window_display": true
  }
 },
 "nbformat": 4,
 "nbformat_minor": 2
}
