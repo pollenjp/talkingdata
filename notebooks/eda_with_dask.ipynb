{
 "cells": [
  {
   "cell_type": "markdown",
   "metadata": {
    "toc": true
   },
   "source": [
    "<h1>Table of Contents<span class=\"tocSkip\"></span></h1>\n",
    "<div class=\"toc\"><ul class=\"toc-item\"><li><span><a href=\"#Setting\" data-toc-modified-id=\"Setting-1\"><span class=\"toc-item-num\">1&nbsp;&nbsp;</span>Setting</a></span><ul class=\"toc-item\"><li><span><a href=\"#Path\" data-toc-modified-id=\"Path-1.1\"><span class=\"toc-item-num\">1.1&nbsp;&nbsp;</span>Path</a></span></li><li><span><a href=\"#dtype\" data-toc-modified-id=\"dtype-1.2\"><span class=\"toc-item-num\">1.2&nbsp;&nbsp;</span>dtype</a></span></li><li><span><a href=\"#read_csv\" data-toc-modified-id=\"read_csv-1.3\"><span class=\"toc-item-num\">1.3&nbsp;&nbsp;</span>read_csv</a></span></li></ul></li><li><span><a href=\"#IsNull\" data-toc-modified-id=\"IsNull-2\"><span class=\"toc-item-num\">2&nbsp;&nbsp;</span>IsNull</a></span></li><li><span><a href=\"#Describe\" data-toc-modified-id=\"Describe-3\"><span class=\"toc-item-num\">3&nbsp;&nbsp;</span>Describe</a></span></li><li><span><a href=\"#&quot;is_attributed&quot;-mean\" data-toc-modified-id=\"&quot;is_attributed&quot;-mean-4\"><span class=\"toc-item-num\">4&nbsp;&nbsp;</span>\"is_attributed\" mean</a></span><ul class=\"toc-item\"><li><span><a href=\"#plot\" data-toc-modified-id=\"plot-4.1\"><span class=\"toc-item-num\">4.1&nbsp;&nbsp;</span>plot</a></span></li></ul></li><li><span><a href=\"#Unique\" data-toc-modified-id=\"Unique-5\"><span class=\"toc-item-num\">5&nbsp;&nbsp;</span>Unique</a></span><ul class=\"toc-item\"><li><span><a href=\"#barplot\" data-toc-modified-id=\"barplot-5.1\"><span class=\"toc-item-num\">5.1&nbsp;&nbsp;</span>barplot</a></span></li></ul></li><li><span><a href=\"#IP\" data-toc-modified-id=\"IP-6\"><span class=\"toc-item-num\">6&nbsp;&nbsp;</span>IP</a></span><ul class=\"toc-item\"><li><ul class=\"toc-item\"><li><span><a href=\"#proportion\" data-toc-modified-id=\"proportion-6.0.1\"><span class=\"toc-item-num\">6.0.1&nbsp;&nbsp;</span>proportion</a></span><ul class=\"toc-item\"><li><span><a href=\"#load-proportion\" data-toc-modified-id=\"load-proportion-6.0.1.1\"><span class=\"toc-item-num\">6.0.1.1&nbsp;&nbsp;</span>load proportion</a></span></li></ul></li><li><span><a href=\"#counts\" data-toc-modified-id=\"counts-6.0.2\"><span class=\"toc-item-num\">6.0.2&nbsp;&nbsp;</span>counts</a></span><ul class=\"toc-item\"><li><span><a href=\"#load-counts\" data-toc-modified-id=\"load-counts-6.0.2.1\"><span class=\"toc-item-num\">6.0.2.1&nbsp;&nbsp;</span>load counts</a></span></li></ul></li></ul></li><li><span><a href=\"#Merge\" data-toc-modified-id=\"Merge-6.1\"><span class=\"toc-item-num\">6.1&nbsp;&nbsp;</span>Merge</a></span></li><li><span><a href=\"#Plot\" data-toc-modified-id=\"Plot-6.2\"><span class=\"toc-item-num\">6.2&nbsp;&nbsp;</span>Plot</a></span><ul class=\"toc-item\"><li><span><a href=\"#Most-Popular\" data-toc-modified-id=\"Most-Popular-6.2.1\"><span class=\"toc-item-num\">6.2.1&nbsp;&nbsp;</span>Most Popular</a></span></li><li><span><a href=\"#Worst-Popular\" data-toc-modified-id=\"Worst-Popular-6.2.2\"><span class=\"toc-item-num\">6.2.2&nbsp;&nbsp;</span>Worst Popular</a></span></li></ul></li></ul></li><li><span><a href=\"#App\" data-toc-modified-id=\"App-7\"><span class=\"toc-item-num\">7&nbsp;&nbsp;</span>App</a></span><ul class=\"toc-item\"><li><ul class=\"toc-item\"><li><span><a href=\"#proportion\" data-toc-modified-id=\"proportion-7.0.1\"><span class=\"toc-item-num\">7.0.1&nbsp;&nbsp;</span>proportion</a></span><ul class=\"toc-item\"><li><span><a href=\"#load-proportion\" data-toc-modified-id=\"load-proportion-7.0.1.1\"><span class=\"toc-item-num\">7.0.1.1&nbsp;&nbsp;</span>load proportion</a></span></li></ul></li><li><span><a href=\"#counts\" data-toc-modified-id=\"counts-7.0.2\"><span class=\"toc-item-num\">7.0.2&nbsp;&nbsp;</span>counts</a></span><ul class=\"toc-item\"><li><span><a href=\"#load-counts\" data-toc-modified-id=\"load-counts-7.0.2.1\"><span class=\"toc-item-num\">7.0.2.1&nbsp;&nbsp;</span>load counts</a></span></li></ul></li></ul></li><li><span><a href=\"#Merge\" data-toc-modified-id=\"Merge-7.1\"><span class=\"toc-item-num\">7.1&nbsp;&nbsp;</span>Merge</a></span></li><li><span><a href=\"#Plot\" data-toc-modified-id=\"Plot-7.2\"><span class=\"toc-item-num\">7.2&nbsp;&nbsp;</span>Plot</a></span><ul class=\"toc-item\"><li><span><a href=\"#Most-Popular\" data-toc-modified-id=\"Most-Popular-7.2.1\"><span class=\"toc-item-num\">7.2.1&nbsp;&nbsp;</span>Most Popular</a></span></li><li><span><a href=\"#Worst-Popular\" data-toc-modified-id=\"Worst-Popular-7.2.2\"><span class=\"toc-item-num\">7.2.2&nbsp;&nbsp;</span>Worst Popular</a></span></li></ul></li></ul></li><li><span><a href=\"#Device\" data-toc-modified-id=\"Device-8\"><span class=\"toc-item-num\">8&nbsp;&nbsp;</span>Device</a></span><ul class=\"toc-item\"><li><ul class=\"toc-item\"><li><span><a href=\"#proportion\" data-toc-modified-id=\"proportion-8.0.1\"><span class=\"toc-item-num\">8.0.1&nbsp;&nbsp;</span>proportion</a></span><ul class=\"toc-item\"><li><span><a href=\"#load-proportion\" data-toc-modified-id=\"load-proportion-8.0.1.1\"><span class=\"toc-item-num\">8.0.1.1&nbsp;&nbsp;</span>load proportion</a></span></li></ul></li><li><span><a href=\"#counts\" data-toc-modified-id=\"counts-8.0.2\"><span class=\"toc-item-num\">8.0.2&nbsp;&nbsp;</span>counts</a></span><ul class=\"toc-item\"><li><span><a href=\"#load-counts\" data-toc-modified-id=\"load-counts-8.0.2.1\"><span class=\"toc-item-num\">8.0.2.1&nbsp;&nbsp;</span>load counts</a></span></li></ul></li></ul></li><li><span><a href=\"#Merge\" data-toc-modified-id=\"Merge-8.1\"><span class=\"toc-item-num\">8.1&nbsp;&nbsp;</span>Merge</a></span></li><li><span><a href=\"#Plot\" data-toc-modified-id=\"Plot-8.2\"><span class=\"toc-item-num\">8.2&nbsp;&nbsp;</span>Plot</a></span><ul class=\"toc-item\"><li><span><a href=\"#Most-Popular\" data-toc-modified-id=\"Most-Popular-8.2.1\"><span class=\"toc-item-num\">8.2.1&nbsp;&nbsp;</span>Most Popular</a></span></li><li><span><a href=\"#Worst-Popular\" data-toc-modified-id=\"Worst-Popular-8.2.2\"><span class=\"toc-item-num\">8.2.2&nbsp;&nbsp;</span>Worst Popular</a></span></li></ul></li></ul></li><li><span><a href=\"#OS\" data-toc-modified-id=\"OS-9\"><span class=\"toc-item-num\">9&nbsp;&nbsp;</span>OS</a></span><ul class=\"toc-item\"><li><ul class=\"toc-item\"><li><span><a href=\"#proportion\" data-toc-modified-id=\"proportion-9.0.1\"><span class=\"toc-item-num\">9.0.1&nbsp;&nbsp;</span>proportion</a></span><ul class=\"toc-item\"><li><span><a href=\"#load-proportion\" data-toc-modified-id=\"load-proportion-9.0.1.1\"><span class=\"toc-item-num\">9.0.1.1&nbsp;&nbsp;</span>load proportion</a></span></li></ul></li><li><span><a href=\"#counts\" data-toc-modified-id=\"counts-9.0.2\"><span class=\"toc-item-num\">9.0.2&nbsp;&nbsp;</span>counts</a></span><ul class=\"toc-item\"><li><span><a href=\"#load-counts\" data-toc-modified-id=\"load-counts-9.0.2.1\"><span class=\"toc-item-num\">9.0.2.1&nbsp;&nbsp;</span>load counts</a></span></li></ul></li></ul></li><li><span><a href=\"#Merge\" data-toc-modified-id=\"Merge-9.1\"><span class=\"toc-item-num\">9.1&nbsp;&nbsp;</span>Merge</a></span></li><li><span><a href=\"#Plot\" data-toc-modified-id=\"Plot-9.2\"><span class=\"toc-item-num\">9.2&nbsp;&nbsp;</span>Plot</a></span><ul class=\"toc-item\"><li><span><a href=\"#Most-Popular\" data-toc-modified-id=\"Most-Popular-9.2.1\"><span class=\"toc-item-num\">9.2.1&nbsp;&nbsp;</span>Most Popular</a></span></li><li><span><a href=\"#Worst-Popular\" data-toc-modified-id=\"Worst-Popular-9.2.2\"><span class=\"toc-item-num\">9.2.2&nbsp;&nbsp;</span>Worst Popular</a></span></li></ul></li></ul></li><li><span><a href=\"#Channel\" data-toc-modified-id=\"Channel-10\"><span class=\"toc-item-num\">10&nbsp;&nbsp;</span>Channel</a></span><ul class=\"toc-item\"><li><ul class=\"toc-item\"><li><span><a href=\"#proportion\" data-toc-modified-id=\"proportion-10.0.1\"><span class=\"toc-item-num\">10.0.1&nbsp;&nbsp;</span>proportion</a></span><ul class=\"toc-item\"><li><span><a href=\"#load-proportion\" data-toc-modified-id=\"load-proportion-10.0.1.1\"><span class=\"toc-item-num\">10.0.1.1&nbsp;&nbsp;</span>load proportion</a></span></li></ul></li><li><span><a href=\"#counts\" data-toc-modified-id=\"counts-10.0.2\"><span class=\"toc-item-num\">10.0.2&nbsp;&nbsp;</span>counts</a></span><ul class=\"toc-item\"><li><span><a href=\"#load-counts\" data-toc-modified-id=\"load-counts-10.0.2.1\"><span class=\"toc-item-num\">10.0.2.1&nbsp;&nbsp;</span>load counts</a></span></li></ul></li></ul></li><li><span><a href=\"#Merge\" data-toc-modified-id=\"Merge-10.1\"><span class=\"toc-item-num\">10.1&nbsp;&nbsp;</span>Merge</a></span></li><li><span><a href=\"#Plot\" data-toc-modified-id=\"Plot-10.2\"><span class=\"toc-item-num\">10.2&nbsp;&nbsp;</span>Plot</a></span><ul class=\"toc-item\"><li><span><a href=\"#Most-Popular\" data-toc-modified-id=\"Most-Popular-10.2.1\"><span class=\"toc-item-num\">10.2.1&nbsp;&nbsp;</span>Most Popular</a></span></li><li><span><a href=\"#Worst-Popular\" data-toc-modified-id=\"Worst-Popular-10.2.2\"><span class=\"toc-item-num\">10.2.2&nbsp;&nbsp;</span>Worst Popular</a></span></li></ul></li></ul></li></ul></div>"
   ]
  },
  {
   "cell_type": "markdown",
   "metadata": {},
   "source": [
    "# EDA with DASK <a class='tocSkip'>"
   ]
  },
  {
   "cell_type": "code",
   "execution_count": 1,
   "metadata": {},
   "outputs": [],
   "source": [
    "import os\n",
    "import numpy as np\n",
    "import pandas as pd\n",
    "from pathlib import Path\n",
    "import matplotlib.pyplot as plt\n",
    "import seaborn as sns\n",
    "\n",
    "import gc\n",
    "import dask.dataframe as dd\n",
    "\n",
    "%matplotlib inline\n",
    "%load_ext memory_profiler"
   ]
  },
  {
   "cell_type": "markdown",
   "metadata": {},
   "source": [
    "# Setting"
   ]
  },
  {
   "cell_type": "markdown",
   "metadata": {},
   "source": [
    "## Path"
   ]
  },
  {
   "cell_type": "code",
   "execution_count": 2,
   "metadata": {},
   "outputs": [
    {
     "name": "stdout",
     "output_type": "stream",
     "text": [
      "True\n",
      "/home/sugihiro/workdir/git/bitbucket/learning_kaggle/TalkingData_AdTracking_Fraud_Detection_Challenge\n",
      "True\n",
      "/home/sugihiro/workdir/git/bitbucket/learning_kaggle/TalkingData_AdTracking_Fraud_Detection_Challenge/data\n",
      "True\n",
      "/home/sugihiro/workdir/git/bitbucket/learning_kaggle/TalkingData_AdTracking_Fraud_Detection_Challenge/data/raw\n",
      "True\n",
      "/home/sugihiro/workdir/git/bitbucket/learning_kaggle/TalkingData_AdTracking_Fraud_Detection_Challenge/data/raw/train.csv\n",
      "True\n",
      "/home/sugihiro/workdir/git/bitbucket/learning_kaggle/TalkingData_AdTracking_Fraud_Detection_Challenge/data/raw/train_sample.csv\n",
      "True\n",
      "/home/sugihiro/workdir/git/bitbucket/learning_kaggle/TalkingData_AdTracking_Fraud_Detection_Challenge/data/raw/test.csv\n",
      "True\n",
      "/home/sugihiro/workdir/git/bitbucket/learning_kaggle/TalkingData_AdTracking_Fraud_Detection_Challenge/data/interim\n"
     ]
    }
   ],
   "source": [
    "HOME_PATH = Path(os.getcwd()).parent\n",
    "dire = str(HOME_PATH)\n",
    "print(os.path.exists(dire))\n",
    "print(dire)\n",
    "    \n",
    "data_Path = HOME_PATH / \"data\"\n",
    "dire = str(data_Path)\n",
    "print(os.path.exists(dire))\n",
    "print(dire)\n",
    "\n",
    "raw_data_Path = data_Path / \"raw\"\n",
    "dire = str(raw_data_Path)\n",
    "print(os.path.exists(dire))\n",
    "print(dire)\n",
    "\n",
    "train_csv_Path = raw_data_Path / \"train.csv\"\n",
    "dire = str(train_csv_Path)\n",
    "print(os.path.exists(dire))\n",
    "print(dire)\n",
    "\n",
    "train_sample_csv_Path = raw_data_Path / \"train_sample.csv\"\n",
    "dire = str(train_sample_csv_Path)\n",
    "print(os.path.exists(dire))\n",
    "print(dire)\n",
    "\n",
    "test_csv_Path = raw_data_Path / \"test.csv\"\n",
    "dire = str(test_csv_Path)\n",
    "print(os.path.exists(dire))\n",
    "print(dire)\n",
    "\n",
    "interim_data_Path = data_Path / \"interim\"\n",
    "dire = str(interim_data_Path)\n",
    "print(os.path.exists(dire))\n",
    "print(dire)\n"
   ]
  },
  {
   "cell_type": "markdown",
   "metadata": {},
   "source": [
    "## dtype"
   ]
  },
  {
   "cell_type": "code",
   "execution_count": 3,
   "metadata": {},
   "outputs": [],
   "source": [
    "dtypes = {\n",
    "    \"ip\" : \"uint32\",\n",
    "    \"app\" : \"uint16\",\n",
    "    \"device\" : \"uint16\",\n",
    "    \"os\" : \"uint16\",\n",
    "    \"channel\" : \"uint16\",\n",
    "    \"is_attributed\" : \"uint8\",\n",
    "}"
   ]
  },
  {
   "cell_type": "markdown",
   "metadata": {},
   "source": [
    "## read_csv\n",
    "必要最低限のdata型を指定してやるとメモリを節約ができるのでここでもちゃんと指定しています。\n",
    "読み込んでいます。"
   ]
  },
  {
   "cell_type": "code",
   "execution_count": 4,
   "metadata": {},
   "outputs": [],
   "source": [
    "df_train = dd.read_csv(urlpath=str(train_csv_Path),\n",
    "                       #blocksize=3*64000000,\n",
    "                       dtype=dtypes,\n",
    "                       parse_dates=[\"click_time\", \"attributed_time\"],\n",
    "                      )"
   ]
  },
  {
   "cell_type": "code",
   "execution_count": 61,
   "metadata": {},
   "outputs": [
    {
     "data": {
      "text/html": [
       "<div>\n",
       "<style scoped>\n",
       "    .dataframe tbody tr th:only-of-type {\n",
       "        vertical-align: middle;\n",
       "    }\n",
       "\n",
       "    .dataframe tbody tr th {\n",
       "        vertical-align: top;\n",
       "    }\n",
       "\n",
       "    .dataframe thead th {\n",
       "        text-align: right;\n",
       "    }\n",
       "</style>\n",
       "<table border=\"1\" class=\"dataframe\">\n",
       "  <thead>\n",
       "    <tr style=\"text-align: right;\">\n",
       "      <th></th>\n",
       "      <th>ip</th>\n",
       "      <th>app</th>\n",
       "      <th>device</th>\n",
       "      <th>os</th>\n",
       "      <th>channel</th>\n",
       "      <th>click_time</th>\n",
       "      <th>attributed_time</th>\n",
       "      <th>is_attributed</th>\n",
       "    </tr>\n",
       "  </thead>\n",
       "  <tbody>\n",
       "    <tr>\n",
       "      <th>0</th>\n",
       "      <td>83230</td>\n",
       "      <td>3</td>\n",
       "      <td>1</td>\n",
       "      <td>13</td>\n",
       "      <td>379</td>\n",
       "      <td>2017-11-06 14:32:21</td>\n",
       "      <td>NaT</td>\n",
       "      <td>0</td>\n",
       "    </tr>\n",
       "    <tr>\n",
       "      <th>1</th>\n",
       "      <td>17357</td>\n",
       "      <td>3</td>\n",
       "      <td>1</td>\n",
       "      <td>19</td>\n",
       "      <td>379</td>\n",
       "      <td>2017-11-06 14:33:34</td>\n",
       "      <td>NaT</td>\n",
       "      <td>0</td>\n",
       "    </tr>\n",
       "    <tr>\n",
       "      <th>2</th>\n",
       "      <td>35810</td>\n",
       "      <td>3</td>\n",
       "      <td>1</td>\n",
       "      <td>13</td>\n",
       "      <td>379</td>\n",
       "      <td>2017-11-06 14:34:12</td>\n",
       "      <td>NaT</td>\n",
       "      <td>0</td>\n",
       "    </tr>\n",
       "    <tr>\n",
       "      <th>3</th>\n",
       "      <td>45745</td>\n",
       "      <td>14</td>\n",
       "      <td>1</td>\n",
       "      <td>13</td>\n",
       "      <td>478</td>\n",
       "      <td>2017-11-06 14:34:52</td>\n",
       "      <td>NaT</td>\n",
       "      <td>0</td>\n",
       "    </tr>\n",
       "    <tr>\n",
       "      <th>4</th>\n",
       "      <td>161007</td>\n",
       "      <td>3</td>\n",
       "      <td>1</td>\n",
       "      <td>13</td>\n",
       "      <td>379</td>\n",
       "      <td>2017-11-06 14:35:08</td>\n",
       "      <td>NaT</td>\n",
       "      <td>0</td>\n",
       "    </tr>\n",
       "  </tbody>\n",
       "</table>\n",
       "</div>"
      ],
      "text/plain": [
       "       ip  app  device  os  channel          click_time attributed_time  \\\n",
       "0   83230    3       1  13      379 2017-11-06 14:32:21             NaT   \n",
       "1   17357    3       1  19      379 2017-11-06 14:33:34             NaT   \n",
       "2   35810    3       1  13      379 2017-11-06 14:34:12             NaT   \n",
       "3   45745   14       1  13      478 2017-11-06 14:34:52             NaT   \n",
       "4  161007    3       1  13      379 2017-11-06 14:35:08             NaT   \n",
       "\n",
       "   is_attributed  \n",
       "0              0  \n",
       "1              0  \n",
       "2              0  \n",
       "3              0  \n",
       "4              0  "
      ]
     },
     "execution_count": 61,
     "metadata": {},
     "output_type": "execute_result"
    }
   ],
   "source": [
    "df_train.head()"
   ]
  },
  {
   "cell_type": "code",
   "execution_count": 62,
   "metadata": {},
   "outputs": [
    {
     "data": {
      "text/plain": [
       "118"
      ]
     },
     "execution_count": 62,
     "metadata": {},
     "output_type": "execute_result"
    }
   ],
   "source": [
    "# 118個に分割されていることがわかります。\n",
    "df_train.npartitions"
   ]
  },
  {
   "cell_type": "markdown",
   "metadata": {},
   "source": [
    "# IsNull\n",
    "　欠損値がないかどうかを確認"
   ]
  },
  {
   "cell_type": "code",
   "execution_count": 5,
   "metadata": {},
   "outputs": [
    {
     "name": "stdout",
     "output_type": "stream",
     "text": [
      "peak memory: 1168.79 MiB, increment: 1046.52 MiB\n",
      "CPU times: user 7min 3s, sys: 23.6 s, total: 7min 27s\n",
      "Wall time: 4min 21s\n"
     ]
    }
   ],
   "source": [
    "%%time\n",
    "%%memit\n",
    "train_isnull = df_train.isnull().sum().compute()"
   ]
  },
  {
   "cell_type": "code",
   "execution_count": 6,
   "metadata": {},
   "outputs": [
    {
     "data": {
      "text/plain": [
       "ip                         0\n",
       "app                        0\n",
       "device                     0\n",
       "os                         0\n",
       "channel                    0\n",
       "click_time                 0\n",
       "attributed_time    184447044\n",
       "is_attributed              0\n",
       "dtype: int64"
      ]
     },
     "execution_count": 6,
     "metadata": {},
     "output_type": "execute_result"
    }
   ],
   "source": [
    "train_isnull"
   ]
  },
  {
   "cell_type": "code",
   "execution_count": null,
   "metadata": {},
   "outputs": [],
   "source": [
    "# save\n",
    "train_isnull.to_csv(path=str(interim_data_Path / \"train_isnull.csv\"))"
   ]
  },
  {
   "cell_type": "code",
   "execution_count": 64,
   "metadata": {
    "scrolled": true
   },
   "outputs": [
    {
     "data": {
      "text/html": [
       "<div>\n",
       "<style scoped>\n",
       "    .dataframe tbody tr th:only-of-type {\n",
       "        vertical-align: middle;\n",
       "    }\n",
       "\n",
       "    .dataframe tbody tr th {\n",
       "        vertical-align: top;\n",
       "    }\n",
       "\n",
       "    .dataframe thead th {\n",
       "        text-align: right;\n",
       "    }\n",
       "</style>\n",
       "<table border=\"1\" class=\"dataframe\">\n",
       "  <thead>\n",
       "    <tr style=\"text-align: right;\">\n",
       "      <th></th>\n",
       "      <th>0</th>\n",
       "      <th>1</th>\n",
       "    </tr>\n",
       "  </thead>\n",
       "  <tbody>\n",
       "    <tr>\n",
       "      <th>0</th>\n",
       "      <td>ip</td>\n",
       "      <td>0</td>\n",
       "    </tr>\n",
       "    <tr>\n",
       "      <th>1</th>\n",
       "      <td>app</td>\n",
       "      <td>0</td>\n",
       "    </tr>\n",
       "    <tr>\n",
       "      <th>2</th>\n",
       "      <td>device</td>\n",
       "      <td>0</td>\n",
       "    </tr>\n",
       "    <tr>\n",
       "      <th>3</th>\n",
       "      <td>os</td>\n",
       "      <td>0</td>\n",
       "    </tr>\n",
       "    <tr>\n",
       "      <th>4</th>\n",
       "      <td>channel</td>\n",
       "      <td>0</td>\n",
       "    </tr>\n",
       "    <tr>\n",
       "      <th>5</th>\n",
       "      <td>click_time</td>\n",
       "      <td>0</td>\n",
       "    </tr>\n",
       "    <tr>\n",
       "      <th>6</th>\n",
       "      <td>attributed_time</td>\n",
       "      <td>184447044</td>\n",
       "    </tr>\n",
       "    <tr>\n",
       "      <th>7</th>\n",
       "      <td>is_attributed</td>\n",
       "      <td>0</td>\n",
       "    </tr>\n",
       "  </tbody>\n",
       "</table>\n",
       "</div>"
      ],
      "text/plain": [
       "                 0          1\n",
       "0               ip          0\n",
       "1              app          0\n",
       "2           device          0\n",
       "3               os          0\n",
       "4          channel          0\n",
       "5       click_time          0\n",
       "6  attributed_time  184447044\n",
       "7    is_attributed          0"
      ]
     },
     "execution_count": 64,
     "metadata": {},
     "output_type": "execute_result"
    }
   ],
   "source": [
    "train_isnull = pd.read_csv(filepath_or_buffer=str(interim_data_Path / \"train_isnull.csv\"), header=None)\n",
    "train_isnull"
   ]
  },
  {
   "cell_type": "code",
   "execution_count": 7,
   "metadata": {
    "scrolled": true
   },
   "outputs": [
    {
     "data": {
      "text/plain": [
       "0"
      ]
     },
     "execution_count": 7,
     "metadata": {},
     "output_type": "execute_result"
    }
   ],
   "source": [
    "gc.collect()"
   ]
  },
  {
   "cell_type": "markdown",
   "metadata": {},
   "source": [
    "# Describe"
   ]
  },
  {
   "cell_type": "code",
   "execution_count": 66,
   "metadata": {},
   "outputs": [
    {
     "name": "stdout",
     "output_type": "stream",
     "text": [
      "peak memory: 1599.46 MiB, increment: 461.56 MiB\n",
      "CPU times: user 8min 22s, sys: 31.4 s, total: 8min 54s\n",
      "Wall time: 5min 30s\n"
     ]
    }
   ],
   "source": [
    "%%time\n",
    "%%memit\n",
    "train_desc = df_train.describe().compute()\n",
    "# save\n",
    "train_desc.to_csv(path_or_buf=str(interim_data_Path / \"train_desc.csv\"))"
   ]
  },
  {
   "cell_type": "code",
   "execution_count": 67,
   "metadata": {},
   "outputs": [
    {
     "data": {
      "text/html": [
       "<div>\n",
       "<style scoped>\n",
       "    .dataframe tbody tr th:only-of-type {\n",
       "        vertical-align: middle;\n",
       "    }\n",
       "\n",
       "    .dataframe tbody tr th {\n",
       "        vertical-align: top;\n",
       "    }\n",
       "\n",
       "    .dataframe thead th {\n",
       "        text-align: right;\n",
       "    }\n",
       "</style>\n",
       "<table border=\"1\" class=\"dataframe\">\n",
       "  <thead>\n",
       "    <tr style=\"text-align: right;\">\n",
       "      <th></th>\n",
       "      <th>ip</th>\n",
       "      <th>app</th>\n",
       "      <th>device</th>\n",
       "      <th>os</th>\n",
       "      <th>channel</th>\n",
       "      <th>is_attributed</th>\n",
       "    </tr>\n",
       "  </thead>\n",
       "  <tbody>\n",
       "    <tr>\n",
       "      <th>count</th>\n",
       "      <td>1.849039e+08</td>\n",
       "      <td>1.849039e+08</td>\n",
       "      <td>1.849039e+08</td>\n",
       "      <td>1.849039e+08</td>\n",
       "      <td>1.849039e+08</td>\n",
       "      <td>1.849039e+08</td>\n",
       "    </tr>\n",
       "    <tr>\n",
       "      <th>mean</th>\n",
       "      <td>9.087604e+04</td>\n",
       "      <td>1.201131e+01</td>\n",
       "      <td>2.172325e+01</td>\n",
       "      <td>2.267702e+01</td>\n",
       "      <td>2.685789e+02</td>\n",
       "      <td>2.470721e-03</td>\n",
       "    </tr>\n",
       "    <tr>\n",
       "      <th>std</th>\n",
       "      <td>NaN</td>\n",
       "      <td>1.349551e+01</td>\n",
       "      <td>NaN</td>\n",
       "      <td>1.311430e+01</td>\n",
       "      <td>NaN</td>\n",
       "      <td>4.964491e-02</td>\n",
       "    </tr>\n",
       "    <tr>\n",
       "      <th>min</th>\n",
       "      <td>1.000000e+00</td>\n",
       "      <td>0.000000e+00</td>\n",
       "      <td>0.000000e+00</td>\n",
       "      <td>0.000000e+00</td>\n",
       "      <td>0.000000e+00</td>\n",
       "      <td>0.000000e+00</td>\n",
       "    </tr>\n",
       "    <tr>\n",
       "      <th>25%</th>\n",
       "      <td>4.318000e+04</td>\n",
       "      <td>6.000000e+00</td>\n",
       "      <td>1.000000e+00</td>\n",
       "      <td>1.300000e+01</td>\n",
       "      <td>1.780000e+02</td>\n",
       "      <td>0.000000e+00</td>\n",
       "    </tr>\n",
       "    <tr>\n",
       "      <th>50%</th>\n",
       "      <td>8.336600e+04</td>\n",
       "      <td>1.200000e+01</td>\n",
       "      <td>1.000000e+00</td>\n",
       "      <td>1.800000e+01</td>\n",
       "      <td>2.800000e+02</td>\n",
       "      <td>0.000000e+00</td>\n",
       "    </tr>\n",
       "    <tr>\n",
       "      <th>75%</th>\n",
       "      <td>1.228930e+05</td>\n",
       "      <td>1.700000e+01</td>\n",
       "      <td>1.000000e+00</td>\n",
       "      <td>1.900000e+01</td>\n",
       "      <td>4.240000e+02</td>\n",
       "      <td>0.000000e+00</td>\n",
       "    </tr>\n",
       "    <tr>\n",
       "      <th>max</th>\n",
       "      <td>3.647780e+05</td>\n",
       "      <td>7.680000e+02</td>\n",
       "      <td>4.227000e+03</td>\n",
       "      <td>9.560000e+02</td>\n",
       "      <td>5.000000e+02</td>\n",
       "      <td>1.000000e+00</td>\n",
       "    </tr>\n",
       "  </tbody>\n",
       "</table>\n",
       "</div>"
      ],
      "text/plain": [
       "                 ip           app        device            os       channel  \\\n",
       "count  1.849039e+08  1.849039e+08  1.849039e+08  1.849039e+08  1.849039e+08   \n",
       "mean   9.087604e+04  1.201131e+01  2.172325e+01  2.267702e+01  2.685789e+02   \n",
       "std             NaN  1.349551e+01           NaN  1.311430e+01           NaN   \n",
       "min    1.000000e+00  0.000000e+00  0.000000e+00  0.000000e+00  0.000000e+00   \n",
       "25%    4.318000e+04  6.000000e+00  1.000000e+00  1.300000e+01  1.780000e+02   \n",
       "50%    8.336600e+04  1.200000e+01  1.000000e+00  1.800000e+01  2.800000e+02   \n",
       "75%    1.228930e+05  1.700000e+01  1.000000e+00  1.900000e+01  4.240000e+02   \n",
       "max    3.647780e+05  7.680000e+02  4.227000e+03  9.560000e+02  5.000000e+02   \n",
       "\n",
       "       is_attributed  \n",
       "count   1.849039e+08  \n",
       "mean    2.470721e-03  \n",
       "std     4.964491e-02  \n",
       "min     0.000000e+00  \n",
       "25%     0.000000e+00  \n",
       "50%     0.000000e+00  \n",
       "75%     0.000000e+00  \n",
       "max     1.000000e+00  "
      ]
     },
     "execution_count": 67,
     "metadata": {},
     "output_type": "execute_result"
    }
   ],
   "source": [
    "# load\n",
    "train_desc = pd.read_csv(filepath_or_buffer=str(interim_data_Path / \"train_desc.csv\"),\n",
    "                         index_col=0\n",
    "                        )\n",
    "train_desc"
   ]
  },
  {
   "cell_type": "code",
   "execution_count": 68,
   "metadata": {},
   "outputs": [
    {
     "data": {
      "text/plain": [
       "1117"
      ]
     },
     "execution_count": 68,
     "metadata": {},
     "output_type": "execute_result"
    }
   ],
   "source": [
    "gc.collect()"
   ]
  },
  {
   "cell_type": "markdown",
   "metadata": {},
   "source": [
    "# \"is_attributed\" mean\n",
    "全てのデータの\"is_attributed\"の平均値は\"is_attributed\"が1.0であるデータの割合になります。"
   ]
  },
  {
   "cell_type": "code",
   "execution_count": 69,
   "metadata": {},
   "outputs": [
    {
     "name": "stdout",
     "output_type": "stream",
     "text": [
      "0.002470721410998979\n",
      "<class 'numpy.float64'>\n",
      "peak memory: 1602.40 MiB, increment: 464.37 MiB\n",
      "CPU times: user 6min 36s, sys: 19 s, total: 6min 55s\n",
      "Wall time: 4min 22s\n"
     ]
    }
   ],
   "source": [
    "%%time\n",
    "%%memit\n",
    "mean = df_train[\"is_attributed\"].mean().compute()\n",
    "print(mean)\n",
    "print(type(mean))\n",
    "\n",
    "with open(file=str(interim_data_Path / \"train_mean_of_is_attributed.txt\"), mode='wt') as f:\n",
    "    f.write(str(mean))"
   ]
  },
  {
   "cell_type": "code",
   "execution_count": 8,
   "metadata": {},
   "outputs": [
    {
     "data": {
      "text/plain": [
       "0.002470721410998979"
      ]
     },
     "execution_count": 8,
     "metadata": {},
     "output_type": "execute_result"
    }
   ],
   "source": [
    "with open(file=str(interim_data_Path /\"train_mean_of_is_attributed.txt\"), mode=\"rt\") as f:\n",
    "    mean = np.float64(f.readline())\n",
    "mean"
   ]
  },
  {
   "cell_type": "code",
   "execution_count": 15,
   "metadata": {},
   "outputs": [
    {
     "data": {
      "text/html": [
       "<div>\n",
       "<style scoped>\n",
       "    .dataframe tbody tr th:only-of-type {\n",
       "        vertical-align: middle;\n",
       "    }\n",
       "\n",
       "    .dataframe tbody tr th {\n",
       "        vertical-align: top;\n",
       "    }\n",
       "\n",
       "    .dataframe thead th {\n",
       "        text-align: right;\n",
       "    }\n",
       "</style>\n",
       "<table border=\"1\" class=\"dataframe\">\n",
       "  <thead>\n",
       "    <tr style=\"text-align: right;\">\n",
       "      <th></th>\n",
       "      <th>App Downloaded (1)</th>\n",
       "      <th>Not Downloaded (2)</th>\n",
       "    </tr>\n",
       "  </thead>\n",
       "  <tbody>\n",
       "    <tr>\n",
       "      <th>0</th>\n",
       "      <td>0.002471</td>\n",
       "      <td>0.997529</td>\n",
       "    </tr>\n",
       "  </tbody>\n",
       "</table>\n",
       "</div>"
      ],
      "text/plain": [
       "   App Downloaded (1)  Not Downloaded (2)\n",
       "0            0.002471            0.997529"
      ]
     },
     "execution_count": 15,
     "metadata": {},
     "output_type": "execute_result"
    }
   ],
   "source": [
    "prop_df = pd.DataFrame(data=[[mean, 1-mean]],\n",
    "                       index=None,\n",
    "                       columns=[\"App Downloaded (1)\", \"Not Downloaded (2)\"],\n",
    "                     )\n",
    "tmp.loc[[0]]"
   ]
  },
  {
   "cell_type": "markdown",
   "metadata": {},
   "source": [
    "## plot"
   ]
  },
  {
   "cell_type": "code",
   "execution_count": 18,
   "metadata": {},
   "outputs": [
    {
     "data": {
      "image/png": "[encoded data removed]",
      "text/plain": [
       "<matplotlib.figure.Figure at 0x7f9e113d1dd8>"
      ]
     },
     "metadata": {},
     "output_type": "display_data"
    }
   ],
   "source": [
    "title = \"is_attributed_proportion\"\n",
    "\n",
    "fig = plt.figure(figsize=(10, 6))\n",
    "ax = fig.add_subplot(1, 1, 1)\n",
    "\n",
    "sns.barplot(data=prop_df,\n",
    "            order=[\"App Downloaded (1)\", \"Not Downloaded (2)\"],\n",
    "            ax=ax,\n",
    "           )\n",
    "ax.set_title(title)\n",
    "ax.set_xlabel(xlabel=\"is_attributed\")\n",
    "ax.set_ylabel(ylabel=\"Proportion\")\n",
    "\n",
    "for p, prop in zip(ax.patches, prop_df.loc[0]):\n",
    "    height = p.get_height()\n",
    "    ax.text(x=p.get_x() + p.get_width() / 2,\n",
    "            y=height + 0.01,\n",
    "            s=\"%f %%\" % prop,\n",
    "            ha=\"center\",\n",
    "           )\n",
    "fig.savefig(fname=str(data_Path / \"plot\" / (title + \".png\")))"
   ]
  },
  {
   "cell_type": "markdown",
   "metadata": {},
   "source": [
    "# Unique\n",
    "the number of unique features"
   ]
  },
  {
   "cell_type": "code",
   "execution_count": 71,
   "metadata": {},
   "outputs": [],
   "source": [
    "# exclude \"click_time\", \"attribute\"\n",
    "    # \"click_time\" : too many unique values\n",
    "    # \"attribute_time\" : too many missing value\n",
    "features = [\"ip\", \"app\", \"device\", \"os\", \"channel\"]"
   ]
  },
  {
   "cell_type": "code",
   "execution_count": 72,
   "metadata": {},
   "outputs": [
    {
     "name": "stdout",
     "output_type": "stream",
     "text": [
      "<class 'int'>\n",
      "peak memory: 1634.09 MiB, increment: 496.52 MiB\n",
      "CPU times: user 32min 47s, sys: 1min 29s, total: 34min 17s\n",
      "Wall time: 21min 45s\n"
     ]
    }
   ],
   "source": [
    "%%time\n",
    "%%memit\n",
    "uniques = [len(df_train[f].unique().compute()) for f in features]\n",
    "\n",
    "print(type(uniques[0]))\n",
    "\n",
    "uniques = pd.DataFrame(data=np.array(uniques).reshape(1, 5), columns=features)\n",
    "uniques.to_csv(path_or_buf=str(interim_data_Path / \"train_features_uniques.csv\"))"
   ]
  },
  {
   "cell_type": "code",
   "execution_count": 73,
   "metadata": {},
   "outputs": [
    {
     "data": {
      "text/html": [
       "<div>\n",
       "<style scoped>\n",
       "    .dataframe tbody tr th:only-of-type {\n",
       "        vertical-align: middle;\n",
       "    }\n",
       "\n",
       "    .dataframe tbody tr th {\n",
       "        vertical-align: top;\n",
       "    }\n",
       "\n",
       "    .dataframe thead th {\n",
       "        text-align: right;\n",
       "    }\n",
       "</style>\n",
       "<table border=\"1\" class=\"dataframe\">\n",
       "  <thead>\n",
       "    <tr style=\"text-align: right;\">\n",
       "      <th></th>\n",
       "      <th>ip</th>\n",
       "      <th>app</th>\n",
       "      <th>device</th>\n",
       "      <th>os</th>\n",
       "      <th>channel</th>\n",
       "    </tr>\n",
       "  </thead>\n",
       "  <tbody>\n",
       "    <tr>\n",
       "      <th>0</th>\n",
       "      <td>277396</td>\n",
       "      <td>706</td>\n",
       "      <td>3475</td>\n",
       "      <td>800</td>\n",
       "      <td>202</td>\n",
       "    </tr>\n",
       "  </tbody>\n",
       "</table>\n",
       "</div>"
      ],
      "text/plain": [
       "       ip  app  device   os  channel\n",
       "0  277396  706    3475  800      202"
      ]
     },
     "execution_count": 73,
     "metadata": {},
     "output_type": "execute_result"
    }
   ],
   "source": [
    "uniques = pd.read_csv(filepath_or_buffer=str(interim_data_Path / \"train_features_uniques.csv\"),\n",
    "                      index_col=0,\n",
    "                      #dtype=,\n",
    "                     )\n",
    "uniques"
   ]
  },
  {
   "cell_type": "markdown",
   "metadata": {},
   "source": [
    "## barplot"
   ]
  },
  {
   "cell_type": "code",
   "execution_count": 74,
   "metadata": {},
   "outputs": [
    {
     "name": "stdout",
     "output_type": "stream",
     "text": [
      "[5.44310019 2.8488047  3.54095481 2.90308999 2.30535137]\n"
     ]
    },
    {
     "data": {
      "image/png": "[encoded data removed]",
      "text/plain": [
       "<matplotlib.figure.Figure at 0x7f5badc94b70>"
      ]
     },
     "metadata": {},
     "output_type": "display_data"
    }
   ],
   "source": [
    "title = \"uniques_counts_log10_plot\"\n",
    "\n",
    "fig = plt.figure(figsize=(10, 6))\n",
    "ax1 = fig.add_subplot(1, 1, 1)\n",
    "val = np.log10(uniques.values[0])\n",
    "print(val)\n",
    "\n",
    "idx_cols = np.arange(len(uniques.columns))\n",
    "b = ax1.bar(idx_cols, val)\n",
    "ax1.set_xticks(idx_cols)\n",
    "ax1.set_xticklabels(uniques.columns)\n",
    "#ax1.set_ylim([0, 100])\n",
    "ax1.set_ylabel('log10(y)')\n",
    "\n",
    "\n",
    "color_list = [\"#6666ff\", \"#ffb266\", \"#009900\", \"#000099\", \"#cc99ff\"]\n",
    "for i in idx_cols:\n",
    "    b[i].set_facecolor(color_list[i])\n",
    "for p, v in zip(ax1.patches, uniques.values[0]):\n",
    "    ax1.text(x=p.get_x() + p.get_width() / 2,\n",
    "             y=p.get_height() + 0.05,\n",
    "             s=v,\n",
    "             ha=\"center\",\n",
    "            )\n",
    "\n",
    "ax1.set_title(title)\n",
    "fig.savefig(fname=str(data_Path / \"plot\" / (title + \".png\")))"
   ]
  },
  {
   "cell_type": "code",
   "execution_count": null,
   "metadata": {},
   "outputs": [],
   "source": []
  },
  {
   "cell_type": "code",
   "execution_count": null,
   "metadata": {},
   "outputs": [],
   "source": []
  },
  {
   "cell_type": "markdown",
   "metadata": {},
   "source": [
    "# IP"
   ]
  },
  {
   "cell_type": "code",
   "execution_count": 130,
   "metadata": {},
   "outputs": [],
   "source": [
    "fea = \"ip\"\n",
    "n_plot = 300"
   ]
  },
  {
   "cell_type": "code",
   "execution_count": 76,
   "metadata": {},
   "outputs": [
    {
     "name": "stdout",
     "output_type": "stream",
     "text": [
      "<class 'dask.dataframe.core.Series'>\n",
      "<class 'dask.dataframe.core.DataFrame'>\n"
     ]
    },
    {
     "data": {
      "text/plain": [
       "3121"
      ]
     },
     "execution_count": 76,
     "metadata": {},
     "output_type": "execute_result"
    }
   ],
   "source": [
    "df_fea_val_counts_tmp = df_train[fea].value_counts()\n",
    "print(type(df_fea_val_counts_tmp))\n",
    "\n",
    "# SeriesからDataFrameに変換\n",
    "df_fea_val_counts_tmp = df_fea_val_counts_tmp.to_frame()\n",
    "print(type(df_fea_val_counts_tmp))\n",
    "\n",
    "df_fea_val_counts = df_fea_val_counts_tmp.reset_index(drop=False)\n",
    "\n",
    "del df_fea_val_counts_tmp\n",
    "\n",
    "df_fea_val_counts.columns = [fea, 'counts']\n",
    "\n",
    "# save df_ip_val_counts\n",
    "df_fea_val_counts.to_csv(filename=str(interim_data_Path / (\"train_\"+fea+\"_val_counts-*.csv\")))\n",
    "\n",
    "del df_fea_val_counts\n",
    "gc.collect()"
   ]
  },
  {
   "cell_type": "code",
   "execution_count": 20,
   "metadata": {},
   "outputs": [],
   "source": [
    "# load\n",
    "tmp = dd.read_csv(urlpath=str(interim_data_Path / (\"train_\"+fea+\"_val_counts-0.csv\")),)\n",
    "df_fea_val_counts = tmp.drop(labels=tmp.columns[0], axis=1)"
   ]
  },
  {
   "cell_type": "code",
   "execution_count": 21,
   "metadata": {
    "scrolled": true
   },
   "outputs": [
    {
     "data": {
      "text/html": [
       "<div>\n",
       "<style scoped>\n",
       "    .dataframe tbody tr th:only-of-type {\n",
       "        vertical-align: middle;\n",
       "    }\n",
       "\n",
       "    .dataframe tbody tr th {\n",
       "        vertical-align: top;\n",
       "    }\n",
       "\n",
       "    .dataframe thead th {\n",
       "        text-align: right;\n",
       "    }\n",
       "</style>\n",
       "<table border=\"1\" class=\"dataframe\">\n",
       "  <thead>\n",
       "    <tr style=\"text-align: right;\">\n",
       "      <th></th>\n",
       "      <th>ip</th>\n",
       "      <th>counts</th>\n",
       "    </tr>\n",
       "  </thead>\n",
       "  <tbody>\n",
       "    <tr>\n",
       "      <th>0</th>\n",
       "      <td>5348</td>\n",
       "      <td>1238734</td>\n",
       "    </tr>\n",
       "    <tr>\n",
       "      <th>1</th>\n",
       "      <td>5314</td>\n",
       "      <td>1171448</td>\n",
       "    </tr>\n",
       "    <tr>\n",
       "      <th>2</th>\n",
       "      <td>73516</td>\n",
       "      <td>770451</td>\n",
       "    </tr>\n",
       "    <tr>\n",
       "      <th>3</th>\n",
       "      <td>73487</td>\n",
       "      <td>763854</td>\n",
       "    </tr>\n",
       "    <tr>\n",
       "      <th>4</th>\n",
       "      <td>53454</td>\n",
       "      <td>498186</td>\n",
       "    </tr>\n",
       "  </tbody>\n",
       "</table>\n",
       "</div>"
      ],
      "text/plain": [
       "      ip   counts\n",
       "0   5348  1238734\n",
       "1   5314  1171448\n",
       "2  73516   770451\n",
       "3  73487   763854\n",
       "4  53454   498186"
      ]
     },
     "execution_count": 21,
     "metadata": {},
     "output_type": "execute_result"
    }
   ],
   "source": [
    "df_fea_val_counts.head()"
   ]
  },
  {
   "cell_type": "code",
   "execution_count": 22,
   "metadata": {},
   "outputs": [],
   "source": [
    "df_train_tmp = dd.merge(left=df_train,\n",
    "                        right=df_fea_val_counts,\n",
    "                        how=\"left\",\n",
    "                        on=fea,\n",
    "                       )"
   ]
  },
  {
   "cell_type": "code",
   "execution_count": 80,
   "metadata": {},
   "outputs": [
    {
     "data": {
      "text/html": [
       "<div>\n",
       "<style scoped>\n",
       "    .dataframe tbody tr th:only-of-type {\n",
       "        vertical-align: middle;\n",
       "    }\n",
       "\n",
       "    .dataframe tbody tr th {\n",
       "        vertical-align: top;\n",
       "    }\n",
       "\n",
       "    .dataframe thead th {\n",
       "        text-align: right;\n",
       "    }\n",
       "</style>\n",
       "<table border=\"1\" class=\"dataframe\">\n",
       "  <thead>\n",
       "    <tr style=\"text-align: right;\">\n",
       "      <th></th>\n",
       "      <th>ip</th>\n",
       "      <th>app</th>\n",
       "      <th>device</th>\n",
       "      <th>os</th>\n",
       "      <th>channel</th>\n",
       "      <th>click_time</th>\n",
       "      <th>attributed_time</th>\n",
       "      <th>is_attributed</th>\n",
       "      <th>counts</th>\n",
       "    </tr>\n",
       "  </thead>\n",
       "  <tbody>\n",
       "    <tr>\n",
       "      <th>0</th>\n",
       "      <td>83230</td>\n",
       "      <td>3</td>\n",
       "      <td>1</td>\n",
       "      <td>13</td>\n",
       "      <td>379</td>\n",
       "      <td>2017-11-06 14:32:21</td>\n",
       "      <td>NaT</td>\n",
       "      <td>0</td>\n",
       "      <td>25719</td>\n",
       "    </tr>\n",
       "    <tr>\n",
       "      <th>1</th>\n",
       "      <td>17357</td>\n",
       "      <td>3</td>\n",
       "      <td>1</td>\n",
       "      <td>19</td>\n",
       "      <td>379</td>\n",
       "      <td>2017-11-06 14:33:34</td>\n",
       "      <td>NaT</td>\n",
       "      <td>0</td>\n",
       "      <td>24133</td>\n",
       "    </tr>\n",
       "    <tr>\n",
       "      <th>2</th>\n",
       "      <td>35810</td>\n",
       "      <td>3</td>\n",
       "      <td>1</td>\n",
       "      <td>13</td>\n",
       "      <td>379</td>\n",
       "      <td>2017-11-06 14:34:12</td>\n",
       "      <td>NaT</td>\n",
       "      <td>0</td>\n",
       "      <td>9791</td>\n",
       "    </tr>\n",
       "    <tr>\n",
       "      <th>3</th>\n",
       "      <td>45745</td>\n",
       "      <td>14</td>\n",
       "      <td>1</td>\n",
       "      <td>13</td>\n",
       "      <td>478</td>\n",
       "      <td>2017-11-06 14:34:52</td>\n",
       "      <td>NaT</td>\n",
       "      <td>0</td>\n",
       "      <td>169149</td>\n",
       "    </tr>\n",
       "    <tr>\n",
       "      <th>4</th>\n",
       "      <td>161007</td>\n",
       "      <td>3</td>\n",
       "      <td>1</td>\n",
       "      <td>13</td>\n",
       "      <td>379</td>\n",
       "      <td>2017-11-06 14:35:08</td>\n",
       "      <td>NaT</td>\n",
       "      <td>0</td>\n",
       "      <td>1171</td>\n",
       "    </tr>\n",
       "  </tbody>\n",
       "</table>\n",
       "</div>"
      ],
      "text/plain": [
       "       ip  app  device  os  channel          click_time attributed_time  \\\n",
       "0   83230    3       1  13      379 2017-11-06 14:32:21             NaT   \n",
       "1   17357    3       1  19      379 2017-11-06 14:33:34             NaT   \n",
       "2   35810    3       1  13      379 2017-11-06 14:34:12             NaT   \n",
       "3   45745   14       1  13      478 2017-11-06 14:34:52             NaT   \n",
       "4  161007    3       1  13      379 2017-11-06 14:35:08             NaT   \n",
       "\n",
       "   is_attributed  counts  \n",
       "0              0   25719  \n",
       "1              0   24133  \n",
       "2              0    9791  \n",
       "3              0  169149  \n",
       "4              0    1171  "
      ]
     },
     "execution_count": 80,
     "metadata": {},
     "output_type": "execute_result"
    }
   ],
   "source": [
    "df_train_tmp.head()"
   ]
  },
  {
   "cell_type": "code",
   "execution_count": null,
   "metadata": {},
   "outputs": [],
   "source": []
  },
  {
   "cell_type": "markdown",
   "metadata": {},
   "source": [
    "### proportion"
   ]
  },
  {
   "cell_type": "code",
   "execution_count": 23,
   "metadata": {
    "scrolled": false
   },
   "outputs": [],
   "source": [
    "#n = 1000000  # 1000000 > 277396\n",
    "#proportion = df_train_tmp[[fea, 'is_attributed']].groupby(by=fea).mean().reset_index().nlargest(n=n, columns='is_attributed').reset_index(drop=True)\n",
    "proportion = df_train_tmp[[fea, 'is_attributed']].groupby(by=fea).mean().reset_index()\n",
    "proportion.columns = [fea, \"prop_downloaded\"]"
   ]
  },
  {
   "cell_type": "code",
   "execution_count": 82,
   "metadata": {},
   "outputs": [
    {
     "data": {
      "text/html": [
       "<div>\n",
       "<style scoped>\n",
       "    .dataframe tbody tr th:only-of-type {\n",
       "        vertical-align: middle;\n",
       "    }\n",
       "\n",
       "    .dataframe tbody tr th {\n",
       "        vertical-align: top;\n",
       "    }\n",
       "\n",
       "    .dataframe thead th {\n",
       "        text-align: right;\n",
       "    }\n",
       "</style>\n",
       "<table border=\"1\" class=\"dataframe\">\n",
       "  <thead>\n",
       "    <tr style=\"text-align: right;\">\n",
       "      <th></th>\n",
       "      <th>ip</th>\n",
       "      <th>prop_downloaded</th>\n",
       "    </tr>\n",
       "  </thead>\n",
       "  <tbody>\n",
       "    <tr>\n",
       "      <th>0</th>\n",
       "      <td>9</td>\n",
       "      <td>0.001489</td>\n",
       "    </tr>\n",
       "    <tr>\n",
       "      <th>1</th>\n",
       "      <td>10</td>\n",
       "      <td>0.002542</td>\n",
       "    </tr>\n",
       "    <tr>\n",
       "      <th>2</th>\n",
       "      <td>20</td>\n",
       "      <td>0.000670</td>\n",
       "    </tr>\n",
       "    <tr>\n",
       "      <th>3</th>\n",
       "      <td>25</td>\n",
       "      <td>0.004484</td>\n",
       "    </tr>\n",
       "    <tr>\n",
       "      <th>4</th>\n",
       "      <td>27</td>\n",
       "      <td>0.001598</td>\n",
       "    </tr>\n",
       "  </tbody>\n",
       "</table>\n",
       "</div>"
      ],
      "text/plain": [
       "   ip  prop_downloaded\n",
       "0   9         0.001489\n",
       "1  10         0.002542\n",
       "2  20         0.000670\n",
       "3  25         0.004484\n",
       "4  27         0.001598"
      ]
     },
     "execution_count": 82,
     "metadata": {},
     "output_type": "execute_result"
    }
   ],
   "source": [
    "proportion.head()"
   ]
  },
  {
   "cell_type": "code",
   "execution_count": 83,
   "metadata": {},
   "outputs": [
    {
     "data": {
      "text/plain": [
       "277396"
      ]
     },
     "execution_count": 83,
     "metadata": {},
     "output_type": "execute_result"
    }
   ],
   "source": [
    "len(proportion)"
   ]
  },
  {
   "cell_type": "code",
   "execution_count": 84,
   "metadata": {},
   "outputs": [
    {
     "data": {
      "text/plain": [
       "['/home/sugihiro/workdir/git/bitbucket/learning_kaggle/TalkingData_AdTracking_Fraud_Detection_Challenge/data/interim/train_ip_isAttributed_proportion-0.csv']"
      ]
     },
     "execution_count": 84,
     "metadata": {},
     "output_type": "execute_result"
    }
   ],
   "source": [
    "# save\n",
    "proportion.to_csv(filename=str(interim_data_Path / (\"train_\"+fea+\"_isAttributed_proportion-*.csv\")))"
   ]
  },
  {
   "cell_type": "markdown",
   "metadata": {},
   "source": [
    "#### load proportion"
   ]
  },
  {
   "cell_type": "code",
   "execution_count": 131,
   "metadata": {},
   "outputs": [],
   "source": [
    "# load\n",
    "tmp = dd.read_csv(urlpath=str(interim_data_Path / (\"train_\"+fea+\"_isAttributed_proportion-0.csv\")),)\n",
    "proportion = tmp.drop(labels=tmp.columns[0], axis=1)\n",
    "del tmp"
   ]
  },
  {
   "cell_type": "markdown",
   "metadata": {},
   "source": [
    "### counts"
   ]
  },
  {
   "cell_type": "code",
   "execution_count": 86,
   "metadata": {
    "scrolled": true
   },
   "outputs": [],
   "source": [
    "n = 1000000  # 1000000 > 277396\n",
    "counts = df_train_tmp[[fea, 'is_attributed']].groupby(by=fea).count().reset_index().nlargest(n=n, columns='is_attributed').reset_index(drop=True)\n",
    "counts.columns = [fea, \"click_count\"]"
   ]
  },
  {
   "cell_type": "code",
   "execution_count": 87,
   "metadata": {},
   "outputs": [
    {
     "data": {
      "text/html": [
       "<div>\n",
       "<style scoped>\n",
       "    .dataframe tbody tr th:only-of-type {\n",
       "        vertical-align: middle;\n",
       "    }\n",
       "\n",
       "    .dataframe tbody tr th {\n",
       "        vertical-align: top;\n",
       "    }\n",
       "\n",
       "    .dataframe thead th {\n",
       "        text-align: right;\n",
       "    }\n",
       "</style>\n",
       "<table border=\"1\" class=\"dataframe\">\n",
       "  <thead>\n",
       "    <tr style=\"text-align: right;\">\n",
       "      <th></th>\n",
       "      <th>ip</th>\n",
       "      <th>click_count</th>\n",
       "    </tr>\n",
       "  </thead>\n",
       "  <tbody>\n",
       "    <tr>\n",
       "      <th>0</th>\n",
       "      <td>5348</td>\n",
       "      <td>1238734</td>\n",
       "    </tr>\n",
       "    <tr>\n",
       "      <th>1</th>\n",
       "      <td>5314</td>\n",
       "      <td>1171448</td>\n",
       "    </tr>\n",
       "    <tr>\n",
       "      <th>2</th>\n",
       "      <td>73516</td>\n",
       "      <td>770451</td>\n",
       "    </tr>\n",
       "    <tr>\n",
       "      <th>3</th>\n",
       "      <td>73487</td>\n",
       "      <td>763854</td>\n",
       "    </tr>\n",
       "    <tr>\n",
       "      <th>4</th>\n",
       "      <td>53454</td>\n",
       "      <td>498186</td>\n",
       "    </tr>\n",
       "  </tbody>\n",
       "</table>\n",
       "</div>"
      ],
      "text/plain": [
       "      ip  click_count\n",
       "0   5348      1238734\n",
       "1   5314      1171448\n",
       "2  73516       770451\n",
       "3  73487       763854\n",
       "4  53454       498186"
      ]
     },
     "execution_count": 87,
     "metadata": {},
     "output_type": "execute_result"
    }
   ],
   "source": [
    "counts.head()"
   ]
  },
  {
   "cell_type": "code",
   "execution_count": 88,
   "metadata": {},
   "outputs": [
    {
     "data": {
      "text/plain": [
       "277396"
      ]
     },
     "execution_count": 88,
     "metadata": {},
     "output_type": "execute_result"
    }
   ],
   "source": [
    "len(counts)"
   ]
  },
  {
   "cell_type": "code",
   "execution_count": 89,
   "metadata": {},
   "outputs": [
    {
     "data": {
      "text/plain": [
       "['/home/sugihiro/workdir/git/bitbucket/learning_kaggle/TalkingData_AdTracking_Fraud_Detection_Challenge/data/interim/train_ip_isAttributed_counts-0.csv']"
      ]
     },
     "execution_count": 89,
     "metadata": {},
     "output_type": "execute_result"
    }
   ],
   "source": [
    "# save\n",
    "counts.to_csv(filename=str(interim_data_Path / (\"train_\"+fea+\"_isAttributed_counts-*.csv\")))"
   ]
  },
  {
   "cell_type": "markdown",
   "metadata": {},
   "source": [
    "#### load counts"
   ]
  },
  {
   "cell_type": "code",
   "execution_count": 132,
   "metadata": {},
   "outputs": [],
   "source": [
    "# load\n",
    "tmp = dd.read_csv(urlpath=str(interim_data_Path / (\"train_\"+fea+\"_isAttributed_counts-0.csv\")),)\n",
    "counts = tmp.drop(labels=tmp.columns[0], axis=1)\n",
    "del tmp"
   ]
  },
  {
   "cell_type": "markdown",
   "metadata": {},
   "source": [
    "## Merge"
   ]
  },
  {
   "cell_type": "code",
   "execution_count": 133,
   "metadata": {},
   "outputs": [],
   "source": [
    "df_merge = counts.merge(right=proportion, on=fea, how='left', )\n",
    "df_merge.columns = [fea, 'click_count', 'prop_downloaded']"
   ]
  },
  {
   "cell_type": "code",
   "execution_count": 27,
   "metadata": {
    "scrolled": true
   },
   "outputs": [
    {
     "data": {
      "text/html": [
       "<div>\n",
       "<style scoped>\n",
       "    .dataframe tbody tr th:only-of-type {\n",
       "        vertical-align: middle;\n",
       "    }\n",
       "\n",
       "    .dataframe tbody tr th {\n",
       "        vertical-align: top;\n",
       "    }\n",
       "\n",
       "    .dataframe thead th {\n",
       "        text-align: right;\n",
       "    }\n",
       "</style>\n",
       "<table border=\"1\" class=\"dataframe\">\n",
       "  <thead>\n",
       "    <tr style=\"text-align: right;\">\n",
       "      <th></th>\n",
       "      <th>ip</th>\n",
       "      <th>click_count</th>\n",
       "      <th>prop_downloaded</th>\n",
       "    </tr>\n",
       "  </thead>\n",
       "  <tbody>\n",
       "    <tr>\n",
       "      <th>0</th>\n",
       "      <td>5348</td>\n",
       "      <td>1238734</td>\n",
       "      <td>0.001889</td>\n",
       "    </tr>\n",
       "    <tr>\n",
       "      <th>1</th>\n",
       "      <td>5314</td>\n",
       "      <td>1171448</td>\n",
       "      <td>0.001878</td>\n",
       "    </tr>\n",
       "    <tr>\n",
       "      <th>2</th>\n",
       "      <td>73516</td>\n",
       "      <td>770451</td>\n",
       "      <td>0.001330</td>\n",
       "    </tr>\n",
       "    <tr>\n",
       "      <th>3</th>\n",
       "      <td>73487</td>\n",
       "      <td>763854</td>\n",
       "      <td>0.001428</td>\n",
       "    </tr>\n",
       "    <tr>\n",
       "      <th>4</th>\n",
       "      <td>53454</td>\n",
       "      <td>498186</td>\n",
       "      <td>0.000275</td>\n",
       "    </tr>\n",
       "  </tbody>\n",
       "</table>\n",
       "</div>"
      ],
      "text/plain": [
       "      ip  click_count  prop_downloaded\n",
       "0   5348      1238734         0.001889\n",
       "1   5314      1171448         0.001878\n",
       "2  73516       770451         0.001330\n",
       "3  73487       763854         0.001428\n",
       "4  53454       498186         0.000275"
      ]
     },
     "execution_count": 27,
     "metadata": {},
     "output_type": "execute_result"
    }
   ],
   "source": [
    "df_merge.head()"
   ]
  },
  {
   "cell_type": "markdown",
   "metadata": {},
   "source": [
    "## Plot"
   ]
  },
  {
   "cell_type": "markdown",
   "metadata": {},
   "source": [
    "### Most Popular"
   ]
  },
  {
   "cell_type": "code",
   "execution_count": 31,
   "metadata": {
    "scrolled": false
   },
   "outputs": [
    {
     "data": {
      "image/png": "[encoded data removed]",
      "text/plain": [
       "<matplotlib.figure.Figure at 0x7f9e11b08cc0>"
      ]
     },
     "metadata": {},
     "output_type": "display_data"
    }
   ],
   "source": [
    "title = \"Conversion_Rates_over_Counts_of_300_Most_Popular_\"+fea.upper()+\"s\"\n",
    "\n",
    "fig = plt.figure(figsize=(15, 6))\n",
    "ax1 = fig.add_subplot(1, 1, 1)\n",
    "\n",
    "\n",
    "ax1.set_yscale(\"linear\")\n",
    "ax1.yaxis.tick_left()\n",
    "df_merge[['click_count']][:n_plot].compute().plot(ax=ax1, color=\"blue\",)\n",
    "ax1.yaxis.set_label_position(\"left\")\n",
    "ax1.set_ylabel(ylabel='Count of clicks')\n",
    "ax1.legend(loc=3, bbox_to_anchor=(1.05, 1), borderaxespad=0.)\n",
    "\n",
    "ax2 = ax1.twinx()\n",
    "ax2.yaxis.tick_right()\n",
    "df_merge[['prop_downloaded']][:n_plot].compute().plot(ax=ax2, color=\"green\",)\n",
    "ax2.yaxis.set_label_position(\"right\")\n",
    "ax2.set_ylabel(ylabel='Proportion Downloaded')\n",
    "ax2.legend(loc=3, bbox_to_anchor=(1.05, 1 + 0.07), borderaxespad=0.)\n",
    "\n",
    "ax2.set_title(title)\n",
    "ax2.set_xlabel(\"Sort by \" + fea)\n",
    "fig.savefig(fname=str(data_Path / \"plot\" / title))\n",
    "plt.show()\n"
   ]
  },
  {
   "cell_type": "code",
   "execution_count": 32,
   "metadata": {},
   "outputs": [
    {
     "name": "stdout",
     "output_type": "stream",
     "text": [
      "        ip  click_count  prop_downloaded\n",
      "0     5348      1238734         0.001889\n",
      "1     5314      1171448         0.001878\n",
      "2    73516       770451         0.001330\n",
      "3    73487       763854         0.001428\n",
      "4    53454       498186         0.000275\n",
      "5   114276       427453         0.000159\n",
      "6    26995       401495         0.000747\n",
      "7    95766       378693         0.001001\n",
      "8    17149       310996         0.000765\n",
      "9   105475       302192         0.000943\n",
      "10  100275       276799         0.001290\n",
      "11   43793       261970         0.001027\n",
      "12  105560       260049         0.001204\n",
      "13   86767       257649         0.000617\n",
      "14  111025       247187         0.000461\n",
      "15  137052       217614         0.001402\n",
      "16  201182       212448         0.001224\n",
      "17    5178       211556         0.002061\n",
      "18   49602       200053         0.001100\n",
      "19    5147       197994         0.002015\n",
      "20   48282       188092         0.000266\n"
     ]
    }
   ],
   "source": [
    "print(df_merge[:20].compute())"
   ]
  },
  {
   "cell_type": "markdown",
   "metadata": {},
   "source": [
    "### Worst Popular"
   ]
  },
  {
   "cell_type": "code",
   "execution_count": 35,
   "metadata": {
    "scrolled": false
   },
   "outputs": [
    {
     "data": {
      "image/png": "[encoded data removed]",
      "text/plain": [
       "<matplotlib.figure.Figure at 0x7f9e127907f0>"
      ]
     },
     "metadata": {},
     "output_type": "display_data"
    }
   ],
   "source": [
    "title = \"Conversion_Rates_over_Counts_of_300_Worst_Popular_\"+fea.upper()+\"s\"\n",
    "\n",
    "fig = plt.figure(figsize=(15, 6))\n",
    "ax1 = fig.add_subplot(1, 1, 1)\n",
    "\n",
    "ax1.set_yscale(\"linear\")\n",
    "ax1.yaxis.tick_left()\n",
    "df_merge[['click_count']].compute()[-n_plot:].plot(ax=ax1, color=\"blue\", lw=2.0)\n",
    "ax1.yaxis.set_label_position(\"left\")\n",
    "ax1.set_ylabel(ylabel='Count of clicks')\n",
    "ax1.legend(loc=3, bbox_to_anchor=(1.05, 1), borderaxespad=0.)\n",
    "#ax1.set_ylim(bottom=-0.01, top=1.05*df_merge[['click_count']][-n:].max(axis=0)['click_count'])\n",
    "\n",
    "ax2 = ax1.twinx()\n",
    "ax2.yaxis.tick_right()\n",
    "df_merge[['prop_downloaded']].compute()[-n_plot:].plot(ax=ax2, color=\"green\", lw=2.0)\n",
    "ax2.yaxis.set_label_position(\"right\")\n",
    "ax2.set_ylabel(ylabel='Proportion Downloaded')\n",
    "ax2.legend(loc=3, bbox_to_anchor=(1.05, 1 + 0.07), borderaxespad=0.)\n",
    "\n",
    "ax2.set_title(title)\n",
    "ax2.set_xlabel(\"Sort by \" + fea)\n",
    "ax2.set_ylim(bottom=-0.01, top=1.05*df_merge[['prop_downloaded']].compute()[-n_plot:].max(axis=0)['prop_downloaded'])\n",
    "\n",
    "\n",
    "fig.savefig(fname=str(data_Path / \"plot\" / title))\n",
    "plt.show()\n"
   ]
  },
  {
   "cell_type": "code",
   "execution_count": 134,
   "metadata": {
    "scrolled": false
   },
   "outputs": [
    {
     "data": {
      "image/png": "[encoded data removed]",
      "text/plain": [
       "<matplotlib.figure.Figure at 0x7f9e10a067b8>"
      ]
     },
     "metadata": {},
     "output_type": "display_data"
    }
   ],
   "source": [
    "n_plot = 1000\n",
    "title = \"Conversion_Rates_over_Counts_of_1000_Worst_Popular_\"+fea.upper()+\"s\"\n",
    "\n",
    "fig = plt.figure(figsize=(15, 6))\n",
    "ax1 = fig.add_subplot(1, 1, 1)\n",
    "\n",
    "ax1.set_yscale(\"linear\")\n",
    "ax1.yaxis.tick_left()\n",
    "df_merge[['click_count']].compute()[-n_plot:].plot(ax=ax1, color=\"blue\", lw=2.0)\n",
    "ax1.yaxis.set_label_position(\"left\")\n",
    "ax1.set_ylabel(ylabel='Count of clicks')\n",
    "ax1.legend(loc=3, bbox_to_anchor=(1.05, 1), borderaxespad=0.)\n",
    "#ax1.set_ylim(bottom=-0.01, top=1.05*df_merge[['click_count']][-n:].max(axis=0)['click_count'])\n",
    "\n",
    "ax2 = ax1.twinx()\n",
    "ax2.yaxis.tick_right()\n",
    "df_merge[['prop_downloaded']].compute()[-n_plot:].plot(ax=ax2, color=\"green\", lw=2.0)\n",
    "ax2.yaxis.set_label_position(\"right\")\n",
    "ax2.set_ylabel(ylabel='Proportion Downloaded')\n",
    "ax2.legend(loc=3, bbox_to_anchor=(1.05, 1 + 0.07), borderaxespad=0.)\n",
    "\n",
    "ax2.set_title(title)\n",
    "ax2.set_xlabel(\"Sort by \" + fea)\n",
    "ax2.set_ylim(bottom=-0.01, top=1.05*df_merge[['prop_downloaded']].compute()[-n_plot:].max(axis=0)['prop_downloaded'])\n",
    "\n",
    "\n",
    "fig.savefig(fname=str(data_Path / \"plot\" / title))\n",
    "plt.show()\n"
   ]
  },
  {
   "cell_type": "code",
   "execution_count": 135,
   "metadata": {
    "scrolled": false
   },
   "outputs": [
    {
     "data": {
      "image/png": "[encoded data removed]",
      "text/plain": [
       "<matplotlib.figure.Figure at 0x7f9e08541390>"
      ]
     },
     "metadata": {},
     "output_type": "display_data"
    }
   ],
   "source": [
    "n_plot = 10000\n",
    "title = \"Conversion_Rates_over_Counts_of_10000_Worst_Popular_\"+fea.upper()+\"s\"\n",
    "\n",
    "fig = plt.figure(figsize=(15, 6))\n",
    "ax1 = fig.add_subplot(1, 1, 1)\n",
    "\n",
    "ax1.set_yscale(\"linear\")\n",
    "ax1.yaxis.tick_left()\n",
    "df_merge[['click_count']].compute()[-n_plot:].plot(ax=ax1, color=\"blue\", lw=2.0)\n",
    "ax1.yaxis.set_label_position(\"left\")\n",
    "ax1.set_ylabel(ylabel='Count of clicks')\n",
    "ax1.legend(loc=3, bbox_to_anchor=(1.05, 1), borderaxespad=0.)\n",
    "#ax1.set_ylim(bottom=-0.01, top=1.05*df_merge[['click_count']][-n:].max(axis=0)['click_count'])\n",
    "\n",
    "ax2 = ax1.twinx()\n",
    "ax2.yaxis.tick_right()\n",
    "df_merge[['prop_downloaded']].compute()[-n_plot:].plot(ax=ax2, color=\"green\", lw=2.0)\n",
    "ax2.yaxis.set_label_position(\"right\")\n",
    "ax2.set_ylabel(ylabel='Proportion Downloaded')\n",
    "ax2.legend(loc=3, bbox_to_anchor=(1.05, 1 + 0.07), borderaxespad=0.)\n",
    "\n",
    "ax2.set_title(title)\n",
    "ax2.set_xlabel(\"Sort by \" + fea)\n",
    "ax2.set_ylim(bottom=-0.01, top=1.05*df_merge[['prop_downloaded']].compute()[-n_plot:].max(axis=0)['prop_downloaded'])\n",
    "\n",
    "\n",
    "fig.savefig(fname=str(data_Path / \"plot\" / title))\n",
    "plt.show()\n"
   ]
  },
  {
   "cell_type": "code",
   "execution_count": 36,
   "metadata": {},
   "outputs": [
    {
     "name": "stdout",
     "output_type": "stream",
     "text": [
      "            ip  click_count  prop_downloaded\n",
      "277376  257610            1              1.0\n",
      "277377  257574            1              1.0\n",
      "277378  254193            1              1.0\n",
      "277379  257483            1              1.0\n",
      "277380  254248            1              1.0\n",
      "277381  271389            1              1.0\n",
      "277382  254377            1              1.0\n",
      "277383  254408            1              1.0\n",
      "277384  254696            1              1.0\n",
      "277385  254876            1              1.0\n",
      "277386  255080            1              1.0\n",
      "277387  255322            1              1.0\n",
      "277388  255706            1              1.0\n",
      "277389  255710            1              1.0\n",
      "277390  256487            1              1.0\n",
      "277391  258229            1              1.0\n",
      "277392  256650            1              1.0\n",
      "277393  256676            1              1.0\n",
      "277394  257334            1              1.0\n",
      "277395  364750            1              1.0\n"
     ]
    }
   ],
   "source": [
    "print(df_merge.compute()[-20:])"
   ]
  },
  {
   "cell_type": "code",
   "execution_count": 97,
   "metadata": {},
   "outputs": [
    {
     "data": {
      "text/plain": [
       "10550"
      ]
     },
     "execution_count": 97,
     "metadata": {},
     "output_type": "execute_result"
    }
   ],
   "source": [
    "gc.collect()"
   ]
  },
  {
   "cell_type": "code",
   "execution_count": null,
   "metadata": {},
   "outputs": [],
   "source": []
  },
  {
   "cell_type": "markdown",
   "metadata": {},
   "source": [
    "# App"
   ]
  },
  {
   "cell_type": "code",
   "execution_count": 37,
   "metadata": {},
   "outputs": [],
   "source": [
    "fea = \"app\"\n",
    "n_plot = 300"
   ]
  },
  {
   "cell_type": "code",
   "execution_count": 38,
   "metadata": {},
   "outputs": [
    {
     "name": "stdout",
     "output_type": "stream",
     "text": [
      "<class 'dask.dataframe.core.Series'>\n",
      "<class 'dask.dataframe.core.DataFrame'>\n"
     ]
    },
    {
     "data": {
      "text/plain": [
       "27603"
      ]
     },
     "execution_count": 38,
     "metadata": {},
     "output_type": "execute_result"
    }
   ],
   "source": [
    "df_fea_val_counts_tmp = df_train[fea].value_counts()\n",
    "print(type(df_fea_val_counts_tmp))\n",
    "\n",
    "# SeriesからDataFrameに変換\n",
    "df_fea_val_counts_tmp = df_fea_val_counts_tmp.to_frame()\n",
    "print(type(df_fea_val_counts_tmp))\n",
    "\n",
    "df_fea_val_counts = df_fea_val_counts_tmp.reset_index(drop=False)\n",
    "\n",
    "del df_fea_val_counts_tmp\n",
    "\n",
    "df_fea_val_counts.columns = [fea, 'counts']\n",
    "\n",
    "# save df_ip_val_counts\n",
    "df_fea_val_counts.to_csv(filename=str(interim_data_Path / (\"train_\"+fea+\"_val_counts-*.csv\")))\n",
    "\n",
    "del df_fea_val_counts\n",
    "gc.collect()"
   ]
  },
  {
   "cell_type": "code",
   "execution_count": 39,
   "metadata": {},
   "outputs": [],
   "source": [
    "# load\n",
    "tmp = dd.read_csv(urlpath=str(interim_data_Path / (\"train_\"+fea+\"_val_counts-0.csv\")),)\n",
    "df_fea_val_counts = tmp.drop(labels=tmp.columns[0], axis=1)"
   ]
  },
  {
   "cell_type": "code",
   "execution_count": 40,
   "metadata": {
    "scrolled": true
   },
   "outputs": [
    {
     "data": {
      "text/html": [
       "<div>\n",
       "<style scoped>\n",
       "    .dataframe tbody tr th:only-of-type {\n",
       "        vertical-align: middle;\n",
       "    }\n",
       "\n",
       "    .dataframe tbody tr th {\n",
       "        vertical-align: top;\n",
       "    }\n",
       "\n",
       "    .dataframe thead th {\n",
       "        text-align: right;\n",
       "    }\n",
       "</style>\n",
       "<table border=\"1\" class=\"dataframe\">\n",
       "  <thead>\n",
       "    <tr style=\"text-align: right;\">\n",
       "      <th></th>\n",
       "      <th>app</th>\n",
       "      <th>counts</th>\n",
       "    </tr>\n",
       "  </thead>\n",
       "  <tbody>\n",
       "    <tr>\n",
       "      <th>0</th>\n",
       "      <td>3</td>\n",
       "      <td>33911780</td>\n",
       "    </tr>\n",
       "    <tr>\n",
       "      <th>1</th>\n",
       "      <td>12</td>\n",
       "      <td>24179003</td>\n",
       "    </tr>\n",
       "    <tr>\n",
       "      <th>2</th>\n",
       "      <td>2</td>\n",
       "      <td>21642136</td>\n",
       "    </tr>\n",
       "    <tr>\n",
       "      <th>3</th>\n",
       "      <td>9</td>\n",
       "      <td>16458268</td>\n",
       "    </tr>\n",
       "    <tr>\n",
       "      <th>4</th>\n",
       "      <td>15</td>\n",
       "      <td>15958970</td>\n",
       "    </tr>\n",
       "  </tbody>\n",
       "</table>\n",
       "</div>"
      ],
      "text/plain": [
       "   app    counts\n",
       "0    3  33911780\n",
       "1   12  24179003\n",
       "2    2  21642136\n",
       "3    9  16458268\n",
       "4   15  15958970"
      ]
     },
     "execution_count": 40,
     "metadata": {},
     "output_type": "execute_result"
    }
   ],
   "source": [
    "df_fea_val_counts.head()"
   ]
  },
  {
   "cell_type": "code",
   "execution_count": 41,
   "metadata": {},
   "outputs": [],
   "source": [
    "df_train_tmp = dd.merge(left=df_train,\n",
    "                        right=df_fea_val_counts,\n",
    "                        how=\"left\",\n",
    "                        on=fea,\n",
    "                       )"
   ]
  },
  {
   "cell_type": "code",
   "execution_count": 42,
   "metadata": {},
   "outputs": [
    {
     "data": {
      "text/html": [
       "<div>\n",
       "<style scoped>\n",
       "    .dataframe tbody tr th:only-of-type {\n",
       "        vertical-align: middle;\n",
       "    }\n",
       "\n",
       "    .dataframe tbody tr th {\n",
       "        vertical-align: top;\n",
       "    }\n",
       "\n",
       "    .dataframe thead th {\n",
       "        text-align: right;\n",
       "    }\n",
       "</style>\n",
       "<table border=\"1\" class=\"dataframe\">\n",
       "  <thead>\n",
       "    <tr style=\"text-align: right;\">\n",
       "      <th></th>\n",
       "      <th>ip</th>\n",
       "      <th>app</th>\n",
       "      <th>device</th>\n",
       "      <th>os</th>\n",
       "      <th>channel</th>\n",
       "      <th>click_time</th>\n",
       "      <th>attributed_time</th>\n",
       "      <th>is_attributed</th>\n",
       "      <th>counts</th>\n",
       "    </tr>\n",
       "  </thead>\n",
       "  <tbody>\n",
       "    <tr>\n",
       "      <th>0</th>\n",
       "      <td>83230</td>\n",
       "      <td>3</td>\n",
       "      <td>1</td>\n",
       "      <td>13</td>\n",
       "      <td>379</td>\n",
       "      <td>2017-11-06 14:32:21</td>\n",
       "      <td>NaT</td>\n",
       "      <td>0</td>\n",
       "      <td>33911780</td>\n",
       "    </tr>\n",
       "    <tr>\n",
       "      <th>1</th>\n",
       "      <td>17357</td>\n",
       "      <td>3</td>\n",
       "      <td>1</td>\n",
       "      <td>19</td>\n",
       "      <td>379</td>\n",
       "      <td>2017-11-06 14:33:34</td>\n",
       "      <td>NaT</td>\n",
       "      <td>0</td>\n",
       "      <td>33911780</td>\n",
       "    </tr>\n",
       "    <tr>\n",
       "      <th>2</th>\n",
       "      <td>35810</td>\n",
       "      <td>3</td>\n",
       "      <td>1</td>\n",
       "      <td>13</td>\n",
       "      <td>379</td>\n",
       "      <td>2017-11-06 14:34:12</td>\n",
       "      <td>NaT</td>\n",
       "      <td>0</td>\n",
       "      <td>33911780</td>\n",
       "    </tr>\n",
       "    <tr>\n",
       "      <th>3</th>\n",
       "      <td>45745</td>\n",
       "      <td>14</td>\n",
       "      <td>1</td>\n",
       "      <td>13</td>\n",
       "      <td>478</td>\n",
       "      <td>2017-11-06 14:34:52</td>\n",
       "      <td>NaT</td>\n",
       "      <td>0</td>\n",
       "      <td>10027169</td>\n",
       "    </tr>\n",
       "    <tr>\n",
       "      <th>4</th>\n",
       "      <td>161007</td>\n",
       "      <td>3</td>\n",
       "      <td>1</td>\n",
       "      <td>13</td>\n",
       "      <td>379</td>\n",
       "      <td>2017-11-06 14:35:08</td>\n",
       "      <td>NaT</td>\n",
       "      <td>0</td>\n",
       "      <td>33911780</td>\n",
       "    </tr>\n",
       "  </tbody>\n",
       "</table>\n",
       "</div>"
      ],
      "text/plain": [
       "       ip  app  device  os  channel          click_time attributed_time  \\\n",
       "0   83230    3       1  13      379 2017-11-06 14:32:21             NaT   \n",
       "1   17357    3       1  19      379 2017-11-06 14:33:34             NaT   \n",
       "2   35810    3       1  13      379 2017-11-06 14:34:12             NaT   \n",
       "3   45745   14       1  13      478 2017-11-06 14:34:52             NaT   \n",
       "4  161007    3       1  13      379 2017-11-06 14:35:08             NaT   \n",
       "\n",
       "   is_attributed    counts  \n",
       "0              0  33911780  \n",
       "1              0  33911780  \n",
       "2              0  33911780  \n",
       "3              0  10027169  \n",
       "4              0  33911780  "
      ]
     },
     "execution_count": 42,
     "metadata": {},
     "output_type": "execute_result"
    }
   ],
   "source": [
    "df_train_tmp.head()"
   ]
  },
  {
   "cell_type": "code",
   "execution_count": null,
   "metadata": {},
   "outputs": [],
   "source": []
  },
  {
   "cell_type": "markdown",
   "metadata": {},
   "source": [
    "### proportion"
   ]
  },
  {
   "cell_type": "code",
   "execution_count": 43,
   "metadata": {
    "scrolled": false
   },
   "outputs": [],
   "source": [
    "n = 1000000  # 1000000 > 277396\n",
    "#proportion = df_train_tmp[[fea, 'is_attributed']].groupby(by=fea).mean().reset_index().nlargest(n=n, columns='is_attributed').reset_index(drop=True)\n",
    "proportion = df_train_tmp[[fea, 'is_attributed']].groupby(by=fea).mean().reset_index()\n",
    "proportion.columns = [fea, \"prop_downloaded\"]"
   ]
  },
  {
   "cell_type": "code",
   "execution_count": 44,
   "metadata": {},
   "outputs": [
    {
     "data": {
      "text/html": [
       "<div>\n",
       "<style scoped>\n",
       "    .dataframe tbody tr th:only-of-type {\n",
       "        vertical-align: middle;\n",
       "    }\n",
       "\n",
       "    .dataframe tbody tr th {\n",
       "        vertical-align: top;\n",
       "    }\n",
       "\n",
       "    .dataframe thead th {\n",
       "        text-align: right;\n",
       "    }\n",
       "</style>\n",
       "<table border=\"1\" class=\"dataframe\">\n",
       "  <thead>\n",
       "    <tr style=\"text-align: right;\">\n",
       "      <th></th>\n",
       "      <th>app</th>\n",
       "      <th>prop_downloaded</th>\n",
       "    </tr>\n",
       "  </thead>\n",
       "  <tbody>\n",
       "    <tr>\n",
       "      <th>0</th>\n",
       "      <td>0</td>\n",
       "      <td>0.309421</td>\n",
       "    </tr>\n",
       "    <tr>\n",
       "      <th>1</th>\n",
       "      <td>1</td>\n",
       "      <td>0.000212</td>\n",
       "    </tr>\n",
       "    <tr>\n",
       "      <th>2</th>\n",
       "      <td>2</td>\n",
       "      <td>0.000262</td>\n",
       "    </tr>\n",
       "    <tr>\n",
       "      <th>3</th>\n",
       "      <td>3</td>\n",
       "      <td>0.000303</td>\n",
       "    </tr>\n",
       "    <tr>\n",
       "      <th>4</th>\n",
       "      <td>4</td>\n",
       "      <td>0.000040</td>\n",
       "    </tr>\n",
       "  </tbody>\n",
       "</table>\n",
       "</div>"
      ],
      "text/plain": [
       "   app  prop_downloaded\n",
       "0    0         0.309421\n",
       "1    1         0.000212\n",
       "2    2         0.000262\n",
       "3    3         0.000303\n",
       "4    4         0.000040"
      ]
     },
     "execution_count": 44,
     "metadata": {},
     "output_type": "execute_result"
    }
   ],
   "source": [
    "proportion.head()"
   ]
  },
  {
   "cell_type": "code",
   "execution_count": 45,
   "metadata": {},
   "outputs": [
    {
     "data": {
      "text/plain": [
       "706"
      ]
     },
     "execution_count": 45,
     "metadata": {},
     "output_type": "execute_result"
    }
   ],
   "source": [
    "len(proportion)"
   ]
  },
  {
   "cell_type": "code",
   "execution_count": 46,
   "metadata": {},
   "outputs": [
    {
     "data": {
      "text/plain": [
       "['/home/sugihiro/workdir/git/bitbucket/learning_kaggle/TalkingData_AdTracking_Fraud_Detection_Challenge/data/interim/train_app_isAttributed_proportion-0.csv']"
      ]
     },
     "execution_count": 46,
     "metadata": {},
     "output_type": "execute_result"
    }
   ],
   "source": [
    "# save\n",
    "proportion.to_csv(filename=str(interim_data_Path / (\"train_\"+fea+\"_isAttributed_proportion-*.csv\")))"
   ]
  },
  {
   "cell_type": "markdown",
   "metadata": {},
   "source": [
    "#### load proportion"
   ]
  },
  {
   "cell_type": "code",
   "execution_count": 47,
   "metadata": {},
   "outputs": [],
   "source": [
    "# load\n",
    "tmp = dd.read_csv(urlpath=str(interim_data_Path / (\"train_\"+fea+\"_isAttributed_proportion-0.csv\")),)\n",
    "proportion = tmp.drop(labels=tmp.columns[0], axis=1)\n",
    "del tmp"
   ]
  },
  {
   "cell_type": "markdown",
   "metadata": {},
   "source": [
    "### counts"
   ]
  },
  {
   "cell_type": "code",
   "execution_count": 48,
   "metadata": {
    "scrolled": true
   },
   "outputs": [],
   "source": [
    "n = 1000000  # 1000000 > 277396\n",
    "counts = df_train_tmp[[fea, 'is_attributed']].groupby(by=fea).count().reset_index().nlargest(n=n, columns='is_attributed').reset_index(drop=True)\n",
    "counts.columns = [fea, \"click_count\"]"
   ]
  },
  {
   "cell_type": "code",
   "execution_count": 49,
   "metadata": {},
   "outputs": [
    {
     "data": {
      "text/html": [
       "<div>\n",
       "<style scoped>\n",
       "    .dataframe tbody tr th:only-of-type {\n",
       "        vertical-align: middle;\n",
       "    }\n",
       "\n",
       "    .dataframe tbody tr th {\n",
       "        vertical-align: top;\n",
       "    }\n",
       "\n",
       "    .dataframe thead th {\n",
       "        text-align: right;\n",
       "    }\n",
       "</style>\n",
       "<table border=\"1\" class=\"dataframe\">\n",
       "  <thead>\n",
       "    <tr style=\"text-align: right;\">\n",
       "      <th></th>\n",
       "      <th>app</th>\n",
       "      <th>click_count</th>\n",
       "    </tr>\n",
       "  </thead>\n",
       "  <tbody>\n",
       "    <tr>\n",
       "      <th>0</th>\n",
       "      <td>3</td>\n",
       "      <td>33911780</td>\n",
       "    </tr>\n",
       "    <tr>\n",
       "      <th>1</th>\n",
       "      <td>12</td>\n",
       "      <td>24179003</td>\n",
       "    </tr>\n",
       "    <tr>\n",
       "      <th>2</th>\n",
       "      <td>2</td>\n",
       "      <td>21642136</td>\n",
       "    </tr>\n",
       "    <tr>\n",
       "      <th>3</th>\n",
       "      <td>9</td>\n",
       "      <td>16458268</td>\n",
       "    </tr>\n",
       "    <tr>\n",
       "      <th>4</th>\n",
       "      <td>15</td>\n",
       "      <td>15958970</td>\n",
       "    </tr>\n",
       "  </tbody>\n",
       "</table>\n",
       "</div>"
      ],
      "text/plain": [
       "   app  click_count\n",
       "0    3     33911780\n",
       "1   12     24179003\n",
       "2    2     21642136\n",
       "3    9     16458268\n",
       "4   15     15958970"
      ]
     },
     "execution_count": 49,
     "metadata": {},
     "output_type": "execute_result"
    }
   ],
   "source": [
    "counts.head()"
   ]
  },
  {
   "cell_type": "code",
   "execution_count": 50,
   "metadata": {},
   "outputs": [
    {
     "data": {
      "text/plain": [
       "706"
      ]
     },
     "execution_count": 50,
     "metadata": {},
     "output_type": "execute_result"
    }
   ],
   "source": [
    "len(counts)"
   ]
  },
  {
   "cell_type": "code",
   "execution_count": 51,
   "metadata": {},
   "outputs": [
    {
     "data": {
      "text/plain": [
       "['/home/sugihiro/workdir/git/bitbucket/learning_kaggle/TalkingData_AdTracking_Fraud_Detection_Challenge/data/interim/train_app_isAttributed_counts-0.csv']"
      ]
     },
     "execution_count": 51,
     "metadata": {},
     "output_type": "execute_result"
    }
   ],
   "source": [
    "# save\n",
    "counts.to_csv(filename=str(interim_data_Path / (\"train_\"+fea+\"_isAttributed_counts-*.csv\")))"
   ]
  },
  {
   "cell_type": "markdown",
   "metadata": {},
   "source": [
    "#### load counts"
   ]
  },
  {
   "cell_type": "code",
   "execution_count": 52,
   "metadata": {},
   "outputs": [],
   "source": [
    "# load\n",
    "tmp = dd.read_csv(urlpath=str(interim_data_Path / (\"train_\"+fea+\"_isAttributed_counts-0.csv\")),)\n",
    "counts = tmp.drop(labels=tmp.columns[0], axis=1)\n",
    "del tmp"
   ]
  },
  {
   "cell_type": "markdown",
   "metadata": {},
   "source": [
    "## Merge"
   ]
  },
  {
   "cell_type": "code",
   "execution_count": 53,
   "metadata": {},
   "outputs": [],
   "source": [
    "df_merge = counts.merge(right=proportion, on=fea, how='left', )\n",
    "df_merge.columns = [fea, 'click_count', 'prop_downloaded']"
   ]
  },
  {
   "cell_type": "code",
   "execution_count": 54,
   "metadata": {
    "scrolled": true
   },
   "outputs": [
    {
     "data": {
      "text/html": [
       "<div>\n",
       "<style scoped>\n",
       "    .dataframe tbody tr th:only-of-type {\n",
       "        vertical-align: middle;\n",
       "    }\n",
       "\n",
       "    .dataframe tbody tr th {\n",
       "        vertical-align: top;\n",
       "    }\n",
       "\n",
       "    .dataframe thead th {\n",
       "        text-align: right;\n",
       "    }\n",
       "</style>\n",
       "<table border=\"1\" class=\"dataframe\">\n",
       "  <thead>\n",
       "    <tr style=\"text-align: right;\">\n",
       "      <th></th>\n",
       "      <th>app</th>\n",
       "      <th>click_count</th>\n",
       "      <th>prop_downloaded</th>\n",
       "    </tr>\n",
       "  </thead>\n",
       "  <tbody>\n",
       "    <tr>\n",
       "      <th>0</th>\n",
       "      <td>3</td>\n",
       "      <td>33911780</td>\n",
       "      <td>0.000303</td>\n",
       "    </tr>\n",
       "    <tr>\n",
       "      <th>1</th>\n",
       "      <td>12</td>\n",
       "      <td>24179003</td>\n",
       "      <td>0.000109</td>\n",
       "    </tr>\n",
       "    <tr>\n",
       "      <th>2</th>\n",
       "      <td>2</td>\n",
       "      <td>21642136</td>\n",
       "      <td>0.000262</td>\n",
       "    </tr>\n",
       "    <tr>\n",
       "      <th>3</th>\n",
       "      <td>9</td>\n",
       "      <td>16458268</td>\n",
       "      <td>0.001144</td>\n",
       "    </tr>\n",
       "    <tr>\n",
       "      <th>4</th>\n",
       "      <td>15</td>\n",
       "      <td>15958970</td>\n",
       "      <td>0.000214</td>\n",
       "    </tr>\n",
       "  </tbody>\n",
       "</table>\n",
       "</div>"
      ],
      "text/plain": [
       "   app  click_count  prop_downloaded\n",
       "0    3     33911780         0.000303\n",
       "1   12     24179003         0.000109\n",
       "2    2     21642136         0.000262\n",
       "3    9     16458268         0.001144\n",
       "4   15     15958970         0.000214"
      ]
     },
     "execution_count": 54,
     "metadata": {},
     "output_type": "execute_result"
    }
   ],
   "source": [
    "df_merge.head()"
   ]
  },
  {
   "cell_type": "markdown",
   "metadata": {},
   "source": [
    "## Plot"
   ]
  },
  {
   "cell_type": "markdown",
   "metadata": {},
   "source": [
    "### Most Popular"
   ]
  },
  {
   "cell_type": "code",
   "execution_count": 55,
   "metadata": {
    "scrolled": false
   },
   "outputs": [
    {
     "data": {
      "image/png": "[encoded data removed]",
      "text/plain": [
       "<matplotlib.figure.Figure at 0x7f9e023b8390>"
      ]
     },
     "metadata": {},
     "output_type": "display_data"
    }
   ],
   "source": [
    "title = \"Conversion_Rates_over_Counts_of_300_Most_Popular_\"+fea.upper()+\"s\"\n",
    "\n",
    "fig = plt.figure(figsize=(15, 6))\n",
    "ax1 = fig.add_subplot(1, 1, 1)\n",
    "\n",
    "\n",
    "ax1.set_yscale(\"linear\")\n",
    "ax1.yaxis.tick_left()\n",
    "df_merge[['click_count']][:n_plot].compute().plot(ax=ax1, color=\"blue\",)\n",
    "ax1.yaxis.set_label_position(\"left\")\n",
    "ax1.set_ylabel(ylabel='Count of clicks')\n",
    "ax1.legend(loc=3, bbox_to_anchor=(1.05, 1), borderaxespad=0.)\n",
    "\n",
    "ax2 = ax1.twinx()\n",
    "ax2.yaxis.tick_right()\n",
    "df_merge[['prop_downloaded']][:n_plot].compute().plot(ax=ax2, color=\"green\",)\n",
    "ax2.yaxis.set_label_position(\"right\")\n",
    "ax2.set_ylabel(ylabel='Proportion Downloaded')\n",
    "ax2.legend(loc=3, bbox_to_anchor=(1.05, 1 + 0.07), borderaxespad=0.)\n",
    "\n",
    "ax2.set_title(title)\n",
    "ax2.set_xlabel(\"Sort by \" + fea)\n",
    "fig.savefig(fname=str(data_Path / \"plot\" / title))\n",
    "plt.show()\n"
   ]
  },
  {
   "cell_type": "code",
   "execution_count": 56,
   "metadata": {},
   "outputs": [
    {
     "name": "stdout",
     "output_type": "stream",
     "text": [
      "    app  click_count  prop_downloaded\n",
      "0     3     33911780         0.000303\n",
      "1    12     24179003         0.000109\n",
      "2     2     21642136         0.000262\n",
      "3     9     16458268         0.001144\n",
      "4    15     15958970         0.000214\n",
      "5    18     15756587         0.000503\n",
      "6    14     10027169         0.000250\n",
      "7     1      5796274         0.000212\n",
      "8    13      4329409         0.000167\n",
      "9     8      3731948         0.001842\n",
      "10   21      3616407         0.000133\n",
      "11   11      3466971         0.001555\n",
      "12   26      3126136         0.000467\n",
      "13   23      2675259         0.000019\n",
      "14    6      2464136         0.000083\n",
      "15   64      1893969         0.000266\n",
      "16    7      1764954         0.000670\n",
      "17   20      1758934         0.002176\n",
      "18   25      1467907         0.000047\n",
      "19   28      1311496         0.000082\n",
      "20   27      1296189         0.001720\n"
     ]
    }
   ],
   "source": [
    "print(df_merge[:20].compute())"
   ]
  },
  {
   "cell_type": "markdown",
   "metadata": {},
   "source": [
    "### Worst Popular"
   ]
  },
  {
   "cell_type": "code",
   "execution_count": 57,
   "metadata": {
    "scrolled": false
   },
   "outputs": [
    {
     "data": {
      "image/png": "[encoded data removed]",
      "text/plain": [
       "<matplotlib.figure.Figure at 0x7f9e01d13048>"
      ]
     },
     "metadata": {},
     "output_type": "display_data"
    }
   ],
   "source": [
    "title = \"Conversion_Rates_over_Counts_of_300_Worst_Popular_\"+fea.upper()+\"s\"\n",
    "\n",
    "fig = plt.figure(figsize=(15, 6))\n",
    "ax1 = fig.add_subplot(1, 1, 1)\n",
    "\n",
    "ax1.set_yscale(\"linear\")\n",
    "ax1.yaxis.tick_left()\n",
    "df_merge[['click_count']].compute()[-n_plot:].plot(ax=ax1, color=\"blue\", lw=2.0)\n",
    "ax1.yaxis.set_label_position(\"left\")\n",
    "ax1.set_ylabel(ylabel='Count of clicks')\n",
    "ax1.legend(loc=3, bbox_to_anchor=(1.05, 1), borderaxespad=0.)\n",
    "#ax1.set_ylim(bottom=-0.01, top=1.05*df_merge[['click_count']][-n:].max(axis=0)['click_count'])\n",
    "\n",
    "ax2 = ax1.twinx()\n",
    "ax2.yaxis.tick_right()\n",
    "df_merge[['prop_downloaded']].compute()[-n_plot:].plot(ax=ax2, color=\"green\", lw=2.0)\n",
    "ax2.yaxis.set_label_position(\"right\")\n",
    "ax2.set_ylabel(ylabel='Proportion Downloaded')\n",
    "ax2.legend(loc=3, bbox_to_anchor=(1.05, 1 + 0.07), borderaxespad=0.)\n",
    "\n",
    "ax2.set_title(title)\n",
    "ax2.set_xlabel(\"Sort by \" + fea)\n",
    "ax2.set_ylim(bottom=-0.01, top=1.05*df_merge[['prop_downloaded']].compute()[-n_plot:].max(axis=0)['prop_downloaded'])\n",
    "\n",
    "\n",
    "fig.savefig(fname=str(data_Path / \"plot\" / title))\n",
    "plt.show()\n"
   ]
  },
  {
   "cell_type": "code",
   "execution_count": 58,
   "metadata": {},
   "outputs": [
    {
     "name": "stdout",
     "output_type": "stream",
     "text": [
      "     app  click_count  prop_downloaded\n",
      "686  742            1              0.0\n",
      "687  673            1              0.0\n",
      "688  298            1              0.0\n",
      "689  477            1              0.0\n",
      "690  482            1              0.0\n",
      "691  762            1              0.0\n",
      "692  756            1              0.0\n",
      "693  621            1              0.0\n",
      "694  754            1              0.0\n",
      "695  733            1              0.0\n",
      "696  705            1              0.0\n",
      "697  713            1              0.0\n",
      "698  600            1              0.0\n",
      "699  728            1              0.0\n",
      "700  715            1              0.0\n",
      "701  615            1              1.0\n",
      "702  745            1              0.0\n",
      "703  763            1              1.0\n",
      "704  761            1              0.0\n",
      "705  664            1              0.0\n"
     ]
    }
   ],
   "source": [
    "print(df_merge.compute()[-20:])"
   ]
  },
  {
   "cell_type": "code",
   "execution_count": 59,
   "metadata": {},
   "outputs": [
    {
     "data": {
      "text/plain": [
       "11366"
      ]
     },
     "execution_count": 59,
     "metadata": {},
     "output_type": "execute_result"
    }
   ],
   "source": [
    "gc.collect()"
   ]
  },
  {
   "cell_type": "markdown",
   "metadata": {},
   "source": [
    "# Device"
   ]
  },
  {
   "cell_type": "code",
   "execution_count": 60,
   "metadata": {},
   "outputs": [],
   "source": [
    "fea = \"device\"\n",
    "n_plot = 300"
   ]
  },
  {
   "cell_type": "code",
   "execution_count": 61,
   "metadata": {},
   "outputs": [
    {
     "name": "stdout",
     "output_type": "stream",
     "text": [
      "<class 'dask.dataframe.core.Series'>\n",
      "<class 'dask.dataframe.core.DataFrame'>\n"
     ]
    },
    {
     "data": {
      "text/plain": [
       "723"
      ]
     },
     "execution_count": 61,
     "metadata": {},
     "output_type": "execute_result"
    }
   ],
   "source": [
    "df_fea_val_counts_tmp = df_train[fea].value_counts()\n",
    "print(type(df_fea_val_counts_tmp))\n",
    "\n",
    "# SeriesからDataFrameに変換\n",
    "df_fea_val_counts_tmp = df_fea_val_counts_tmp.to_frame()\n",
    "print(type(df_fea_val_counts_tmp))\n",
    "\n",
    "df_fea_val_counts = df_fea_val_counts_tmp.reset_index(drop=False)\n",
    "\n",
    "del df_fea_val_counts_tmp\n",
    "\n",
    "df_fea_val_counts.columns = [fea, 'counts']\n",
    "\n",
    "# save df_ip_val_counts\n",
    "df_fea_val_counts.to_csv(filename=str(interim_data_Path / (\"train_\"+fea+\"_val_counts-*.csv\")))\n",
    "\n",
    "del df_fea_val_counts\n",
    "gc.collect()"
   ]
  },
  {
   "cell_type": "code",
   "execution_count": 62,
   "metadata": {},
   "outputs": [],
   "source": [
    "# load\n",
    "tmp = dd.read_csv(urlpath=str(interim_data_Path / (\"train_\"+fea+\"_val_counts-0.csv\")),)\n",
    "df_fea_val_counts = tmp.drop(labels=tmp.columns[0], axis=1)"
   ]
  },
  {
   "cell_type": "code",
   "execution_count": 63,
   "metadata": {
    "scrolled": true
   },
   "outputs": [
    {
     "data": {
      "text/html": [
       "<div>\n",
       "<style scoped>\n",
       "    .dataframe tbody tr th:only-of-type {\n",
       "        vertical-align: middle;\n",
       "    }\n",
       "\n",
       "    .dataframe tbody tr th {\n",
       "        vertical-align: top;\n",
       "    }\n",
       "\n",
       "    .dataframe thead th {\n",
       "        text-align: right;\n",
       "    }\n",
       "</style>\n",
       "<table border=\"1\" class=\"dataframe\">\n",
       "  <thead>\n",
       "    <tr style=\"text-align: right;\">\n",
       "      <th></th>\n",
       "      <th>device</th>\n",
       "      <th>counts</th>\n",
       "    </tr>\n",
       "  </thead>\n",
       "  <tbody>\n",
       "    <tr>\n",
       "      <th>0</th>\n",
       "      <td>1</td>\n",
       "      <td>174330052</td>\n",
       "    </tr>\n",
       "    <tr>\n",
       "      <th>1</th>\n",
       "      <td>2</td>\n",
       "      <td>8105054</td>\n",
       "    </tr>\n",
       "    <tr>\n",
       "      <th>2</th>\n",
       "      <td>0</td>\n",
       "      <td>1033413</td>\n",
       "    </tr>\n",
       "    <tr>\n",
       "      <th>3</th>\n",
       "      <td>3032</td>\n",
       "      <td>692891</td>\n",
       "    </tr>\n",
       "    <tr>\n",
       "      <th>4</th>\n",
       "      <td>3543</td>\n",
       "      <td>266596</td>\n",
       "    </tr>\n",
       "  </tbody>\n",
       "</table>\n",
       "</div>"
      ],
      "text/plain": [
       "   device     counts\n",
       "0       1  174330052\n",
       "1       2    8105054\n",
       "2       0    1033413\n",
       "3    3032     692891\n",
       "4    3543     266596"
      ]
     },
     "execution_count": 63,
     "metadata": {},
     "output_type": "execute_result"
    }
   ],
   "source": [
    "df_fea_val_counts.head()"
   ]
  },
  {
   "cell_type": "code",
   "execution_count": 64,
   "metadata": {},
   "outputs": [],
   "source": [
    "df_train_tmp = dd.merge(left=df_train,\n",
    "                        right=df_fea_val_counts,\n",
    "                        how=\"left\",\n",
    "                        on=fea,\n",
    "                       )"
   ]
  },
  {
   "cell_type": "code",
   "execution_count": 65,
   "metadata": {},
   "outputs": [
    {
     "data": {
      "text/html": [
       "<div>\n",
       "<style scoped>\n",
       "    .dataframe tbody tr th:only-of-type {\n",
       "        vertical-align: middle;\n",
       "    }\n",
       "\n",
       "    .dataframe tbody tr th {\n",
       "        vertical-align: top;\n",
       "    }\n",
       "\n",
       "    .dataframe thead th {\n",
       "        text-align: right;\n",
       "    }\n",
       "</style>\n",
       "<table border=\"1\" class=\"dataframe\">\n",
       "  <thead>\n",
       "    <tr style=\"text-align: right;\">\n",
       "      <th></th>\n",
       "      <th>ip</th>\n",
       "      <th>app</th>\n",
       "      <th>device</th>\n",
       "      <th>os</th>\n",
       "      <th>channel</th>\n",
       "      <th>click_time</th>\n",
       "      <th>attributed_time</th>\n",
       "      <th>is_attributed</th>\n",
       "      <th>counts</th>\n",
       "    </tr>\n",
       "  </thead>\n",
       "  <tbody>\n",
       "    <tr>\n",
       "      <th>0</th>\n",
       "      <td>83230</td>\n",
       "      <td>3</td>\n",
       "      <td>1</td>\n",
       "      <td>13</td>\n",
       "      <td>379</td>\n",
       "      <td>2017-11-06 14:32:21</td>\n",
       "      <td>NaT</td>\n",
       "      <td>0</td>\n",
       "      <td>174330052</td>\n",
       "    </tr>\n",
       "    <tr>\n",
       "      <th>1</th>\n",
       "      <td>17357</td>\n",
       "      <td>3</td>\n",
       "      <td>1</td>\n",
       "      <td>19</td>\n",
       "      <td>379</td>\n",
       "      <td>2017-11-06 14:33:34</td>\n",
       "      <td>NaT</td>\n",
       "      <td>0</td>\n",
       "      <td>174330052</td>\n",
       "    </tr>\n",
       "    <tr>\n",
       "      <th>2</th>\n",
       "      <td>35810</td>\n",
       "      <td>3</td>\n",
       "      <td>1</td>\n",
       "      <td>13</td>\n",
       "      <td>379</td>\n",
       "      <td>2017-11-06 14:34:12</td>\n",
       "      <td>NaT</td>\n",
       "      <td>0</td>\n",
       "      <td>174330052</td>\n",
       "    </tr>\n",
       "    <tr>\n",
       "      <th>3</th>\n",
       "      <td>45745</td>\n",
       "      <td>14</td>\n",
       "      <td>1</td>\n",
       "      <td>13</td>\n",
       "      <td>478</td>\n",
       "      <td>2017-11-06 14:34:52</td>\n",
       "      <td>NaT</td>\n",
       "      <td>0</td>\n",
       "      <td>174330052</td>\n",
       "    </tr>\n",
       "    <tr>\n",
       "      <th>4</th>\n",
       "      <td>161007</td>\n",
       "      <td>3</td>\n",
       "      <td>1</td>\n",
       "      <td>13</td>\n",
       "      <td>379</td>\n",
       "      <td>2017-11-06 14:35:08</td>\n",
       "      <td>NaT</td>\n",
       "      <td>0</td>\n",
       "      <td>174330052</td>\n",
       "    </tr>\n",
       "  </tbody>\n",
       "</table>\n",
       "</div>"
      ],
      "text/plain": [
       "       ip  app  device  os  channel          click_time attributed_time  \\\n",
       "0   83230    3       1  13      379 2017-11-06 14:32:21             NaT   \n",
       "1   17357    3       1  19      379 2017-11-06 14:33:34             NaT   \n",
       "2   35810    3       1  13      379 2017-11-06 14:34:12             NaT   \n",
       "3   45745   14       1  13      478 2017-11-06 14:34:52             NaT   \n",
       "4  161007    3       1  13      379 2017-11-06 14:35:08             NaT   \n",
       "\n",
       "   is_attributed     counts  \n",
       "0              0  174330052  \n",
       "1              0  174330052  \n",
       "2              0  174330052  \n",
       "3              0  174330052  \n",
       "4              0  174330052  "
      ]
     },
     "execution_count": 65,
     "metadata": {},
     "output_type": "execute_result"
    }
   ],
   "source": [
    "df_train_tmp.head()"
   ]
  },
  {
   "cell_type": "code",
   "execution_count": null,
   "metadata": {},
   "outputs": [],
   "source": []
  },
  {
   "cell_type": "markdown",
   "metadata": {},
   "source": [
    "### proportion"
   ]
  },
  {
   "cell_type": "code",
   "execution_count": 66,
   "metadata": {
    "scrolled": false
   },
   "outputs": [],
   "source": [
    "n = 1000000  # 1000000 > 277396\n",
    "#proportion = df_train_tmp[[fea, 'is_attributed']].groupby(by=fea).mean().reset_index().nlargest(n=n, columns='is_attributed').reset_index(drop=True)\n",
    "proportion = df_train_tmp[[fea, 'is_attributed']].groupby(by=fea).mean().reset_index()\n",
    "proportion.columns = [fea, \"prop_downloaded\"]"
   ]
  },
  {
   "cell_type": "code",
   "execution_count": 67,
   "metadata": {},
   "outputs": [
    {
     "data": {
      "text/html": [
       "<div>\n",
       "<style scoped>\n",
       "    .dataframe tbody tr th:only-of-type {\n",
       "        vertical-align: middle;\n",
       "    }\n",
       "\n",
       "    .dataframe tbody tr th {\n",
       "        vertical-align: top;\n",
       "    }\n",
       "\n",
       "    .dataframe thead th {\n",
       "        text-align: right;\n",
       "    }\n",
       "</style>\n",
       "<table border=\"1\" class=\"dataframe\">\n",
       "  <thead>\n",
       "    <tr style=\"text-align: right;\">\n",
       "      <th></th>\n",
       "      <th>device</th>\n",
       "      <th>prop_downloaded</th>\n",
       "    </tr>\n",
       "  </thead>\n",
       "  <tbody>\n",
       "    <tr>\n",
       "      <th>0</th>\n",
       "      <td>0</td>\n",
       "      <td>0.098525</td>\n",
       "    </tr>\n",
       "    <tr>\n",
       "      <th>1</th>\n",
       "      <td>1</td>\n",
       "      <td>0.001758</td>\n",
       "    </tr>\n",
       "    <tr>\n",
       "      <th>2</th>\n",
       "      <td>2</td>\n",
       "      <td>0.000274</td>\n",
       "    </tr>\n",
       "    <tr>\n",
       "      <th>3</th>\n",
       "      <td>4</td>\n",
       "      <td>0.186807</td>\n",
       "    </tr>\n",
       "    <tr>\n",
       "      <th>4</th>\n",
       "      <td>6</td>\n",
       "      <td>0.233670</td>\n",
       "    </tr>\n",
       "  </tbody>\n",
       "</table>\n",
       "</div>"
      ],
      "text/plain": [
       "   device  prop_downloaded\n",
       "0       0         0.098525\n",
       "1       1         0.001758\n",
       "2       2         0.000274\n",
       "3       4         0.186807\n",
       "4       6         0.233670"
      ]
     },
     "execution_count": 67,
     "metadata": {},
     "output_type": "execute_result"
    }
   ],
   "source": [
    "proportion.head()"
   ]
  },
  {
   "cell_type": "code",
   "execution_count": 68,
   "metadata": {},
   "outputs": [
    {
     "data": {
      "text/plain": [
       "3475"
      ]
     },
     "execution_count": 68,
     "metadata": {},
     "output_type": "execute_result"
    }
   ],
   "source": [
    "len(proportion)"
   ]
  },
  {
   "cell_type": "code",
   "execution_count": 69,
   "metadata": {},
   "outputs": [
    {
     "data": {
      "text/plain": [
       "['/home/sugihiro/workdir/git/bitbucket/learning_kaggle/TalkingData_AdTracking_Fraud_Detection_Challenge/data/interim/train_device_isAttributed_proportion-0.csv']"
      ]
     },
     "execution_count": 69,
     "metadata": {},
     "output_type": "execute_result"
    }
   ],
   "source": [
    "# save\n",
    "proportion.to_csv(filename=str(interim_data_Path / (\"train_\"+fea+\"_isAttributed_proportion-*.csv\")))"
   ]
  },
  {
   "cell_type": "markdown",
   "metadata": {},
   "source": [
    "#### load proportion"
   ]
  },
  {
   "cell_type": "code",
   "execution_count": 70,
   "metadata": {},
   "outputs": [],
   "source": [
    "# load\n",
    "tmp = dd.read_csv(urlpath=str(interim_data_Path / (\"train_\"+fea+\"_isAttributed_proportion-0.csv\")),)\n",
    "proportion = tmp.drop(labels=tmp.columns[0], axis=1)\n",
    "del tmp"
   ]
  },
  {
   "cell_type": "markdown",
   "metadata": {},
   "source": [
    "### counts"
   ]
  },
  {
   "cell_type": "code",
   "execution_count": 71,
   "metadata": {
    "scrolled": true
   },
   "outputs": [],
   "source": [
    "n = 1000000  # 1000000 > 277396\n",
    "counts = df_train_tmp[[fea, 'is_attributed']].groupby(by=fea).count().reset_index().nlargest(n=n, columns='is_attributed').reset_index(drop=True)\n",
    "counts.columns = [fea, \"click_count\"]"
   ]
  },
  {
   "cell_type": "code",
   "execution_count": 72,
   "metadata": {},
   "outputs": [
    {
     "data": {
      "text/html": [
       "<div>\n",
       "<style scoped>\n",
       "    .dataframe tbody tr th:only-of-type {\n",
       "        vertical-align: middle;\n",
       "    }\n",
       "\n",
       "    .dataframe tbody tr th {\n",
       "        vertical-align: top;\n",
       "    }\n",
       "\n",
       "    .dataframe thead th {\n",
       "        text-align: right;\n",
       "    }\n",
       "</style>\n",
       "<table border=\"1\" class=\"dataframe\">\n",
       "  <thead>\n",
       "    <tr style=\"text-align: right;\">\n",
       "      <th></th>\n",
       "      <th>device</th>\n",
       "      <th>click_count</th>\n",
       "    </tr>\n",
       "  </thead>\n",
       "  <tbody>\n",
       "    <tr>\n",
       "      <th>0</th>\n",
       "      <td>1</td>\n",
       "      <td>174330052</td>\n",
       "    </tr>\n",
       "    <tr>\n",
       "      <th>1</th>\n",
       "      <td>2</td>\n",
       "      <td>8105054</td>\n",
       "    </tr>\n",
       "    <tr>\n",
       "      <th>2</th>\n",
       "      <td>0</td>\n",
       "      <td>1033413</td>\n",
       "    </tr>\n",
       "    <tr>\n",
       "      <th>3</th>\n",
       "      <td>3032</td>\n",
       "      <td>692891</td>\n",
       "    </tr>\n",
       "    <tr>\n",
       "      <th>4</th>\n",
       "      <td>3543</td>\n",
       "      <td>266596</td>\n",
       "    </tr>\n",
       "  </tbody>\n",
       "</table>\n",
       "</div>"
      ],
      "text/plain": [
       "   device  click_count\n",
       "0       1    174330052\n",
       "1       2      8105054\n",
       "2       0      1033413\n",
       "3    3032       692891\n",
       "4    3543       266596"
      ]
     },
     "execution_count": 72,
     "metadata": {},
     "output_type": "execute_result"
    }
   ],
   "source": [
    "counts.head()"
   ]
  },
  {
   "cell_type": "code",
   "execution_count": 73,
   "metadata": {},
   "outputs": [
    {
     "data": {
      "text/plain": [
       "3475"
      ]
     },
     "execution_count": 73,
     "metadata": {},
     "output_type": "execute_result"
    }
   ],
   "source": [
    "len(counts)"
   ]
  },
  {
   "cell_type": "code",
   "execution_count": 74,
   "metadata": {},
   "outputs": [
    {
     "data": {
      "text/plain": [
       "['/home/sugihiro/workdir/git/bitbucket/learning_kaggle/TalkingData_AdTracking_Fraud_Detection_Challenge/data/interim/train_device_isAttributed_counts-0.csv']"
      ]
     },
     "execution_count": 74,
     "metadata": {},
     "output_type": "execute_result"
    }
   ],
   "source": [
    "# save\n",
    "counts.to_csv(filename=str(interim_data_Path / (\"train_\"+fea+\"_isAttributed_counts-*.csv\")))"
   ]
  },
  {
   "cell_type": "markdown",
   "metadata": {},
   "source": [
    "#### load counts"
   ]
  },
  {
   "cell_type": "code",
   "execution_count": 75,
   "metadata": {},
   "outputs": [],
   "source": [
    "# load\n",
    "tmp = dd.read_csv(urlpath=str(interim_data_Path / (\"train_\"+fea+\"_isAttributed_counts-0.csv\")),)\n",
    "counts = tmp.drop(labels=tmp.columns[0], axis=1)\n",
    "del tmp"
   ]
  },
  {
   "cell_type": "markdown",
   "metadata": {},
   "source": [
    "## Merge"
   ]
  },
  {
   "cell_type": "code",
   "execution_count": 76,
   "metadata": {},
   "outputs": [],
   "source": [
    "df_merge = counts.merge(right=proportion, on=fea, how='left', )\n",
    "df_merge.columns = [fea, 'click_count', 'prop_downloaded']"
   ]
  },
  {
   "cell_type": "code",
   "execution_count": 77,
   "metadata": {
    "scrolled": true
   },
   "outputs": [
    {
     "data": {
      "text/html": [
       "<div>\n",
       "<style scoped>\n",
       "    .dataframe tbody tr th:only-of-type {\n",
       "        vertical-align: middle;\n",
       "    }\n",
       "\n",
       "    .dataframe tbody tr th {\n",
       "        vertical-align: top;\n",
       "    }\n",
       "\n",
       "    .dataframe thead th {\n",
       "        text-align: right;\n",
       "    }\n",
       "</style>\n",
       "<table border=\"1\" class=\"dataframe\">\n",
       "  <thead>\n",
       "    <tr style=\"text-align: right;\">\n",
       "      <th></th>\n",
       "      <th>device</th>\n",
       "      <th>click_count</th>\n",
       "      <th>prop_downloaded</th>\n",
       "    </tr>\n",
       "  </thead>\n",
       "  <tbody>\n",
       "    <tr>\n",
       "      <th>0</th>\n",
       "      <td>1</td>\n",
       "      <td>174330052</td>\n",
       "      <td>0.001758</td>\n",
       "    </tr>\n",
       "    <tr>\n",
       "      <th>1</th>\n",
       "      <td>2</td>\n",
       "      <td>8105054</td>\n",
       "      <td>0.000274</td>\n",
       "    </tr>\n",
       "    <tr>\n",
       "      <th>2</th>\n",
       "      <td>0</td>\n",
       "      <td>1033413</td>\n",
       "      <td>0.098525</td>\n",
       "    </tr>\n",
       "    <tr>\n",
       "      <th>3</th>\n",
       "      <td>3032</td>\n",
       "      <td>692891</td>\n",
       "      <td>0.000006</td>\n",
       "    </tr>\n",
       "    <tr>\n",
       "      <th>4</th>\n",
       "      <td>3543</td>\n",
       "      <td>266596</td>\n",
       "      <td>0.000011</td>\n",
       "    </tr>\n",
       "  </tbody>\n",
       "</table>\n",
       "</div>"
      ],
      "text/plain": [
       "   device  click_count  prop_downloaded\n",
       "0       1    174330052         0.001758\n",
       "1       2      8105054         0.000274\n",
       "2       0      1033413         0.098525\n",
       "3    3032       692891         0.000006\n",
       "4    3543       266596         0.000011"
      ]
     },
     "execution_count": 77,
     "metadata": {},
     "output_type": "execute_result"
    }
   ],
   "source": [
    "df_merge.head()"
   ]
  },
  {
   "cell_type": "markdown",
   "metadata": {},
   "source": [
    "## Plot"
   ]
  },
  {
   "cell_type": "markdown",
   "metadata": {},
   "source": [
    "### Most Popular"
   ]
  },
  {
   "cell_type": "code",
   "execution_count": 78,
   "metadata": {
    "scrolled": false
   },
   "outputs": [
    {
     "data": {
      "image/png": "[encoded data removed]",
      "text/plain": [
       "<matplotlib.figure.Figure at 0x7f9e1250a1d0>"
      ]
     },
     "metadata": {},
     "output_type": "display_data"
    }
   ],
   "source": [
    "title = \"Conversion_Rates_over_Counts_of_300_Most_Popular_\"+fea.upper()+\"s\"\n",
    "\n",
    "fig = plt.figure(figsize=(15, 6))\n",
    "ax1 = fig.add_subplot(1, 1, 1)\n",
    "\n",
    "\n",
    "ax1.set_yscale(\"linear\")\n",
    "ax1.yaxis.tick_left()\n",
    "df_merge[['click_count']][:n_plot].compute().plot(ax=ax1, color=\"blue\",)\n",
    "ax1.yaxis.set_label_position(\"left\")\n",
    "ax1.set_ylabel(ylabel='Count of clicks')\n",
    "ax1.legend(loc=3, bbox_to_anchor=(1.05, 1), borderaxespad=0.)\n",
    "\n",
    "ax2 = ax1.twinx()\n",
    "ax2.yaxis.tick_right()\n",
    "df_merge[['prop_downloaded']][:n_plot].compute().plot(ax=ax2, color=\"green\",)\n",
    "ax2.yaxis.set_label_position(\"right\")\n",
    "ax2.set_ylabel(ylabel='Proportion Downloaded')\n",
    "ax2.legend(loc=3, bbox_to_anchor=(1.05, 1 + 0.07), borderaxespad=0.)\n",
    "\n",
    "ax2.set_title(title)\n",
    "ax2.set_xlabel(\"Sort by \" + fea)\n",
    "fig.savefig(fname=str(data_Path / \"plot\" / title))\n",
    "plt.show()\n"
   ]
  },
  {
   "cell_type": "code",
   "execution_count": 79,
   "metadata": {},
   "outputs": [
    {
     "name": "stdout",
     "output_type": "stream",
     "text": [
      "    device  click_count  prop_downloaded\n",
      "0        1    174330052         0.001758\n",
      "1        2      8105054         0.000274\n",
      "2        0      1033413         0.098525\n",
      "3     3032       692891         0.000006\n",
      "4     3543       266596         0.000011\n",
      "5     3866       178274         0.000011\n",
      "6       59        24018         0.000874\n",
      "7        5        14379         0.000000\n",
      "8        6        12569         0.233670\n",
      "9       40        12351         0.210914\n",
      "10      16        10147         0.217010\n",
      "11      18         6742         0.218481\n",
      "12      21         5430         0.211786\n",
      "13      33         5337         0.206108\n",
      "14      30         4199         0.190998\n",
      "15     154         4011         0.162553\n",
      "16      67         3770         0.214589\n",
      "17     114         3585         0.200279\n",
      "18      37         3474         0.191710\n",
      "19      88         3262         0.228081\n",
      "20       7         3075         0.197398\n"
     ]
    }
   ],
   "source": [
    "print(df_merge[:20].compute())"
   ]
  },
  {
   "cell_type": "markdown",
   "metadata": {},
   "source": [
    "### Worst Popular"
   ]
  },
  {
   "cell_type": "code",
   "execution_count": 80,
   "metadata": {
    "scrolled": false
   },
   "outputs": [
    {
     "data": {
      "image/png": "[encoded data removed]",
      "text/plain": [
       "<matplotlib.figure.Figure at 0x7f9e025dae80>"
      ]
     },
     "metadata": {},
     "output_type": "display_data"
    }
   ],
   "source": [
    "title = \"Conversion_Rates_over_Counts_of_300_Worst_Popular_\"+fea.upper()+\"s\"\n",
    "\n",
    "fig = plt.figure(figsize=(15, 6))\n",
    "ax1 = fig.add_subplot(1, 1, 1)\n",
    "\n",
    "ax1.set_yscale(\"linear\")\n",
    "ax1.yaxis.tick_left()\n",
    "df_merge[['click_count']].compute()[-n_plot:].plot(ax=ax1, color=\"blue\", lw=2.0)\n",
    "ax1.yaxis.set_label_position(\"left\")\n",
    "ax1.set_ylabel(ylabel='Count of clicks')\n",
    "ax1.legend(loc=3, bbox_to_anchor=(1.05, 1), borderaxespad=0.)\n",
    "#ax1.set_ylim(bottom=-0.01, top=1.05*df_merge[['click_count']][-n:].max(axis=0)['click_count'])\n",
    "\n",
    "ax2 = ax1.twinx()\n",
    "ax2.yaxis.tick_right()\n",
    "df_merge[['prop_downloaded']].compute()[-n_plot:].plot(ax=ax2, color=\"green\", lw=2.0)\n",
    "ax2.yaxis.set_label_position(\"right\")\n",
    "ax2.set_ylabel(ylabel='Proportion Downloaded')\n",
    "ax2.legend(loc=3, bbox_to_anchor=(1.05, 1 + 0.07), borderaxespad=0.)\n",
    "\n",
    "ax2.set_title(title)\n",
    "ax2.set_xlabel(\"Sort by \" + fea)\n",
    "ax2.set_ylim(bottom=-0.01, top=1.05*df_merge[['prop_downloaded']].compute()[-n_plot:].max(axis=0)['prop_downloaded'])\n",
    "\n",
    "\n",
    "fig.savefig(fname=str(data_Path / \"plot\" / title))\n",
    "plt.show()\n"
   ]
  },
  {
   "cell_type": "code",
   "execution_count": 81,
   "metadata": {},
   "outputs": [
    {
     "name": "stdout",
     "output_type": "stream",
     "text": [
      "      device  click_count  prop_downloaded\n",
      "3455    4112            1              0.0\n",
      "3456    4187            1              0.0\n",
      "3457    1057            1              1.0\n",
      "3458    1385            1              0.0\n",
      "3459    1917            1              0.0\n",
      "3460    3524            1              0.0\n",
      "3461    4093            1              0.0\n",
      "3462    1885            1              0.0\n",
      "3463    4127            1              0.0\n",
      "3464    4002            1              0.0\n",
      "3465    4191            1              0.0\n",
      "3466    1515            1              0.0\n",
      "3467    3926            1              0.0\n",
      "3468    3897            1              1.0\n",
      "3469    2907            1              0.0\n",
      "3470    4175            1              0.0\n",
      "3471    3887            1              0.0\n",
      "3472    3959            1              0.0\n",
      "3473    3974            1              0.0\n",
      "3474    4207            1              0.0\n"
     ]
    }
   ],
   "source": [
    "print(df_merge.compute()[-20:])"
   ]
  },
  {
   "cell_type": "code",
   "execution_count": 82,
   "metadata": {},
   "outputs": [
    {
     "data": {
      "text/plain": [
       "11545"
      ]
     },
     "execution_count": 82,
     "metadata": {},
     "output_type": "execute_result"
    }
   ],
   "source": [
    "gc.collect()"
   ]
  },
  {
   "cell_type": "markdown",
   "metadata": {},
   "source": [
    "# OS"
   ]
  },
  {
   "cell_type": "code",
   "execution_count": 83,
   "metadata": {},
   "outputs": [],
   "source": [
    "fea = \"os\"\n",
    "n_plot = 300"
   ]
  },
  {
   "cell_type": "code",
   "execution_count": 84,
   "metadata": {},
   "outputs": [
    {
     "name": "stdout",
     "output_type": "stream",
     "text": [
      "<class 'dask.dataframe.core.Series'>\n",
      "<class 'dask.dataframe.core.DataFrame'>\n"
     ]
    },
    {
     "data": {
      "text/plain": [
       "686"
      ]
     },
     "execution_count": 84,
     "metadata": {},
     "output_type": "execute_result"
    }
   ],
   "source": [
    "df_fea_val_counts_tmp = df_train[fea].value_counts()\n",
    "print(type(df_fea_val_counts_tmp))\n",
    "\n",
    "# SeriesからDataFrameに変換\n",
    "df_fea_val_counts_tmp = df_fea_val_counts_tmp.to_frame()\n",
    "print(type(df_fea_val_counts_tmp))\n",
    "\n",
    "df_fea_val_counts = df_fea_val_counts_tmp.reset_index(drop=False)\n",
    "\n",
    "del df_fea_val_counts_tmp\n",
    "\n",
    "df_fea_val_counts.columns = [fea, 'counts']\n",
    "\n",
    "# save df_ip_val_counts\n",
    "df_fea_val_counts.to_csv(filename=str(interim_data_Path / (\"train_\"+fea+\"_val_counts-*.csv\")))\n",
    "\n",
    "del df_fea_val_counts\n",
    "gc.collect()"
   ]
  },
  {
   "cell_type": "code",
   "execution_count": 85,
   "metadata": {},
   "outputs": [],
   "source": [
    "# load\n",
    "tmp = dd.read_csv(urlpath=str(interim_data_Path / (\"train_\"+fea+\"_val_counts-0.csv\")),)\n",
    "df_fea_val_counts = tmp.drop(labels=tmp.columns[0], axis=1)"
   ]
  },
  {
   "cell_type": "code",
   "execution_count": 86,
   "metadata": {
    "scrolled": true
   },
   "outputs": [
    {
     "data": {
      "text/html": [
       "<div>\n",
       "<style scoped>\n",
       "    .dataframe tbody tr th:only-of-type {\n",
       "        vertical-align: middle;\n",
       "    }\n",
       "\n",
       "    .dataframe tbody tr th {\n",
       "        vertical-align: top;\n",
       "    }\n",
       "\n",
       "    .dataframe thead th {\n",
       "        text-align: right;\n",
       "    }\n",
       "</style>\n",
       "<table border=\"1\" class=\"dataframe\">\n",
       "  <thead>\n",
       "    <tr style=\"text-align: right;\">\n",
       "      <th></th>\n",
       "      <th>os</th>\n",
       "      <th>counts</th>\n",
       "    </tr>\n",
       "  </thead>\n",
       "  <tbody>\n",
       "    <tr>\n",
       "      <th>0</th>\n",
       "      <td>19</td>\n",
       "      <td>44181914</td>\n",
       "    </tr>\n",
       "    <tr>\n",
       "      <th>1</th>\n",
       "      <td>13</td>\n",
       "      <td>39782808</td>\n",
       "    </tr>\n",
       "    <tr>\n",
       "      <th>2</th>\n",
       "      <td>17</td>\n",
       "      <td>9639776</td>\n",
       "    </tr>\n",
       "    <tr>\n",
       "      <th>3</th>\n",
       "      <td>18</td>\n",
       "      <td>8974159</td>\n",
       "    </tr>\n",
       "    <tr>\n",
       "      <th>4</th>\n",
       "      <td>22</td>\n",
       "      <td>7414405</td>\n",
       "    </tr>\n",
       "  </tbody>\n",
       "</table>\n",
       "</div>"
      ],
      "text/plain": [
       "   os    counts\n",
       "0  19  44181914\n",
       "1  13  39782808\n",
       "2  17   9639776\n",
       "3  18   8974159\n",
       "4  22   7414405"
      ]
     },
     "execution_count": 86,
     "metadata": {},
     "output_type": "execute_result"
    }
   ],
   "source": [
    "df_fea_val_counts.head()"
   ]
  },
  {
   "cell_type": "code",
   "execution_count": 87,
   "metadata": {},
   "outputs": [],
   "source": [
    "df_train_tmp = dd.merge(left=df_train,\n",
    "                        right=df_fea_val_counts,\n",
    "                        how=\"left\",\n",
    "                        on=fea,\n",
    "                       )"
   ]
  },
  {
   "cell_type": "code",
   "execution_count": 88,
   "metadata": {},
   "outputs": [
    {
     "data": {
      "text/html": [
       "<div>\n",
       "<style scoped>\n",
       "    .dataframe tbody tr th:only-of-type {\n",
       "        vertical-align: middle;\n",
       "    }\n",
       "\n",
       "    .dataframe tbody tr th {\n",
       "        vertical-align: top;\n",
       "    }\n",
       "\n",
       "    .dataframe thead th {\n",
       "        text-align: right;\n",
       "    }\n",
       "</style>\n",
       "<table border=\"1\" class=\"dataframe\">\n",
       "  <thead>\n",
       "    <tr style=\"text-align: right;\">\n",
       "      <th></th>\n",
       "      <th>ip</th>\n",
       "      <th>app</th>\n",
       "      <th>device</th>\n",
       "      <th>os</th>\n",
       "      <th>channel</th>\n",
       "      <th>click_time</th>\n",
       "      <th>attributed_time</th>\n",
       "      <th>is_attributed</th>\n",
       "      <th>counts</th>\n",
       "    </tr>\n",
       "  </thead>\n",
       "  <tbody>\n",
       "    <tr>\n",
       "      <th>0</th>\n",
       "      <td>83230</td>\n",
       "      <td>3</td>\n",
       "      <td>1</td>\n",
       "      <td>13</td>\n",
       "      <td>379</td>\n",
       "      <td>2017-11-06 14:32:21</td>\n",
       "      <td>NaT</td>\n",
       "      <td>0</td>\n",
       "      <td>39782808</td>\n",
       "    </tr>\n",
       "    <tr>\n",
       "      <th>1</th>\n",
       "      <td>17357</td>\n",
       "      <td>3</td>\n",
       "      <td>1</td>\n",
       "      <td>19</td>\n",
       "      <td>379</td>\n",
       "      <td>2017-11-06 14:33:34</td>\n",
       "      <td>NaT</td>\n",
       "      <td>0</td>\n",
       "      <td>44181914</td>\n",
       "    </tr>\n",
       "    <tr>\n",
       "      <th>2</th>\n",
       "      <td>35810</td>\n",
       "      <td>3</td>\n",
       "      <td>1</td>\n",
       "      <td>13</td>\n",
       "      <td>379</td>\n",
       "      <td>2017-11-06 14:34:12</td>\n",
       "      <td>NaT</td>\n",
       "      <td>0</td>\n",
       "      <td>39782808</td>\n",
       "    </tr>\n",
       "    <tr>\n",
       "      <th>3</th>\n",
       "      <td>45745</td>\n",
       "      <td>14</td>\n",
       "      <td>1</td>\n",
       "      <td>13</td>\n",
       "      <td>478</td>\n",
       "      <td>2017-11-06 14:34:52</td>\n",
       "      <td>NaT</td>\n",
       "      <td>0</td>\n",
       "      <td>39782808</td>\n",
       "    </tr>\n",
       "    <tr>\n",
       "      <th>4</th>\n",
       "      <td>161007</td>\n",
       "      <td>3</td>\n",
       "      <td>1</td>\n",
       "      <td>13</td>\n",
       "      <td>379</td>\n",
       "      <td>2017-11-06 14:35:08</td>\n",
       "      <td>NaT</td>\n",
       "      <td>0</td>\n",
       "      <td>39782808</td>\n",
       "    </tr>\n",
       "  </tbody>\n",
       "</table>\n",
       "</div>"
      ],
      "text/plain": [
       "       ip  app  device  os  channel          click_time attributed_time  \\\n",
       "0   83230    3       1  13      379 2017-11-06 14:32:21             NaT   \n",
       "1   17357    3       1  19      379 2017-11-06 14:33:34             NaT   \n",
       "2   35810    3       1  13      379 2017-11-06 14:34:12             NaT   \n",
       "3   45745   14       1  13      478 2017-11-06 14:34:52             NaT   \n",
       "4  161007    3       1  13      379 2017-11-06 14:35:08             NaT   \n",
       "\n",
       "   is_attributed    counts  \n",
       "0              0  39782808  \n",
       "1              0  44181914  \n",
       "2              0  39782808  \n",
       "3              0  39782808  \n",
       "4              0  39782808  "
      ]
     },
     "execution_count": 88,
     "metadata": {},
     "output_type": "execute_result"
    }
   ],
   "source": [
    "df_train_tmp.head()"
   ]
  },
  {
   "cell_type": "code",
   "execution_count": null,
   "metadata": {},
   "outputs": [],
   "source": []
  },
  {
   "cell_type": "markdown",
   "metadata": {},
   "source": [
    "### proportion"
   ]
  },
  {
   "cell_type": "code",
   "execution_count": 89,
   "metadata": {
    "scrolled": false
   },
   "outputs": [],
   "source": [
    "n = 1000000  # 1000000 > 277396\n",
    "#proportion = df_train_tmp[[fea, 'is_attributed']].groupby(by=fea).mean().reset_index().nlargest(n=n, columns='is_attributed').reset_index(drop=True)\n",
    "proportion = df_train_tmp[[fea, 'is_attributed']].groupby(by=fea).mean().reset_index()\n",
    "proportion.columns = [fea, \"prop_downloaded\"]"
   ]
  },
  {
   "cell_type": "code",
   "execution_count": 90,
   "metadata": {},
   "outputs": [
    {
     "data": {
      "text/html": [
       "<div>\n",
       "<style scoped>\n",
       "    .dataframe tbody tr th:only-of-type {\n",
       "        vertical-align: middle;\n",
       "    }\n",
       "\n",
       "    .dataframe tbody tr th {\n",
       "        vertical-align: top;\n",
       "    }\n",
       "\n",
       "    .dataframe thead th {\n",
       "        text-align: right;\n",
       "    }\n",
       "</style>\n",
       "<table border=\"1\" class=\"dataframe\">\n",
       "  <thead>\n",
       "    <tr style=\"text-align: right;\">\n",
       "      <th></th>\n",
       "      <th>os</th>\n",
       "      <th>prop_downloaded</th>\n",
       "    </tr>\n",
       "  </thead>\n",
       "  <tbody>\n",
       "    <tr>\n",
       "      <th>0</th>\n",
       "      <td>0</td>\n",
       "      <td>0.104272</td>\n",
       "    </tr>\n",
       "    <tr>\n",
       "      <th>1</th>\n",
       "      <td>1</td>\n",
       "      <td>0.001035</td>\n",
       "    </tr>\n",
       "    <tr>\n",
       "      <th>2</th>\n",
       "      <td>2</td>\n",
       "      <td>0.000249</td>\n",
       "    </tr>\n",
       "    <tr>\n",
       "      <th>3</th>\n",
       "      <td>3</td>\n",
       "      <td>0.000845</td>\n",
       "    </tr>\n",
       "    <tr>\n",
       "      <th>4</th>\n",
       "      <td>4</td>\n",
       "      <td>0.009622</td>\n",
       "    </tr>\n",
       "  </tbody>\n",
       "</table>\n",
       "</div>"
      ],
      "text/plain": [
       "   os  prop_downloaded\n",
       "0   0         0.104272\n",
       "1   1         0.001035\n",
       "2   2         0.000249\n",
       "3   3         0.000845\n",
       "4   4         0.009622"
      ]
     },
     "execution_count": 90,
     "metadata": {},
     "output_type": "execute_result"
    }
   ],
   "source": [
    "proportion.head()"
   ]
  },
  {
   "cell_type": "code",
   "execution_count": 91,
   "metadata": {},
   "outputs": [
    {
     "data": {
      "text/plain": [
       "800"
      ]
     },
     "execution_count": 91,
     "metadata": {},
     "output_type": "execute_result"
    }
   ],
   "source": [
    "len(proportion)"
   ]
  },
  {
   "cell_type": "code",
   "execution_count": 92,
   "metadata": {},
   "outputs": [
    {
     "data": {
      "text/plain": [
       "['/home/sugihiro/workdir/git/bitbucket/learning_kaggle/TalkingData_AdTracking_Fraud_Detection_Challenge/data/interim/train_os_isAttributed_proportion-0.csv']"
      ]
     },
     "execution_count": 92,
     "metadata": {},
     "output_type": "execute_result"
    }
   ],
   "source": [
    "# save\n",
    "proportion.to_csv(filename=str(interim_data_Path / (\"train_\"+fea+\"_isAttributed_proportion-*.csv\")))"
   ]
  },
  {
   "cell_type": "markdown",
   "metadata": {},
   "source": [
    "#### load proportion"
   ]
  },
  {
   "cell_type": "code",
   "execution_count": 93,
   "metadata": {},
   "outputs": [],
   "source": [
    "# load\n",
    "tmp = dd.read_csv(urlpath=str(interim_data_Path / (\"train_\"+fea+\"_isAttributed_proportion-0.csv\")),)\n",
    "proportion = tmp.drop(labels=tmp.columns[0], axis=1)\n",
    "del tmp"
   ]
  },
  {
   "cell_type": "markdown",
   "metadata": {},
   "source": [
    "### counts"
   ]
  },
  {
   "cell_type": "code",
   "execution_count": 94,
   "metadata": {
    "scrolled": true
   },
   "outputs": [],
   "source": [
    "n = 1000000  # 1000000 > 277396\n",
    "counts = df_train_tmp[[fea, 'is_attributed']].groupby(by=fea).count().reset_index().nlargest(n=n, columns='is_attributed').reset_index(drop=True)\n",
    "counts.columns = [fea, \"click_count\"]"
   ]
  },
  {
   "cell_type": "code",
   "execution_count": 95,
   "metadata": {},
   "outputs": [
    {
     "data": {
      "text/html": [
       "<div>\n",
       "<style scoped>\n",
       "    .dataframe tbody tr th:only-of-type {\n",
       "        vertical-align: middle;\n",
       "    }\n",
       "\n",
       "    .dataframe tbody tr th {\n",
       "        vertical-align: top;\n",
       "    }\n",
       "\n",
       "    .dataframe thead th {\n",
       "        text-align: right;\n",
       "    }\n",
       "</style>\n",
       "<table border=\"1\" class=\"dataframe\">\n",
       "  <thead>\n",
       "    <tr style=\"text-align: right;\">\n",
       "      <th></th>\n",
       "      <th>os</th>\n",
       "      <th>click_count</th>\n",
       "    </tr>\n",
       "  </thead>\n",
       "  <tbody>\n",
       "    <tr>\n",
       "      <th>0</th>\n",
       "      <td>19</td>\n",
       "      <td>44181914</td>\n",
       "    </tr>\n",
       "    <tr>\n",
       "      <th>1</th>\n",
       "      <td>13</td>\n",
       "      <td>39782808</td>\n",
       "    </tr>\n",
       "    <tr>\n",
       "      <th>2</th>\n",
       "      <td>17</td>\n",
       "      <td>9639776</td>\n",
       "    </tr>\n",
       "    <tr>\n",
       "      <th>3</th>\n",
       "      <td>18</td>\n",
       "      <td>8974159</td>\n",
       "    </tr>\n",
       "    <tr>\n",
       "      <th>4</th>\n",
       "      <td>22</td>\n",
       "      <td>7414405</td>\n",
       "    </tr>\n",
       "  </tbody>\n",
       "</table>\n",
       "</div>"
      ],
      "text/plain": [
       "   os  click_count\n",
       "0  19     44181914\n",
       "1  13     39782808\n",
       "2  17      9639776\n",
       "3  18      8974159\n",
       "4  22      7414405"
      ]
     },
     "execution_count": 95,
     "metadata": {},
     "output_type": "execute_result"
    }
   ],
   "source": [
    "counts.head()"
   ]
  },
  {
   "cell_type": "code",
   "execution_count": 96,
   "metadata": {},
   "outputs": [
    {
     "data": {
      "text/plain": [
       "800"
      ]
     },
     "execution_count": 96,
     "metadata": {},
     "output_type": "execute_result"
    }
   ],
   "source": [
    "len(counts)"
   ]
  },
  {
   "cell_type": "code",
   "execution_count": 97,
   "metadata": {},
   "outputs": [
    {
     "data": {
      "text/plain": [
       "['/home/sugihiro/workdir/git/bitbucket/learning_kaggle/TalkingData_AdTracking_Fraud_Detection_Challenge/data/interim/train_os_isAttributed_counts-0.csv']"
      ]
     },
     "execution_count": 97,
     "metadata": {},
     "output_type": "execute_result"
    }
   ],
   "source": [
    "# save\n",
    "counts.to_csv(filename=str(interim_data_Path / (\"train_\"+fea+\"_isAttributed_counts-*.csv\")))"
   ]
  },
  {
   "cell_type": "markdown",
   "metadata": {},
   "source": [
    "#### load counts"
   ]
  },
  {
   "cell_type": "code",
   "execution_count": 98,
   "metadata": {},
   "outputs": [],
   "source": [
    "# load\n",
    "tmp = dd.read_csv(urlpath=str(interim_data_Path / (\"train_\"+fea+\"_isAttributed_counts-0.csv\")),)\n",
    "counts = tmp.drop(labels=tmp.columns[0], axis=1)\n",
    "del tmp"
   ]
  },
  {
   "cell_type": "markdown",
   "metadata": {},
   "source": [
    "## Merge"
   ]
  },
  {
   "cell_type": "code",
   "execution_count": 99,
   "metadata": {},
   "outputs": [],
   "source": [
    "df_merge = counts.merge(right=proportion, on=fea, how='left', )\n",
    "df_merge.columns = [fea, 'click_count', 'prop_downloaded']"
   ]
  },
  {
   "cell_type": "code",
   "execution_count": 100,
   "metadata": {
    "scrolled": true
   },
   "outputs": [
    {
     "data": {
      "text/html": [
       "<div>\n",
       "<style scoped>\n",
       "    .dataframe tbody tr th:only-of-type {\n",
       "        vertical-align: middle;\n",
       "    }\n",
       "\n",
       "    .dataframe tbody tr th {\n",
       "        vertical-align: top;\n",
       "    }\n",
       "\n",
       "    .dataframe thead th {\n",
       "        text-align: right;\n",
       "    }\n",
       "</style>\n",
       "<table border=\"1\" class=\"dataframe\">\n",
       "  <thead>\n",
       "    <tr style=\"text-align: right;\">\n",
       "      <th></th>\n",
       "      <th>os</th>\n",
       "      <th>click_count</th>\n",
       "      <th>prop_downloaded</th>\n",
       "    </tr>\n",
       "  </thead>\n",
       "  <tbody>\n",
       "    <tr>\n",
       "      <th>0</th>\n",
       "      <td>19</td>\n",
       "      <td>44181914</td>\n",
       "      <td>0.001803</td>\n",
       "    </tr>\n",
       "    <tr>\n",
       "      <th>1</th>\n",
       "      <td>13</td>\n",
       "      <td>39782808</td>\n",
       "      <td>0.001549</td>\n",
       "    </tr>\n",
       "    <tr>\n",
       "      <th>2</th>\n",
       "      <td>17</td>\n",
       "      <td>9639776</td>\n",
       "      <td>0.001180</td>\n",
       "    </tr>\n",
       "    <tr>\n",
       "      <th>3</th>\n",
       "      <td>18</td>\n",
       "      <td>8974159</td>\n",
       "      <td>0.001302</td>\n",
       "    </tr>\n",
       "    <tr>\n",
       "      <th>4</th>\n",
       "      <td>22</td>\n",
       "      <td>7414405</td>\n",
       "      <td>0.001769</td>\n",
       "    </tr>\n",
       "  </tbody>\n",
       "</table>\n",
       "</div>"
      ],
      "text/plain": [
       "   os  click_count  prop_downloaded\n",
       "0  19     44181914         0.001803\n",
       "1  13     39782808         0.001549\n",
       "2  17      9639776         0.001180\n",
       "3  18      8974159         0.001302\n",
       "4  22      7414405         0.001769"
      ]
     },
     "execution_count": 100,
     "metadata": {},
     "output_type": "execute_result"
    }
   ],
   "source": [
    "df_merge.head()"
   ]
  },
  {
   "cell_type": "markdown",
   "metadata": {},
   "source": [
    "## Plot"
   ]
  },
  {
   "cell_type": "markdown",
   "metadata": {},
   "source": [
    "### Most Popular"
   ]
  },
  {
   "cell_type": "code",
   "execution_count": 101,
   "metadata": {
    "scrolled": false
   },
   "outputs": [
    {
     "data": {
      "image/png": "[encoded data removed]",
      "text/plain": [
       "<matplotlib.figure.Figure at 0x7f9e006d9860>"
      ]
     },
     "metadata": {},
     "output_type": "display_data"
    }
   ],
   "source": [
    "title = \"Conversion_Rates_over_Counts_of_300_Most_Popular_\"+fea.upper()+\"s\"\n",
    "\n",
    "fig = plt.figure(figsize=(15, 6))\n",
    "ax1 = fig.add_subplot(1, 1, 1)\n",
    "\n",
    "\n",
    "ax1.set_yscale(\"linear\")\n",
    "ax1.yaxis.tick_left()\n",
    "df_merge[['click_count']][:n_plot].compute().plot(ax=ax1, color=\"blue\",)\n",
    "ax1.yaxis.set_label_position(\"left\")\n",
    "ax1.set_ylabel(ylabel='Count of clicks')\n",
    "ax1.legend(loc=3, bbox_to_anchor=(1.05, 1), borderaxespad=0.)\n",
    "\n",
    "ax2 = ax1.twinx()\n",
    "ax2.yaxis.tick_right()\n",
    "df_merge[['prop_downloaded']][:n_plot].compute().plot(ax=ax2, color=\"green\",)\n",
    "ax2.yaxis.set_label_position(\"right\")\n",
    "ax2.set_ylabel(ylabel='Proportion Downloaded')\n",
    "ax2.legend(loc=3, bbox_to_anchor=(1.05, 1 + 0.07), borderaxespad=0.)\n",
    "\n",
    "ax2.set_title(title)\n",
    "ax2.set_xlabel(\"Sort by \" + fea)\n",
    "fig.savefig(fname=str(data_Path / \"plot\" / title))\n",
    "plt.show()\n"
   ]
  },
  {
   "cell_type": "code",
   "execution_count": 102,
   "metadata": {},
   "outputs": [
    {
     "name": "stdout",
     "output_type": "stream",
     "text": [
      "    os  click_count  prop_downloaded\n",
      "0   19     44181914         0.001803\n",
      "1   13     39782808         0.001549\n",
      "2   17      9639776         0.001180\n",
      "3   18      8974159         0.001302\n",
      "4   22      7414405         0.001769\n",
      "5    8      5278317         0.001063\n",
      "6   10      5262422         0.001195\n",
      "7    6      4632561         0.001184\n",
      "8   15      4408470         0.000995\n",
      "9    9      4370878         0.000730\n",
      "10  25      4156096         0.001219\n",
      "11  20      4013563         0.001257\n",
      "12  16      3081268         0.001371\n",
      "13  37      2905944         0.002832\n",
      "14   3      2904808         0.000845\n",
      "15  14      2503681         0.001545\n",
      "16  41      2467180         0.000808\n",
      "17   1      2215593         0.001035\n",
      "18  12      2006410         0.000756\n",
      "19  23      1844222         0.000681\n",
      "20  27      1787478         0.003512\n"
     ]
    }
   ],
   "source": [
    "print(df_merge[:20].compute())"
   ]
  },
  {
   "cell_type": "markdown",
   "metadata": {},
   "source": [
    "### Worst Popular"
   ]
  },
  {
   "cell_type": "code",
   "execution_count": 103,
   "metadata": {
    "scrolled": false
   },
   "outputs": [
    {
     "data": {
      "image/png": "[encoded data removed]",
      "text/plain": [
       "<matplotlib.figure.Figure at 0x7f9e11097438>"
      ]
     },
     "metadata": {},
     "output_type": "display_data"
    }
   ],
   "source": [
    "title = \"Conversion_Rates_over_Counts_of_300_Worst_Popular_\"+fea.upper()+\"s\"\n",
    "\n",
    "fig = plt.figure(figsize=(15, 6))\n",
    "ax1 = fig.add_subplot(1, 1, 1)\n",
    "\n",
    "ax1.set_yscale(\"linear\")\n",
    "ax1.yaxis.tick_left()\n",
    "df_merge[['click_count']].compute()[-n_plot:].plot(ax=ax1, color=\"blue\", lw=2.0)\n",
    "ax1.yaxis.set_label_position(\"left\")\n",
    "ax1.set_ylabel(ylabel='Count of clicks')\n",
    "ax1.legend(loc=3, bbox_to_anchor=(1.05, 1), borderaxespad=0.)\n",
    "#ax1.set_ylim(bottom=-0.01, top=1.05*df_merge[['click_count']][-n:].max(axis=0)['click_count'])\n",
    "\n",
    "ax2 = ax1.twinx()\n",
    "ax2.yaxis.tick_right()\n",
    "df_merge[['prop_downloaded']].compute()[-n_plot:].plot(ax=ax2, color=\"green\", lw=2.0)\n",
    "ax2.yaxis.set_label_position(\"right\")\n",
    "ax2.set_ylabel(ylabel='Proportion Downloaded')\n",
    "ax2.legend(loc=3, bbox_to_anchor=(1.05, 1 + 0.07), borderaxespad=0.)\n",
    "\n",
    "ax2.set_title(title)\n",
    "ax2.set_xlabel(\"Sort by \" + fea)\n",
    "ax2.set_ylim(bottom=-0.01, top=1.05*df_merge[['prop_downloaded']].compute()[-n_plot:].max(axis=0)['prop_downloaded'])\n",
    "\n",
    "\n",
    "fig.savefig(fname=str(data_Path / \"plot\" / title))\n",
    "plt.show()\n"
   ]
  },
  {
   "cell_type": "code",
   "execution_count": 104,
   "metadata": {},
   "outputs": [
    {
     "name": "stdout",
     "output_type": "stream",
     "text": [
      "      os  click_count  prop_downloaded\n",
      "780  818            1              0.0\n",
      "781  519            1              0.0\n",
      "782  768            1              0.0\n",
      "783  453            1              0.0\n",
      "784  878            1              0.0\n",
      "785  821            1              0.0\n",
      "786  877            1              0.0\n",
      "787  912            1              0.0\n",
      "788  361            1              0.0\n",
      "789  921            1              0.0\n",
      "790  933            1              0.0\n",
      "791  936            1              0.0\n",
      "792  713            1              0.0\n",
      "793  563            1              0.0\n",
      "794  646            1              0.0\n",
      "795  529            1              0.0\n",
      "796  732            1              0.0\n",
      "797  625            1              0.0\n",
      "798  740            1              0.0\n",
      "799  949            1              0.0\n"
     ]
    }
   ],
   "source": [
    "print(df_merge.compute()[-20:])"
   ]
  },
  {
   "cell_type": "code",
   "execution_count": 105,
   "metadata": {},
   "outputs": [
    {
     "data": {
      "text/plain": [
       "11201"
      ]
     },
     "execution_count": 105,
     "metadata": {},
     "output_type": "execute_result"
    }
   ],
   "source": [
    "gc.collect()"
   ]
  },
  {
   "cell_type": "markdown",
   "metadata": {},
   "source": [
    "# Channel"
   ]
  },
  {
   "cell_type": "code",
   "execution_count": 106,
   "metadata": {},
   "outputs": [],
   "source": [
    "fea = \"channel\"\n",
    "n_plot = 202"
   ]
  },
  {
   "cell_type": "code",
   "execution_count": 107,
   "metadata": {},
   "outputs": [
    {
     "name": "stdout",
     "output_type": "stream",
     "text": [
      "<class 'dask.dataframe.core.Series'>\n",
      "<class 'dask.dataframe.core.DataFrame'>\n"
     ]
    },
    {
     "data": {
      "text/plain": [
       "582"
      ]
     },
     "execution_count": 107,
     "metadata": {},
     "output_type": "execute_result"
    }
   ],
   "source": [
    "df_fea_val_counts_tmp = df_train[fea].value_counts()\n",
    "print(type(df_fea_val_counts_tmp))\n",
    "\n",
    "# SeriesからDataFrameに変換\n",
    "df_fea_val_counts_tmp = df_fea_val_counts_tmp.to_frame()\n",
    "print(type(df_fea_val_counts_tmp))\n",
    "\n",
    "df_fea_val_counts = df_fea_val_counts_tmp.reset_index(drop=False)\n",
    "\n",
    "del df_fea_val_counts_tmp\n",
    "\n",
    "df_fea_val_counts.columns = [fea, 'counts']\n",
    "\n",
    "# save df_ip_val_counts\n",
    "df_fea_val_counts.to_csv(filename=str(interim_data_Path / (\"train_\"+fea+\"_val_counts-*.csv\")))\n",
    "\n",
    "del df_fea_val_counts\n",
    "gc.collect()"
   ]
  },
  {
   "cell_type": "code",
   "execution_count": 108,
   "metadata": {},
   "outputs": [],
   "source": [
    "# load\n",
    "tmp = dd.read_csv(urlpath=str(interim_data_Path / (\"train_\"+fea+\"_val_counts-0.csv\")),)\n",
    "df_fea_val_counts = tmp.drop(labels=tmp.columns[0], axis=1)"
   ]
  },
  {
   "cell_type": "code",
   "execution_count": 109,
   "metadata": {
    "scrolled": true
   },
   "outputs": [
    {
     "data": {
      "text/html": [
       "<div>\n",
       "<style scoped>\n",
       "    .dataframe tbody tr th:only-of-type {\n",
       "        vertical-align: middle;\n",
       "    }\n",
       "\n",
       "    .dataframe tbody tr th {\n",
       "        vertical-align: top;\n",
       "    }\n",
       "\n",
       "    .dataframe thead th {\n",
       "        text-align: right;\n",
       "    }\n",
       "</style>\n",
       "<table border=\"1\" class=\"dataframe\">\n",
       "  <thead>\n",
       "    <tr style=\"text-align: right;\">\n",
       "      <th></th>\n",
       "      <th>channel</th>\n",
       "      <th>counts</th>\n",
       "    </tr>\n",
       "  </thead>\n",
       "  <tbody>\n",
       "    <tr>\n",
       "      <th>0</th>\n",
       "      <td>280</td>\n",
       "      <td>15065927</td>\n",
       "    </tr>\n",
       "    <tr>\n",
       "      <th>1</th>\n",
       "      <td>245</td>\n",
       "      <td>8873025</td>\n",
       "    </tr>\n",
       "    <tr>\n",
       "      <th>2</th>\n",
       "      <td>107</td>\n",
       "      <td>8457471</td>\n",
       "    </tr>\n",
       "    <tr>\n",
       "      <th>3</th>\n",
       "      <td>477</td>\n",
       "      <td>7188340</td>\n",
       "    </tr>\n",
       "    <tr>\n",
       "      <th>4</th>\n",
       "      <td>134</td>\n",
       "      <td>5924250</td>\n",
       "    </tr>\n",
       "  </tbody>\n",
       "</table>\n",
       "</div>"
      ],
      "text/plain": [
       "   channel    counts\n",
       "0      280  15065927\n",
       "1      245   8873025\n",
       "2      107   8457471\n",
       "3      477   7188340\n",
       "4      134   5924250"
      ]
     },
     "execution_count": 109,
     "metadata": {},
     "output_type": "execute_result"
    }
   ],
   "source": [
    "df_fea_val_counts.head()"
   ]
  },
  {
   "cell_type": "code",
   "execution_count": 110,
   "metadata": {},
   "outputs": [],
   "source": [
    "df_train_tmp = dd.merge(left=df_train,\n",
    "                        right=df_fea_val_counts,\n",
    "                        how=\"left\",\n",
    "                        on=fea,\n",
    "                       )"
   ]
  },
  {
   "cell_type": "code",
   "execution_count": 111,
   "metadata": {},
   "outputs": [
    {
     "data": {
      "text/html": [
       "<div>\n",
       "<style scoped>\n",
       "    .dataframe tbody tr th:only-of-type {\n",
       "        vertical-align: middle;\n",
       "    }\n",
       "\n",
       "    .dataframe tbody tr th {\n",
       "        vertical-align: top;\n",
       "    }\n",
       "\n",
       "    .dataframe thead th {\n",
       "        text-align: right;\n",
       "    }\n",
       "</style>\n",
       "<table border=\"1\" class=\"dataframe\">\n",
       "  <thead>\n",
       "    <tr style=\"text-align: right;\">\n",
       "      <th></th>\n",
       "      <th>ip</th>\n",
       "      <th>app</th>\n",
       "      <th>device</th>\n",
       "      <th>os</th>\n",
       "      <th>channel</th>\n",
       "      <th>click_time</th>\n",
       "      <th>attributed_time</th>\n",
       "      <th>is_attributed</th>\n",
       "      <th>counts</th>\n",
       "    </tr>\n",
       "  </thead>\n",
       "  <tbody>\n",
       "    <tr>\n",
       "      <th>0</th>\n",
       "      <td>83230</td>\n",
       "      <td>3</td>\n",
       "      <td>1</td>\n",
       "      <td>13</td>\n",
       "      <td>379</td>\n",
       "      <td>2017-11-06 14:32:21</td>\n",
       "      <td>NaT</td>\n",
       "      <td>0</td>\n",
       "      <td>3402636</td>\n",
       "    </tr>\n",
       "    <tr>\n",
       "      <th>1</th>\n",
       "      <td>17357</td>\n",
       "      <td>3</td>\n",
       "      <td>1</td>\n",
       "      <td>19</td>\n",
       "      <td>379</td>\n",
       "      <td>2017-11-06 14:33:34</td>\n",
       "      <td>NaT</td>\n",
       "      <td>0</td>\n",
       "      <td>3402636</td>\n",
       "    </tr>\n",
       "    <tr>\n",
       "      <th>2</th>\n",
       "      <td>35810</td>\n",
       "      <td>3</td>\n",
       "      <td>1</td>\n",
       "      <td>13</td>\n",
       "      <td>379</td>\n",
       "      <td>2017-11-06 14:34:12</td>\n",
       "      <td>NaT</td>\n",
       "      <td>0</td>\n",
       "      <td>3402636</td>\n",
       "    </tr>\n",
       "    <tr>\n",
       "      <th>3</th>\n",
       "      <td>45745</td>\n",
       "      <td>14</td>\n",
       "      <td>1</td>\n",
       "      <td>13</td>\n",
       "      <td>478</td>\n",
       "      <td>2017-11-06 14:34:52</td>\n",
       "      <td>NaT</td>\n",
       "      <td>0</td>\n",
       "      <td>565319</td>\n",
       "    </tr>\n",
       "    <tr>\n",
       "      <th>4</th>\n",
       "      <td>161007</td>\n",
       "      <td>3</td>\n",
       "      <td>1</td>\n",
       "      <td>13</td>\n",
       "      <td>379</td>\n",
       "      <td>2017-11-06 14:35:08</td>\n",
       "      <td>NaT</td>\n",
       "      <td>0</td>\n",
       "      <td>3402636</td>\n",
       "    </tr>\n",
       "  </tbody>\n",
       "</table>\n",
       "</div>"
      ],
      "text/plain": [
       "       ip  app  device  os  channel          click_time attributed_time  \\\n",
       "0   83230    3       1  13      379 2017-11-06 14:32:21             NaT   \n",
       "1   17357    3       1  19      379 2017-11-06 14:33:34             NaT   \n",
       "2   35810    3       1  13      379 2017-11-06 14:34:12             NaT   \n",
       "3   45745   14       1  13      478 2017-11-06 14:34:52             NaT   \n",
       "4  161007    3       1  13      379 2017-11-06 14:35:08             NaT   \n",
       "\n",
       "   is_attributed   counts  \n",
       "0              0  3402636  \n",
       "1              0  3402636  \n",
       "2              0  3402636  \n",
       "3              0   565319  \n",
       "4              0  3402636  "
      ]
     },
     "execution_count": 111,
     "metadata": {},
     "output_type": "execute_result"
    }
   ],
   "source": [
    "df_train_tmp.head()"
   ]
  },
  {
   "cell_type": "code",
   "execution_count": null,
   "metadata": {},
   "outputs": [],
   "source": []
  },
  {
   "cell_type": "markdown",
   "metadata": {},
   "source": [
    "### proportion"
   ]
  },
  {
   "cell_type": "code",
   "execution_count": 112,
   "metadata": {
    "scrolled": false
   },
   "outputs": [],
   "source": [
    "n = 1000000  # 1000000 > 277396\n",
    "#proportion = df_train_tmp[[fea, 'is_attributed']].groupby(by=fea).mean().reset_index().nlargest(n=n, columns='is_attributed').reset_index(drop=True)\n",
    "proportion = df_train_tmp[[fea, 'is_attributed']].groupby(by=fea).mean().reset_index()\n",
    "proportion.columns = [fea, \"prop_downloaded\"]"
   ]
  },
  {
   "cell_type": "code",
   "execution_count": 113,
   "metadata": {},
   "outputs": [
    {
     "data": {
      "text/html": [
       "<div>\n",
       "<style scoped>\n",
       "    .dataframe tbody tr th:only-of-type {\n",
       "        vertical-align: middle;\n",
       "    }\n",
       "\n",
       "    .dataframe tbody tr th {\n",
       "        vertical-align: top;\n",
       "    }\n",
       "\n",
       "    .dataframe thead th {\n",
       "        text-align: right;\n",
       "    }\n",
       "</style>\n",
       "<table border=\"1\" class=\"dataframe\">\n",
       "  <thead>\n",
       "    <tr style=\"text-align: right;\">\n",
       "      <th></th>\n",
       "      <th>channel</th>\n",
       "      <th>prop_downloaded</th>\n",
       "    </tr>\n",
       "  </thead>\n",
       "  <tbody>\n",
       "    <tr>\n",
       "      <th>0</th>\n",
       "      <td>0</td>\n",
       "      <td>0.077345</td>\n",
       "    </tr>\n",
       "    <tr>\n",
       "      <th>1</th>\n",
       "      <td>3</td>\n",
       "      <td>0.000413</td>\n",
       "    </tr>\n",
       "    <tr>\n",
       "      <th>2</th>\n",
       "      <td>13</td>\n",
       "      <td>0.000121</td>\n",
       "    </tr>\n",
       "    <tr>\n",
       "      <th>3</th>\n",
       "      <td>15</td>\n",
       "      <td>0.000173</td>\n",
       "    </tr>\n",
       "    <tr>\n",
       "      <th>4</th>\n",
       "      <td>17</td>\n",
       "      <td>0.000188</td>\n",
       "    </tr>\n",
       "  </tbody>\n",
       "</table>\n",
       "</div>"
      ],
      "text/plain": [
       "   channel  prop_downloaded\n",
       "0        0         0.077345\n",
       "1        3         0.000413\n",
       "2       13         0.000121\n",
       "3       15         0.000173\n",
       "4       17         0.000188"
      ]
     },
     "execution_count": 113,
     "metadata": {},
     "output_type": "execute_result"
    }
   ],
   "source": [
    "proportion.head()"
   ]
  },
  {
   "cell_type": "code",
   "execution_count": 114,
   "metadata": {},
   "outputs": [
    {
     "data": {
      "text/plain": [
       "202"
      ]
     },
     "execution_count": 114,
     "metadata": {},
     "output_type": "execute_result"
    }
   ],
   "source": [
    "len(proportion)"
   ]
  },
  {
   "cell_type": "code",
   "execution_count": 115,
   "metadata": {},
   "outputs": [
    {
     "data": {
      "text/plain": [
       "['/home/sugihiro/workdir/git/bitbucket/learning_kaggle/TalkingData_AdTracking_Fraud_Detection_Challenge/data/interim/train_channel_isAttributed_proportion-0.csv']"
      ]
     },
     "execution_count": 115,
     "metadata": {},
     "output_type": "execute_result"
    }
   ],
   "source": [
    "# save\n",
    "proportion.to_csv(filename=str(interim_data_Path / (\"train_\"+fea+\"_isAttributed_proportion-*.csv\")))"
   ]
  },
  {
   "cell_type": "markdown",
   "metadata": {},
   "source": [
    "#### load proportion"
   ]
  },
  {
   "cell_type": "code",
   "execution_count": 116,
   "metadata": {},
   "outputs": [],
   "source": [
    "# load\n",
    "tmp = dd.read_csv(urlpath=str(interim_data_Path / (\"train_\"+fea+\"_isAttributed_proportion-0.csv\")),)\n",
    "proportion = tmp.drop(labels=tmp.columns[0], axis=1)\n",
    "del tmp"
   ]
  },
  {
   "cell_type": "markdown",
   "metadata": {},
   "source": [
    "### counts"
   ]
  },
  {
   "cell_type": "code",
   "execution_count": 117,
   "metadata": {
    "scrolled": true
   },
   "outputs": [],
   "source": [
    "n = 1000000  # 1000000 > 277396\n",
    "counts = df_train_tmp[[fea, 'is_attributed']].groupby(by=fea).count().reset_index().nlargest(n=n, columns='is_attributed').reset_index(drop=True)\n",
    "counts.columns = [fea, \"click_count\"]"
   ]
  },
  {
   "cell_type": "code",
   "execution_count": 118,
   "metadata": {},
   "outputs": [
    {
     "data": {
      "text/html": [
       "<div>\n",
       "<style scoped>\n",
       "    .dataframe tbody tr th:only-of-type {\n",
       "        vertical-align: middle;\n",
       "    }\n",
       "\n",
       "    .dataframe tbody tr th {\n",
       "        vertical-align: top;\n",
       "    }\n",
       "\n",
       "    .dataframe thead th {\n",
       "        text-align: right;\n",
       "    }\n",
       "</style>\n",
       "<table border=\"1\" class=\"dataframe\">\n",
       "  <thead>\n",
       "    <tr style=\"text-align: right;\">\n",
       "      <th></th>\n",
       "      <th>channel</th>\n",
       "      <th>click_count</th>\n",
       "    </tr>\n",
       "  </thead>\n",
       "  <tbody>\n",
       "    <tr>\n",
       "      <th>0</th>\n",
       "      <td>280</td>\n",
       "      <td>15065927</td>\n",
       "    </tr>\n",
       "    <tr>\n",
       "      <th>1</th>\n",
       "      <td>245</td>\n",
       "      <td>8873025</td>\n",
       "    </tr>\n",
       "    <tr>\n",
       "      <th>2</th>\n",
       "      <td>107</td>\n",
       "      <td>8457471</td>\n",
       "    </tr>\n",
       "    <tr>\n",
       "      <th>3</th>\n",
       "      <td>477</td>\n",
       "      <td>7188340</td>\n",
       "    </tr>\n",
       "    <tr>\n",
       "      <th>4</th>\n",
       "      <td>134</td>\n",
       "      <td>5924250</td>\n",
       "    </tr>\n",
       "  </tbody>\n",
       "</table>\n",
       "</div>"
      ],
      "text/plain": [
       "   channel  click_count\n",
       "0      280     15065927\n",
       "1      245      8873025\n",
       "2      107      8457471\n",
       "3      477      7188340\n",
       "4      134      5924250"
      ]
     },
     "execution_count": 118,
     "metadata": {},
     "output_type": "execute_result"
    }
   ],
   "source": [
    "counts.head()"
   ]
  },
  {
   "cell_type": "code",
   "execution_count": 119,
   "metadata": {},
   "outputs": [
    {
     "data": {
      "text/plain": [
       "202"
      ]
     },
     "execution_count": 119,
     "metadata": {},
     "output_type": "execute_result"
    }
   ],
   "source": [
    "len(counts)"
   ]
  },
  {
   "cell_type": "code",
   "execution_count": 120,
   "metadata": {},
   "outputs": [
    {
     "data": {
      "text/plain": [
       "['/home/sugihiro/workdir/git/bitbucket/learning_kaggle/TalkingData_AdTracking_Fraud_Detection_Challenge/data/interim/train_channel_isAttributed_counts-0.csv']"
      ]
     },
     "execution_count": 120,
     "metadata": {},
     "output_type": "execute_result"
    }
   ],
   "source": [
    "# save\n",
    "counts.to_csv(filename=str(interim_data_Path / (\"train_\"+fea+\"_isAttributed_counts-*.csv\")))"
   ]
  },
  {
   "cell_type": "markdown",
   "metadata": {},
   "source": [
    "#### load counts"
   ]
  },
  {
   "cell_type": "code",
   "execution_count": 121,
   "metadata": {},
   "outputs": [],
   "source": [
    "# load\n",
    "tmp = dd.read_csv(urlpath=str(interim_data_Path / (\"train_\"+fea+\"_isAttributed_counts-0.csv\")),)\n",
    "counts = tmp.drop(labels=tmp.columns[0], axis=1)\n",
    "del tmp"
   ]
  },
  {
   "cell_type": "markdown",
   "metadata": {},
   "source": [
    "## Merge"
   ]
  },
  {
   "cell_type": "code",
   "execution_count": 122,
   "metadata": {},
   "outputs": [],
   "source": [
    "df_merge = counts.merge(right=proportion, on=fea, how='left', )\n",
    "df_merge.columns = [fea, 'click_count', 'prop_downloaded']"
   ]
  },
  {
   "cell_type": "code",
   "execution_count": 123,
   "metadata": {
    "scrolled": true
   },
   "outputs": [
    {
     "data": {
      "text/html": [
       "<div>\n",
       "<style scoped>\n",
       "    .dataframe tbody tr th:only-of-type {\n",
       "        vertical-align: middle;\n",
       "    }\n",
       "\n",
       "    .dataframe tbody tr th {\n",
       "        vertical-align: top;\n",
       "    }\n",
       "\n",
       "    .dataframe thead th {\n",
       "        text-align: right;\n",
       "    }\n",
       "</style>\n",
       "<table border=\"1\" class=\"dataframe\">\n",
       "  <thead>\n",
       "    <tr style=\"text-align: right;\">\n",
       "      <th></th>\n",
       "      <th>channel</th>\n",
       "      <th>click_count</th>\n",
       "      <th>prop_downloaded</th>\n",
       "    </tr>\n",
       "  </thead>\n",
       "  <tbody>\n",
       "    <tr>\n",
       "      <th>0</th>\n",
       "      <td>280</td>\n",
       "      <td>15065927</td>\n",
       "      <td>0.000270</td>\n",
       "    </tr>\n",
       "    <tr>\n",
       "      <th>1</th>\n",
       "      <td>245</td>\n",
       "      <td>8873025</td>\n",
       "      <td>0.000093</td>\n",
       "    </tr>\n",
       "    <tr>\n",
       "      <th>2</th>\n",
       "      <td>107</td>\n",
       "      <td>8457471</td>\n",
       "      <td>0.000504</td>\n",
       "    </tr>\n",
       "    <tr>\n",
       "      <th>3</th>\n",
       "      <td>477</td>\n",
       "      <td>7188340</td>\n",
       "      <td>0.000169</td>\n",
       "    </tr>\n",
       "    <tr>\n",
       "      <th>4</th>\n",
       "      <td>134</td>\n",
       "      <td>5924250</td>\n",
       "      <td>0.000595</td>\n",
       "    </tr>\n",
       "  </tbody>\n",
       "</table>\n",
       "</div>"
      ],
      "text/plain": [
       "   channel  click_count  prop_downloaded\n",
       "0      280     15065927         0.000270\n",
       "1      245      8873025         0.000093\n",
       "2      107      8457471         0.000504\n",
       "3      477      7188340         0.000169\n",
       "4      134      5924250         0.000595"
      ]
     },
     "execution_count": 123,
     "metadata": {},
     "output_type": "execute_result"
    }
   ],
   "source": [
    "df_merge.head()"
   ]
  },
  {
   "cell_type": "markdown",
   "metadata": {},
   "source": [
    "## Plot"
   ]
  },
  {
   "cell_type": "markdown",
   "metadata": {},
   "source": [
    "### Most Popular"
   ]
  },
  {
   "cell_type": "code",
   "execution_count": 124,
   "metadata": {
    "scrolled": false
   },
   "outputs": [
    {
     "data": {
      "image/png": "[encoded data removed]",
      "text/plain": [
       "<matplotlib.figure.Figure at 0x7f9e0846c048>"
      ]
     },
     "metadata": {},
     "output_type": "display_data"
    }
   ],
   "source": [
    "title = \"Conversion_Rates_over_Counts_of_300_Most_Popular_\"+fea.upper()+\"s\"\n",
    "\n",
    "fig = plt.figure(figsize=(15, 6))\n",
    "ax1 = fig.add_subplot(1, 1, 1)\n",
    "\n",
    "\n",
    "ax1.set_yscale(\"linear\")\n",
    "ax1.yaxis.tick_left()\n",
    "df_merge[['click_count']][:n_plot].compute().plot(ax=ax1, color=\"blue\",)\n",
    "ax1.yaxis.set_label_position(\"left\")\n",
    "ax1.set_ylabel(ylabel='Count of clicks')\n",
    "ax1.legend(loc=3, bbox_to_anchor=(1.05, 1), borderaxespad=0.)\n",
    "\n",
    "ax2 = ax1.twinx()\n",
    "ax2.yaxis.tick_right()\n",
    "df_merge[['prop_downloaded']][:n_plot].compute().plot(ax=ax2, color=\"green\",)\n",
    "ax2.yaxis.set_label_position(\"right\")\n",
    "ax2.set_ylabel(ylabel='Proportion Downloaded')\n",
    "ax2.legend(loc=3, bbox_to_anchor=(1.05, 1 + 0.07), borderaxespad=0.)\n",
    "\n",
    "ax2.set_title(title)\n",
    "ax2.set_xlabel(\"Sort by \" + fea)\n",
    "fig.savefig(fname=str(data_Path / \"plot\" / title))\n",
    "plt.show()\n"
   ]
  },
  {
   "cell_type": "code",
   "execution_count": 125,
   "metadata": {},
   "outputs": [
    {
     "name": "stdout",
     "output_type": "stream",
     "text": [
      "    channel  click_count  prop_downloaded\n",
      "0       280     15065927         0.000270\n",
      "1       245      8873025         0.000093\n",
      "2       107      8457471         0.000504\n",
      "3       477      7188340         0.000169\n",
      "4       134      5924250         0.000595\n",
      "5       259      5787004         0.000442\n",
      "6       153      5537977         0.000138\n",
      "7       265      5446388         0.000134\n",
      "8       178      5271408         0.000119\n",
      "9       121      4692438         0.000438\n",
      "10      205      4359180         0.000120\n",
      "11      145      3583945         0.001533\n",
      "12      442      3574611         0.000358\n",
      "13      459      3477150         0.000197\n",
      "14      379      3402636         0.000335\n",
      "15      439      2901762         0.000457\n",
      "16      489      2711240         0.000569\n",
      "17      128      2703163         0.000204\n",
      "18      135      2663913         0.000125\n",
      "19      466      2655396         0.001111\n",
      "20      237      2632794         0.000230\n"
     ]
    }
   ],
   "source": [
    "print(df_merge[:20].compute())"
   ]
  },
  {
   "cell_type": "markdown",
   "metadata": {},
   "source": [
    "### Worst Popular"
   ]
  },
  {
   "cell_type": "code",
   "execution_count": 127,
   "metadata": {
    "scrolled": false
   },
   "outputs": [
    {
     "data": {
      "image/png": "[encoded data removed]",
      "text/plain": [
       "<matplotlib.figure.Figure at 0x7f9df748bcf8>"
      ]
     },
     "metadata": {},
     "output_type": "display_data"
    }
   ],
   "source": [
    "title = \"Conversion_Rates_over_Counts_of_300_Worst_Popular_\"+fea.upper()+\"s\"\n",
    "\n",
    "fig = plt.figure(figsize=(15, 6))\n",
    "ax1 = fig.add_subplot(1, 1, 1)\n",
    "\n",
    "n_plot = 50\n",
    "\n",
    "ax1.set_yscale(\"linear\")\n",
    "ax1.yaxis.tick_left()\n",
    "df_merge[['click_count']].compute()[-n_plot:].plot(ax=ax1, color=\"blue\", lw=2.0)\n",
    "ax1.yaxis.set_label_position(\"left\")\n",
    "ax1.set_ylabel(ylabel='Count of clicks')\n",
    "ax1.legend(loc=3, bbox_to_anchor=(1.05, 1), borderaxespad=0.)\n",
    "#ax1.set_ylim(bottom=-0.01, top=1.05*df_merge[['click_count']][-n:].max(axis=0)['click_count'])\n",
    "\n",
    "ax2 = ax1.twinx()\n",
    "ax2.yaxis.tick_right()\n",
    "df_merge[['prop_downloaded']].compute()[-n_plot:].plot(ax=ax2, color=\"green\", lw=2.0)\n",
    "ax2.yaxis.set_label_position(\"right\")\n",
    "ax2.set_ylabel(ylabel='Proportion Downloaded')\n",
    "ax2.legend(loc=3, bbox_to_anchor=(1.05, 1 + 0.07), borderaxespad=0.)\n",
    "\n",
    "ax2.set_title(title)\n",
    "ax2.set_xlabel(\"Sort by \" + fea)\n",
    "ax2.set_ylim(bottom=-0.01, top=1.05*df_merge[['prop_downloaded']].compute()[-n_plot:].max(axis=0)['prop_downloaded'])\n",
    "\n",
    "\n",
    "fig.savefig(fname=str(data_Path / \"plot\" / title))\n",
    "plt.show()\n"
   ]
  },
  {
   "cell_type": "code",
   "execution_count": 128,
   "metadata": {},
   "outputs": [
    {
     "name": "stdout",
     "output_type": "stream",
     "text": [
      "     channel  click_count  prop_downloaded\n",
      "182      162           12         0.083333\n",
      "183      238            9         0.000000\n",
      "184       29            6         0.000000\n",
      "185      473            5         0.000000\n",
      "186      475            3         0.000000\n",
      "187      165            2         0.000000\n",
      "188      142            2         0.000000\n",
      "189      149            2         0.000000\n",
      "190      476            2         0.000000\n",
      "191      221            1         0.000000\n",
      "192      434            1         0.000000\n",
      "193      146            1         0.000000\n",
      "194      354            1         0.000000\n",
      "195      394            1         0.000000\n",
      "196      422            1         0.000000\n",
      "197      227            1         0.000000\n",
      "198      172            1         0.000000\n",
      "199      470            1         0.000000\n",
      "200      217            1         0.000000\n",
      "201      500            1         0.000000\n"
     ]
    }
   ],
   "source": [
    "print(df_merge.compute()[-20:])"
   ]
  },
  {
   "cell_type": "code",
   "execution_count": 129,
   "metadata": {},
   "outputs": [
    {
     "data": {
      "text/plain": [
       "11898"
      ]
     },
     "execution_count": 129,
     "metadata": {},
     "output_type": "execute_result"
    }
   ],
   "source": [
    "gc.collect()"
   ]
  },
  {
   "cell_type": "code",
   "execution_count": null,
   "metadata": {},
   "outputs": [],
   "source": []
  }
 ],
 "metadata": {
  "kernelspec": {
   "display_name": "Python 3",
   "language": "python",
   "name": "python3"
  },
  "language_info": {
   "codemirror_mode": {
    "name": "ipython",
    "version": 3
   },
   "file_extension": ".py",
   "mimetype": "text/x-python",
   "name": "python",
   "nbconvert_exporter": "python",
   "pygments_lexer": "ipython3",
   "version": "3.5.2"
  },
  "toc": {
   "nav_menu": {},
   "number_sections": true,
   "sideBar": true,
   "skip_h1_title": false,
   "title_cell": "Table of Contents",
   "title_sidebar": "Contents",
   "toc_cell": true,
   "toc_position": {
    "height": "490px",
    "left": "358px",
    "top": "111px",
    "width": "263px"
   },
   "toc_section_display": true,
   "toc_window_display": true
  }
 },
 "nbformat": 4,
 "nbformat_minor": 2
}
